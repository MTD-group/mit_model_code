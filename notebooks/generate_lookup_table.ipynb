{
 "cells": [
  {
   "cell_type": "markdown",
   "metadata": {},
   "source": [
    "# Import packages and functions"
   ]
  },
  {
   "cell_type": "code",
   "execution_count": 1,
   "metadata": {},
   "outputs": [],
   "source": [
    "import sys\n",
    "# force the notebook to look for files in the upper level directory\n",
    "sys.path.insert(1, '../')"
   ]
  },
  {
   "cell_type": "code",
   "execution_count": 2,
   "metadata": {},
   "outputs": [],
   "source": [
    "import pandas as pd\n",
    "from glob import glob\n",
    "from requests_html import HTML\n",
    "from data.nist_html_parser import get_ionization_lookup"
   ]
  },
  {
   "cell_type": "markdown",
   "metadata": {},
   "source": [
    "# Process the HTML files in the raw_hist_html folder\n",
    "## Initialize an empty output dataframe"
   ]
  },
  {
   "cell_type": "code",
   "execution_count": 3,
   "metadata": {},
   "outputs": [],
   "source": [
    "df_output = pd.DataFrame()"
   ]
  },
  {
   "cell_type": "markdown",
   "metadata": {},
   "source": [
    "## Go through every HTML files in the raw_nist_html folder"
   ]
  },
  {
   "cell_type": "code",
   "execution_count": 4,
   "metadata": {},
   "outputs": [],
   "source": [
    "for file_path in glob(\"../data/ionization_energy/raw_nist_html/*.html\"):\n",
    "    # open the file and read in as HTML\n",
    "    with open(file_path) as html_file:\n",
    "        html = HTML(html=html_file.read())\n",
    "    \n",
    "    try:\n",
    "        # try to find the Element table with the attribute bgcolor\n",
    "        energy_table = html.find(\"table[bgcolor]\")[0]\n",
    "    except IndexError:\n",
    "        # if the HTML file does not contain the energy table, move on to the next file\n",
    "        continue\n",
    "\n",
    "    # parse the HTML file as a pandas dataframe\n",
    "    df_parsed = pd.read_html(energy_table.html)[0]\n",
    "    # convert the dataframe into a ionization energy lookup dataframe\n",
    "    df_to_add = get_ionization_lookup(df_parsed)\n",
    "    # append to the output dataframe\n",
    "    df_output = df_output.append(df_to_add, ignore_index=True)"
   ]
  },
  {
   "cell_type": "markdown",
   "metadata": {},
   "source": [
    "Here's a printout of the output dataframe"
   ]
  },
  {
   "cell_type": "code",
   "execution_count": 5,
   "metadata": {},
   "outputs": [
    {
     "data": {
      "text/html": [
       "<div>\n",
       "<style scoped>\n",
       "    .dataframe tbody tr th:only-of-type {\n",
       "        vertical-align: middle;\n",
       "    }\n",
       "\n",
       "    .dataframe tbody tr th {\n",
       "        vertical-align: top;\n",
       "    }\n",
       "\n",
       "    .dataframe thead th {\n",
       "        text-align: right;\n",
       "    }\n",
       "</style>\n",
       "<table border=\"1\" class=\"dataframe\">\n",
       "  <thead>\n",
       "    <tr style=\"text-align: right;\">\n",
       "      <th></th>\n",
       "      <th>element</th>\n",
       "      <th>v</th>\n",
       "      <th>iv</th>\n",
       "      <th>iv_p1</th>\n",
       "    </tr>\n",
       "  </thead>\n",
       "  <tbody>\n",
       "    <tr>\n",
       "      <th>0</th>\n",
       "      <td>Ac</td>\n",
       "      <td>1</td>\n",
       "      <td>5.380226</td>\n",
       "      <td>11.75000</td>\n",
       "    </tr>\n",
       "    <tr>\n",
       "      <th>1</th>\n",
       "      <td>Ac</td>\n",
       "      <td>2</td>\n",
       "      <td>11.750000</td>\n",
       "      <td>17.43100</td>\n",
       "    </tr>\n",
       "    <tr>\n",
       "      <th>2</th>\n",
       "      <td>Ac</td>\n",
       "      <td>3</td>\n",
       "      <td>17.431000</td>\n",
       "      <td>44.80000</td>\n",
       "    </tr>\n",
       "    <tr>\n",
       "      <th>3</th>\n",
       "      <td>Ag</td>\n",
       "      <td>1</td>\n",
       "      <td>7.576234</td>\n",
       "      <td>21.48440</td>\n",
       "    </tr>\n",
       "    <tr>\n",
       "      <th>4</th>\n",
       "      <td>Ag</td>\n",
       "      <td>2</td>\n",
       "      <td>21.484400</td>\n",
       "      <td>34.80000</td>\n",
       "    </tr>\n",
       "    <tr>\n",
       "      <th>...</th>\n",
       "      <td>...</td>\n",
       "      <td>...</td>\n",
       "      <td>...</td>\n",
       "      <td>...</td>\n",
       "    </tr>\n",
       "    <tr>\n",
       "      <th>334</th>\n",
       "      <td>Zn</td>\n",
       "      <td>2</td>\n",
       "      <td>17.964390</td>\n",
       "      <td>39.72330</td>\n",
       "    </tr>\n",
       "    <tr>\n",
       "      <th>335</th>\n",
       "      <td>Zr</td>\n",
       "      <td>1</td>\n",
       "      <td>6.634126</td>\n",
       "      <td>13.13000</td>\n",
       "    </tr>\n",
       "    <tr>\n",
       "      <th>336</th>\n",
       "      <td>Zr</td>\n",
       "      <td>2</td>\n",
       "      <td>13.130000</td>\n",
       "      <td>23.17000</td>\n",
       "    </tr>\n",
       "    <tr>\n",
       "      <th>337</th>\n",
       "      <td>Zr</td>\n",
       "      <td>3</td>\n",
       "      <td>23.170000</td>\n",
       "      <td>34.41836</td>\n",
       "    </tr>\n",
       "    <tr>\n",
       "      <th>338</th>\n",
       "      <td>Zr</td>\n",
       "      <td>4</td>\n",
       "      <td>34.418360</td>\n",
       "      <td>80.34800</td>\n",
       "    </tr>\n",
       "  </tbody>\n",
       "</table>\n",
       "<p>339 rows × 4 columns</p>\n",
       "</div>"
      ],
      "text/plain": [
       "    element  v         iv     iv_p1\n",
       "0        Ac  1   5.380226  11.75000\n",
       "1        Ac  2  11.750000  17.43100\n",
       "2        Ac  3  17.431000  44.80000\n",
       "3        Ag  1   7.576234  21.48440\n",
       "4        Ag  2  21.484400  34.80000\n",
       "..      ... ..        ...       ...\n",
       "334      Zn  2  17.964390  39.72330\n",
       "335      Zr  1   6.634126  13.13000\n",
       "336      Zr  2  13.130000  23.17000\n",
       "337      Zr  3  23.170000  34.41836\n",
       "338      Zr  4  34.418360  80.34800\n",
       "\n",
       "[339 rows x 4 columns]"
      ]
     },
     "execution_count": 5,
     "metadata": {},
     "output_type": "execute_result"
    }
   ],
   "source": [
    "# sort by element symbol and oxidation states\n",
    "df_output.sort_values(by=[\"element\", \"v\"], inplace=True, ignore_index=True)\n",
    "df_output"
   ]
  },
  {
   "cell_type": "markdown",
   "metadata": {},
   "source": [
    "## Lookup table codebook\n",
    "\n",
    "The following table shows the explanation for each column in the output dataframe\n",
    "\n",
    "|column name|explanation|\n",
    "|:----------|:----------|\n",
    "|element    |the element's symbol|\n",
    "|v          |the oxidation state|\n",
    "|iv         |the $v^{\\text{th}}$ ionization energy in $eV$|\n",
    "|iv_p1      |the $(v+1)^{\\text{th}}$ ionization energy in $eV$|"
   ]
  },
  {
   "cell_type": "markdown",
   "metadata": {},
   "source": [
    "# Save the dataframe as an excel spreadsheet"
   ]
  },
  {
   "cell_type": "code",
   "execution_count": 6,
   "metadata": {},
   "outputs": [],
   "source": [
    "df_output.to_excel(\"../data/ionization_energy/ionization_energy.xlsx\", index=False)"
   ]
  },
  {
   "cell_type": "markdown",
   "metadata": {},
   "source": [
    "# Data citation\n",
    "The original HTML files are scraped using the [nist_web_scraper](https://github.com/rpw199912j/mit_model_code/tree/master/data/nist_web_scaper.py) from the [NIST Atomic Spectra Database Ionization Energies Form](https://physics.nist.gov/PhysRefData/ASD/ionEnergy.html) website. Formal data citation is as follows."
   ]
  },
  {
   "cell_type": "markdown",
   "metadata": {},
   "source": [
    "Kramida, A., Ralchenko, Yu., Reader, J., and NIST ASD Team (2019). NIST Atomic Spectra Database (ver. 5.7.1), [Online]. Available: https://physics.nist.gov/asd [2020, August 2]. National Institute of Standards and Technology, Gaithersburg, MD. DOI: https://doi.org/10.18434/T4W30F"
   ]
  }
 ],
 "metadata": {
  "kernelspec": {
   "display_name": "PyCharm (mit_model_code)",
   "language": "python",
   "name": "pycharm-43a0cb91"
  },
  "language_info": {
   "codemirror_mode": {
    "name": "ipython",
    "version": 3
   },
   "file_extension": ".py",
   "mimetype": "text/x-python",
   "name": "python",
   "nbconvert_exporter": "python",
   "pygments_lexer": "ipython3",
   "version": "3.7.4"
  }
 },
 "nbformat": 4,
 "nbformat_minor": 4
}
