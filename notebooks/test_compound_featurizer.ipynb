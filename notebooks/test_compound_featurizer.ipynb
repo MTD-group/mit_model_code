{
 "cells": [
  {
   "cell_type": "code",
   "execution_count": 1,
   "metadata": {
    "collapsed": true
   },
   "outputs": [
    {
     "name": "stderr",
     "output_type": "stream",
     "text": [
      "/Library/Frameworks/Python.framework/Versions/3.7/lib/python3.7/site-packages/sklearn/utils/deprecation.py:144: FutureWarning:\n",
      "\n",
      "The sklearn.neighbors.unsupervised module is  deprecated in version 0.22 and will be removed in version 0.24. The corresponding classes / functions should instead be imported from sklearn.neighbors. Anything that cannot be imported from sklearn.neighbors is now part of the private API.\n",
      "\n",
      "/Library/Frameworks/Python.framework/Versions/3.7/lib/python3.7/site-packages/pymatgen/io/cif.py:1116: UserWarning:\n",
      "\n",
      "Issues encountered while parsing CIF: Some fractional co-ordinates rounded to ideal values to avoid issues with finite precision.\n",
      "\n"
     ]
    }
   ],
   "source": [
    "from data.compound_featurizer import read_new_struct, composition_featurizer, structure_featurizer"
   ]
  },
  {
   "cell_type": "code",
   "execution_count": 2,
   "outputs": [
    {
     "data": {
      "text/plain": "HBox(children=(FloatProgress(value=0.0, description='StrToComposition', max=1.0, style=ProgressStyle(descripti…",
      "application/vnd.jupyter.widget-view+json": {
       "version_major": 2,
       "version_minor": 0,
       "model_id": "aa86cf5d6a8e49c1addda1b883510cdb"
      }
     },
     "metadata": {},
     "output_type": "display_data"
    },
    {
     "name": "stdout",
     "output_type": "stream",
     "text": [
      "\n",
      "\n",
      "\n",
      "\n",
      "\n",
      "\n",
      "\n",
      "\n"
     ]
    },
    {
     "data": {
      "text/plain": "HBox(children=(FloatProgress(value=0.0, description='ElementProperty', max=1.0, style=ProgressStyle(descriptio…",
      "application/vnd.jupyter.widget-view+json": {
       "version_major": 2,
       "version_minor": 0,
       "model_id": "6e07ef34f596464bbf841232d7c40f3c"
      }
     },
     "metadata": {},
     "output_type": "display_data"
    },
    {
     "data": {
      "text/plain": "HBox(children=(FloatProgress(value=0.0, description='CompositionToOxidComposition', max=1.0, style=ProgressSty…",
      "application/vnd.jupyter.widget-view+json": {
       "version_major": 2,
       "version_minor": 0,
       "model_id": "5179b1edd41643df8d7a1ec5f1ca9c79"
      }
     },
     "metadata": {},
     "output_type": "display_data"
    },
    {
     "data": {
      "text/plain": "HBox(children=(FloatProgress(value=0.0, description='OxidationStates', max=1.0, style=ProgressStyle(descriptio…",
      "application/vnd.jupyter.widget-view+json": {
       "version_major": 2,
       "version_minor": 0,
       "model_id": "521304b6114a48c9a3423fec9c6eed22"
      }
     },
     "metadata": {},
     "output_type": "display_data"
    },
    {
     "data": {
      "text/plain": "HBox(children=(FloatProgress(value=0.0, description='StructureToOxidStructure', max=1.0, style=ProgressStyle(d…",
      "application/vnd.jupyter.widget-view+json": {
       "version_major": 2,
       "version_minor": 0,
       "model_id": "d6fde28873544c87af8f12be74bf42de"
      }
     },
     "metadata": {},
     "output_type": "display_data"
    },
    {
     "data": {
      "text/plain": "HBox(children=(FloatProgress(value=0.0, description='EwaldEnergy', max=1.0, style=ProgressStyle(description_wi…",
      "application/vnd.jupyter.widget-view+json": {
       "version_major": 2,
       "version_minor": 0,
       "model_id": "32ec16dbc1c44bf1b8bc0cbb0baa11ad"
      }
     },
     "metadata": {},
     "output_type": "display_data"
    },
    {
     "data": {
      "text/plain": "HBox(children=(FloatProgress(value=0.0, description='StructuralHeterogeneity', max=1.0, style=ProgressStyle(de…",
      "application/vnd.jupyter.widget-view+json": {
       "version_major": 2,
       "version_minor": 0,
       "model_id": "edc91ccd390048e9a33312339dd85d3f"
      }
     },
     "metadata": {},
     "output_type": "display_data"
    },
    {
     "data": {
      "text/plain": "HBox(children=(FloatProgress(value=0.0, description='GlobalInstabilityIndex', max=1.0, style=ProgressStyle(des…",
      "application/vnd.jupyter.widget-view+json": {
       "version_major": 2,
       "version_minor": 0,
       "model_id": "15a23352f95f49fa940e8259c3e314bb"
      }
     },
     "metadata": {},
     "output_type": "display_data"
    },
    {
     "data": {
      "text/plain": "  Compound                                          structure  composition  \\\n0   SrRuO3  [[2.86047311 1.96178    2.79521159] Sr2+, [0.0...  (Sr, Ru, O)   \n\n   MagpieData minimum Number  MagpieData maximum Number  \\\n0                        8.0                       44.0   \n\n   MagpieData range Number  MagpieData mean Number  MagpieData avg_dev Number  \\\n0                     36.0                    21.2                      15.84   \n\n   MagpieData mode Number  MagpieData minimum MendeleevNumber  ...  \\\n0                     8.0                                 8.0  ...   \n\n   mean absolute deviation in relative bond length  max relative bond length  \\\n0                                         0.079941                  1.094684   \n\n   min relative bond length  minimum neighbor distance variation  \\\n0                  0.800147                             0.003832   \n\n   maximum neighbor distance variation  range neighbor distance variation  \\\n0                             0.125982                            0.12215   \n\n   mean neighbor distance variation  avg_dev neighbor distance variation  \\\n0                           0.08701                             0.046228   \n\n   mean absolute deviation in relative cell size       gii  \n0                                        0.14149  0.155206  \n\n[1 rows x 152 columns]",
      "text/html": "<div>\n<style scoped>\n    .dataframe tbody tr th:only-of-type {\n        vertical-align: middle;\n    }\n\n    .dataframe tbody tr th {\n        vertical-align: top;\n    }\n\n    .dataframe thead th {\n        text-align: right;\n    }\n</style>\n<table border=\"1\" class=\"dataframe\">\n  <thead>\n    <tr style=\"text-align: right;\">\n      <th></th>\n      <th>Compound</th>\n      <th>structure</th>\n      <th>composition</th>\n      <th>MagpieData minimum Number</th>\n      <th>MagpieData maximum Number</th>\n      <th>MagpieData range Number</th>\n      <th>MagpieData mean Number</th>\n      <th>MagpieData avg_dev Number</th>\n      <th>MagpieData mode Number</th>\n      <th>MagpieData minimum MendeleevNumber</th>\n      <th>...</th>\n      <th>mean absolute deviation in relative bond length</th>\n      <th>max relative bond length</th>\n      <th>min relative bond length</th>\n      <th>minimum neighbor distance variation</th>\n      <th>maximum neighbor distance variation</th>\n      <th>range neighbor distance variation</th>\n      <th>mean neighbor distance variation</th>\n      <th>avg_dev neighbor distance variation</th>\n      <th>mean absolute deviation in relative cell size</th>\n      <th>gii</th>\n    </tr>\n  </thead>\n  <tbody>\n    <tr>\n      <th>0</th>\n      <td>SrRuO3</td>\n      <td>[[2.86047311 1.96178    2.79521159] Sr2+, [0.0...</td>\n      <td>(Sr, Ru, O)</td>\n      <td>8.0</td>\n      <td>44.0</td>\n      <td>36.0</td>\n      <td>21.2</td>\n      <td>15.84</td>\n      <td>8.0</td>\n      <td>8.0</td>\n      <td>...</td>\n      <td>0.079941</td>\n      <td>1.094684</td>\n      <td>0.800147</td>\n      <td>0.003832</td>\n      <td>0.125982</td>\n      <td>0.12215</td>\n      <td>0.08701</td>\n      <td>0.046228</td>\n      <td>0.14149</td>\n      <td>0.155206</td>\n    </tr>\n  </tbody>\n</table>\n<p>1 rows × 152 columns</p>\n</div>"
     },
     "execution_count": 2,
     "metadata": {},
     "output_type": "execute_result"
    }
   ],
   "source": [
    "TEST_STRUCT_PATH = \"../Structures/Metals/SrRuO3_75561.cif\"\n",
    "\n",
    "test_df = read_new_struct(TEST_STRUCT_PATH)\n",
    "test_df = composition_featurizer(test_df)\n",
    "test_df = structure_featurizer(test_df)\n",
    "test_df"
   ],
   "metadata": {
    "collapsed": false,
    "pycharm": {
     "name": "#%%\n"
    }
   }
  },
  {
   "cell_type": "code",
   "execution_count": 7,
   "outputs": [],
   "source": [
    "\n"
   ],
   "metadata": {
    "collapsed": false,
    "pycharm": {
     "name": "#%%\n"
    }
   }
  }
 ],
 "metadata": {
  "kernelspec": {
   "display_name": "Python 3",
   "language": "python",
   "name": "python3"
  },
  "language_info": {
   "codemirror_mode": {
    "name": "ipython",
    "version": 2
   },
   "file_extension": ".py",
   "mimetype": "text/x-python",
   "name": "python",
   "nbconvert_exporter": "python",
   "pygments_lexer": "ipython2",
   "version": "2.7.6"
  }
 },
 "nbformat": 4,
 "nbformat_minor": 0
}