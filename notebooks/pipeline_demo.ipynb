{
 "cells": [
  {
   "cell_type": "markdown",
   "metadata": {},
   "source": [
    "# Introduction\n",
    "\n",
    "This notebook demostrates the prediction pipeline for the trained classifiers. With the 3 pretrained classifiers, you can easily classify a new structure that is not included in the original training set.\n",
    "\n",
    "**Note**: For easier readability, you can change the fontsize of this notebook by navigating to `Settings` -> `JupyterLab Theme` and increasing or decreasing the fontsize from the dropdown menu."
   ]
  },
  {
   "cell_type": "markdown",
   "metadata": {},
   "source": [
    "# Import packages and functions"
   ]
  },
  {
   "cell_type": "code",
   "execution_count": 1,
   "metadata": {},
   "outputs": [],
   "source": [
    "import sys\n",
    "# force the notebook to look for files in the upper level directory\n",
    "sys.path.insert(1, '../')"
   ]
  },
  {
   "cell_type": "code",
   "execution_count": 2,
   "metadata": {},
   "outputs": [],
   "source": [
    "import shap\n",
    "import pandas as pd\n",
    "import xgboost as xgb\n",
    "import seaborn as sns\n",
    "import matplotlib.pyplot as plt\n",
    "from model.model_building import load_data\n",
    "from data.data_cleaning import abbreviate_features\n",
    "from data.compound_featurizer import read_new_struct, composition_featurizer, structure_featurizer, handbuilt_featurizer"
   ]
  },
  {
   "cell_type": "markdown",
   "metadata": {},
   "source": [
    "# Set up constants\n",
    "The `PROCESSED_PATH` contains the training dataset used to construct the classifiers. The `NEW_STRUCT_PATH` contains the demo cif structure file and you can test your own structure by uploading the cif file to the \"user_defined_structures\" folder and changing the `NEW_STRUCT_PATH`. You can save time by pressing <kbd>⇥ Tab</kbd> for auto-completion after typing the first few words.\n",
    "\n",
    "**Note**: If you choose to upload your own cif structure file, it is preferable that the structure already has an oxidation state assigned to each site. If not, the featurizer will try to guess the oxidation states using the [oxi_state_guesses()](https://pymatgen.org/pymatgen.core.composition.html?highlight=oxi_state_guesses#pymatgen.core.composition.Composition.oxi_state_guesses) function from Pymatgen. There is no guarantee that the guessed oxidation states will be correct and the script will also ask for user input if it is unable to guess the oxidation states. In addition, the uploaded structure has to have at least **2 different elements** (i.e. at least a binary compound). A single element structure such as Si will lead to an error in the script.\n",
    "\n",
    "There are two demo structures: CuNiO$_2$ and CaFeO$_3$ for you to try out and they are not present in the training database. The featurizer can guess the oxidation states for CuNiO$_2$, but not for CaFeO$_3$. If you run the script with CaFeO$_3$, you will be asked to manually assign the oxidation states by element."
   ]
  },
  {
   "cell_type": "code",
   "execution_count": 3,
   "metadata": {},
   "outputs": [],
   "source": [
    "PROCESSED_PATH = \"../data/processed/IMT_Classification_Dataset_Processed_v4.xlsx\"\n",
    "NEW_STRUCT_PATH = \"../notebooks/user_defined_structures/CuNiO2_mp-1178372_primitive.cif\""
   ]
  },
  {
   "cell_type": "markdown",
   "metadata": {},
   "source": [
    "# Define some helper functions"
   ]
  },
  {
   "cell_type": "code",
   "execution_count": 4,
   "metadata": {},
   "outputs": [],
   "source": [
    "def assign_oxi_state(elem_symbol):\n",
    "    \"\"\"Allow the user to assign oxidation state to each element.\"\"\"\n",
    "    oxi_state = input(\"{}:\".format(elem_symbol))\n",
    "    return float(oxi_state)\n",
    "\n",
    "def check_oxi_state(structure):\n",
    "    \"\"\"Check if the guessed oxidation states are all zero. If so, trigger user input.\"\"\"\n",
    "    if not structure.composition.oxi_state_guesses():\n",
    "        # get all the elements in the input structure\n",
    "        elem_lst = [element.symbol for element in structure.composition.element_composition.elements]\n",
    "        # get the reduced formula\n",
    "        reduced_formula = structure.composition.reduced_formula\n",
    "        print(\"Unable to guess oxidation states for {}. Please manually assign oxidation states by element\".format(reduced_formula))\n",
    "        # get a dictionary to overwrite the default guessed oxidation states\n",
    "        elem_oxi_states = {elem_symbol: [assign_oxi_state(elem_symbol)] for elem_symbol in elem_lst}\n",
    "        return elem_oxi_states\n",
    "    return None\n",
    "\n",
    "def featurizer_wrapper(df_input):\n",
    "    \"\"\"A wrapper function around the composition, structure and handbuilt featurizers.\"\"\"\n",
    "    # get the structure from the initialized dataframe\n",
    "    new_struct = df_input.at[0, \"structure\"]\n",
    "    # check if the guessed oxidation states are all zeros and allow user-overwrite if true\n",
    "    oxi_states_by_element = check_oxi_state(new_struct)\n",
    "    # featurize the given structure using 3 predefined featurizers\n",
    "    df_output = composition_featurizer(df_input, oxi_states_override=oxi_states_by_element)\n",
    "    df_output = structure_featurizer(df_output, oxi_states_override=oxi_states_by_element)\n",
    "    df_output = handbuilt_featurizer(df_output)\n",
    "    return df_output"
   ]
  },
  {
   "cell_type": "markdown",
   "metadata": {},
   "source": [
    "# Read in the processed data\n",
    "\n",
    "This is a quick overview of the training dataset. It will be used later on to select the relevant features from the raw output of the featurizer."
   ]
  },
  {
   "cell_type": "code",
   "execution_count": 5,
   "metadata": {},
   "outputs": [
    {
     "data": {
      "text/html": [
       "<div>\n",
       "<style scoped>\n",
       "    .dataframe tbody tr th:only-of-type {\n",
       "        vertical-align: middle;\n",
       "    }\n",
       "\n",
       "    .dataframe tbody tr th {\n",
       "        vertical-align: top;\n",
       "    }\n",
       "\n",
       "    .dataframe thead th {\n",
       "        text-align: right;\n",
       "    }\n",
       "</style>\n",
       "<table border=\"1\" class=\"dataframe\">\n",
       "  <thead>\n",
       "    <tr style=\"text-align: right;\">\n",
       "      <th></th>\n",
       "      <th>Compound</th>\n",
       "      <th>Label</th>\n",
       "      <th>struct_file_path</th>\n",
       "      <th>range MendeleevNumber</th>\n",
       "      <th>avg_dev MendeleevNumber</th>\n",
       "      <th>range AtomicWeight</th>\n",
       "      <th>mean AtomicWeight</th>\n",
       "      <th>avg_dev AtomicWeight</th>\n",
       "      <th>range MeltingT</th>\n",
       "      <th>mean MeltingT</th>\n",
       "      <th>...</th>\n",
       "      <th>max_xx_dists</th>\n",
       "      <th>min_xx_dists</th>\n",
       "      <th>avg_xx_dists</th>\n",
       "      <th>v_m</th>\n",
       "      <th>v_x</th>\n",
       "      <th>iv</th>\n",
       "      <th>iv_p1</th>\n",
       "      <th>est_hubbard_u</th>\n",
       "      <th>est_charge_trans</th>\n",
       "      <th>volumn_per_sites</th>\n",
       "    </tr>\n",
       "  </thead>\n",
       "  <tbody>\n",
       "    <tr>\n",
       "      <th>0</th>\n",
       "      <td>SrRuO3</td>\n",
       "      <td>0</td>\n",
       "      <td>../data/Structures/Metals/SrRuO3_75561.cif</td>\n",
       "      <td>79</td>\n",
       "      <td>26.400000</td>\n",
       "      <td>85.07060</td>\n",
       "      <td>47.337640</td>\n",
       "      <td>37.605888</td>\n",
       "      <td>2552.20</td>\n",
       "      <td>764.280000</td>\n",
       "      <td>...</td>\n",
       "      <td>3.579973</td>\n",
       "      <td>2.760023</td>\n",
       "      <td>2.947568</td>\n",
       "      <td>-44.758483</td>\n",
       "      <td>23.738172</td>\n",
       "      <td>45.000000</td>\n",
       "      <td>59.00000</td>\n",
       "      <td>10.330721</td>\n",
       "      <td>8.527722</td>\n",
       "      <td>12.089967</td>\n",
       "    </tr>\n",
       "    <tr>\n",
       "      <th>1</th>\n",
       "      <td>OsO2</td>\n",
       "      <td>0</td>\n",
       "      <td>../data/Structures/Metals/OsO2_15070.cif</td>\n",
       "      <td>30</td>\n",
       "      <td>13.333333</td>\n",
       "      <td>174.23060</td>\n",
       "      <td>74.076267</td>\n",
       "      <td>77.435822</td>\n",
       "      <td>3251.20</td>\n",
       "      <td>1138.533333</td>\n",
       "      <td>...</td>\n",
       "      <td>2.805520</td>\n",
       "      <td>2.442651</td>\n",
       "      <td>2.684563</td>\n",
       "      <td>-44.387080</td>\n",
       "      <td>25.269881</td>\n",
       "      <td>41.000000</td>\n",
       "      <td>55.00000</td>\n",
       "      <td>9.953087</td>\n",
       "      <td>13.687053</td>\n",
       "      <td>10.747095</td>\n",
       "    </tr>\n",
       "    <tr>\n",
       "      <th>2</th>\n",
       "      <td>SrLaCuO4</td>\n",
       "      <td>0</td>\n",
       "      <td>../data/Structures/Metals/LaSrCuO4_10252.cif</td>\n",
       "      <td>79</td>\n",
       "      <td>29.346939</td>\n",
       "      <td>122.90607</td>\n",
       "      <td>50.581296</td>\n",
       "      <td>39.522167</td>\n",
       "      <td>1302.97</td>\n",
       "      <td>545.710000</td>\n",
       "      <td>...</td>\n",
       "      <td>3.421841</td>\n",
       "      <td>2.662257</td>\n",
       "      <td>2.966018</td>\n",
       "      <td>-36.448400</td>\n",
       "      <td>23.905465</td>\n",
       "      <td>36.841000</td>\n",
       "      <td>57.38000</td>\n",
       "      <td>18.524833</td>\n",
       "      <td>8.820620</td>\n",
       "      <td>13.436088</td>\n",
       "    </tr>\n",
       "    <tr>\n",
       "      <th>3</th>\n",
       "      <td>SrCrO3</td>\n",
       "      <td>0</td>\n",
       "      <td>../data/Structures/Metals/SrCrO3_245834.cif</td>\n",
       "      <td>79</td>\n",
       "      <td>28.080000</td>\n",
       "      <td>71.62060</td>\n",
       "      <td>37.522860</td>\n",
       "      <td>25.828152</td>\n",
       "      <td>2125.20</td>\n",
       "      <td>678.880000</td>\n",
       "      <td>...</td>\n",
       "      <td>2.701006</td>\n",
       "      <td>2.701006</td>\n",
       "      <td>2.701006</td>\n",
       "      <td>-46.659812</td>\n",
       "      <td>24.337085</td>\n",
       "      <td>49.160000</td>\n",
       "      <td>69.46000</td>\n",
       "      <td>16.530261</td>\n",
       "      <td>6.586603</td>\n",
       "      <td>11.146843</td>\n",
       "    </tr>\n",
       "    <tr>\n",
       "      <th>4</th>\n",
       "      <td>CrO2</td>\n",
       "      <td>0</td>\n",
       "      <td>../data/Structures/Metals/CrO2_202836.cif</td>\n",
       "      <td>38</td>\n",
       "      <td>16.888889</td>\n",
       "      <td>35.99670</td>\n",
       "      <td>27.998300</td>\n",
       "      <td>15.998533</td>\n",
       "      <td>2125.20</td>\n",
       "      <td>763.200000</td>\n",
       "      <td>...</td>\n",
       "      <td>2.688819</td>\n",
       "      <td>2.471404</td>\n",
       "      <td>2.616347</td>\n",
       "      <td>-46.102564</td>\n",
       "      <td>26.561430</td>\n",
       "      <td>49.160000</td>\n",
       "      <td>69.46000</td>\n",
       "      <td>16.126339</td>\n",
       "      <td>8.219417</td>\n",
       "      <td>9.504907</td>\n",
       "    </tr>\n",
       "    <tr>\n",
       "      <th>...</th>\n",
       "      <td>...</td>\n",
       "      <td>...</td>\n",
       "      <td>...</td>\n",
       "      <td>...</td>\n",
       "      <td>...</td>\n",
       "      <td>...</td>\n",
       "      <td>...</td>\n",
       "      <td>...</td>\n",
       "      <td>...</td>\n",
       "      <td>...</td>\n",
       "      <td>...</td>\n",
       "      <td>...</td>\n",
       "      <td>...</td>\n",
       "      <td>...</td>\n",
       "      <td>...</td>\n",
       "      <td>...</td>\n",
       "      <td>...</td>\n",
       "      <td>...</td>\n",
       "      <td>...</td>\n",
       "      <td>...</td>\n",
       "      <td>...</td>\n",
       "    </tr>\n",
       "    <tr>\n",
       "      <th>223</th>\n",
       "      <td>YbFe4(CuO4)3</td>\n",
       "      <td>2</td>\n",
       "      <td>../data/Structures/MIT_materials/HighT/YbCu3Fe...</td>\n",
       "      <td>48</td>\n",
       "      <td>14.700000</td>\n",
       "      <td>157.05460</td>\n",
       "      <td>38.953240</td>\n",
       "      <td>27.544608</td>\n",
       "      <td>1756.20</td>\n",
       "      <td>653.345500</td>\n",
       "      <td>...</td>\n",
       "      <td>2.924013</td>\n",
       "      <td>2.552849</td>\n",
       "      <td>2.744642</td>\n",
       "      <td>-33.639068</td>\n",
       "      <td>24.360992</td>\n",
       "      <td>36.841000</td>\n",
       "      <td>57.38000</td>\n",
       "      <td>16.597335</td>\n",
       "      <td>7.361181</td>\n",
       "      <td>9.750947</td>\n",
       "    </tr>\n",
       "    <tr>\n",
       "      <th>224</th>\n",
       "      <td>NiSeS</td>\n",
       "      <td>2</td>\n",
       "      <td>../data/Structures/MIT_materials/HighT/NiS(2-x...</td>\n",
       "      <td>28</td>\n",
       "      <td>12.222222</td>\n",
       "      <td>46.89500</td>\n",
       "      <td>56.572800</td>\n",
       "      <td>16.338533</td>\n",
       "      <td>1339.64</td>\n",
       "      <td>870.120000</td>\n",
       "      <td>...</td>\n",
       "      <td>3.287898</td>\n",
       "      <td>2.376963</td>\n",
       "      <td>3.060164</td>\n",
       "      <td>-18.496007</td>\n",
       "      <td>9.778249</td>\n",
       "      <td>18.168838</td>\n",
       "      <td>35.18700</td>\n",
       "      <td>13.516153</td>\n",
       "      <td>8.891048</td>\n",
       "      <td>16.385810</td>\n",
       "    </tr>\n",
       "    <tr>\n",
       "      <th>225</th>\n",
       "      <td>Ti2O3</td>\n",
       "      <td>2</td>\n",
       "      <td>../data/Structures/MIT_materials/HighT/Ti2O3_H...</td>\n",
       "      <td>44</td>\n",
       "      <td>21.120000</td>\n",
       "      <td>31.86760</td>\n",
       "      <td>28.746440</td>\n",
       "      <td>15.296448</td>\n",
       "      <td>1886.20</td>\n",
       "      <td>809.280000</td>\n",
       "      <td>...</td>\n",
       "      <td>2.900002</td>\n",
       "      <td>2.771288</td>\n",
       "      <td>2.844355</td>\n",
       "      <td>-33.753924</td>\n",
       "      <td>24.648770</td>\n",
       "      <td>27.491710</td>\n",
       "      <td>43.26717</td>\n",
       "      <td>11.068473</td>\n",
       "      <td>16.169806</td>\n",
       "      <td>10.490597</td>\n",
       "    </tr>\n",
       "    <tr>\n",
       "      <th>226</th>\n",
       "      <td>Ca1.2La2.8Mn4O12</td>\n",
       "      <td>2</td>\n",
       "      <td>../data/Structures/MIT_materials/HighT/La0.7Ca...</td>\n",
       "      <td>80</td>\n",
       "      <td>26.592000</td>\n",
       "      <td>122.90607</td>\n",
       "      <td>42.438695</td>\n",
       "      <td>32.010437</td>\n",
       "      <td>1464.20</td>\n",
       "      <td>570.600000</td>\n",
       "      <td>...</td>\n",
       "      <td>3.516261</td>\n",
       "      <td>2.747250</td>\n",
       "      <td>2.906344</td>\n",
       "      <td>-39.888114</td>\n",
       "      <td>22.934073</td>\n",
       "      <td>38.930600</td>\n",
       "      <td>57.57000</td>\n",
       "      <td>14.915598</td>\n",
       "      <td>8.843086</td>\n",
       "      <td>11.576092</td>\n",
       "    </tr>\n",
       "    <tr>\n",
       "      <th>227</th>\n",
       "      <td>VO2</td>\n",
       "      <td>2</td>\n",
       "      <td>../data/Structures/MIT_materials/HighT/VO2_HT_...</td>\n",
       "      <td>41</td>\n",
       "      <td>18.222222</td>\n",
       "      <td>34.94210</td>\n",
       "      <td>27.646767</td>\n",
       "      <td>15.529822</td>\n",
       "      <td>2128.20</td>\n",
       "      <td>764.200000</td>\n",
       "      <td>...</td>\n",
       "      <td>2.725617</td>\n",
       "      <td>2.575183</td>\n",
       "      <td>2.675472</td>\n",
       "      <td>-45.333235</td>\n",
       "      <td>26.337259</td>\n",
       "      <td>46.709000</td>\n",
       "      <td>65.28165</td>\n",
       "      <td>14.484546</td>\n",
       "      <td>9.779242</td>\n",
       "      <td>9.863262</td>\n",
       "    </tr>\n",
       "  </tbody>\n",
       "</table>\n",
       "<p>228 rows × 96 columns</p>\n",
       "</div>"
      ],
      "text/plain": [
       "             Compound  Label  \\\n",
       "0              SrRuO3      0   \n",
       "1                OsO2      0   \n",
       "2            SrLaCuO4      0   \n",
       "3              SrCrO3      0   \n",
       "4                CrO2      0   \n",
       "..                ...    ...   \n",
       "223      YbFe4(CuO4)3      2   \n",
       "224             NiSeS      2   \n",
       "225             Ti2O3      2   \n",
       "226  Ca1.2La2.8Mn4O12      2   \n",
       "227               VO2      2   \n",
       "\n",
       "                                      struct_file_path  range MendeleevNumber  \\\n",
       "0           ../data/Structures/Metals/SrRuO3_75561.cif                     79   \n",
       "1             ../data/Structures/Metals/OsO2_15070.cif                     30   \n",
       "2         ../data/Structures/Metals/LaSrCuO4_10252.cif                     79   \n",
       "3          ../data/Structures/Metals/SrCrO3_245834.cif                     79   \n",
       "4            ../data/Structures/Metals/CrO2_202836.cif                     38   \n",
       "..                                                 ...                    ...   \n",
       "223  ../data/Structures/MIT_materials/HighT/YbCu3Fe...                     48   \n",
       "224  ../data/Structures/MIT_materials/HighT/NiS(2-x...                     28   \n",
       "225  ../data/Structures/MIT_materials/HighT/Ti2O3_H...                     44   \n",
       "226  ../data/Structures/MIT_materials/HighT/La0.7Ca...                     80   \n",
       "227  ../data/Structures/MIT_materials/HighT/VO2_HT_...                     41   \n",
       "\n",
       "     avg_dev MendeleevNumber  range AtomicWeight  mean AtomicWeight  \\\n",
       "0                  26.400000            85.07060          47.337640   \n",
       "1                  13.333333           174.23060          74.076267   \n",
       "2                  29.346939           122.90607          50.581296   \n",
       "3                  28.080000            71.62060          37.522860   \n",
       "4                  16.888889            35.99670          27.998300   \n",
       "..                       ...                 ...                ...   \n",
       "223                14.700000           157.05460          38.953240   \n",
       "224                12.222222            46.89500          56.572800   \n",
       "225                21.120000            31.86760          28.746440   \n",
       "226                26.592000           122.90607          42.438695   \n",
       "227                18.222222            34.94210          27.646767   \n",
       "\n",
       "     avg_dev AtomicWeight  range MeltingT  mean MeltingT  ...  max_xx_dists  \\\n",
       "0               37.605888         2552.20     764.280000  ...      3.579973   \n",
       "1               77.435822         3251.20    1138.533333  ...      2.805520   \n",
       "2               39.522167         1302.97     545.710000  ...      3.421841   \n",
       "3               25.828152         2125.20     678.880000  ...      2.701006   \n",
       "4               15.998533         2125.20     763.200000  ...      2.688819   \n",
       "..                    ...             ...            ...  ...           ...   \n",
       "223             27.544608         1756.20     653.345500  ...      2.924013   \n",
       "224             16.338533         1339.64     870.120000  ...      3.287898   \n",
       "225             15.296448         1886.20     809.280000  ...      2.900002   \n",
       "226             32.010437         1464.20     570.600000  ...      3.516261   \n",
       "227             15.529822         2128.20     764.200000  ...      2.725617   \n",
       "\n",
       "     min_xx_dists  avg_xx_dists        v_m        v_x         iv     iv_p1  \\\n",
       "0        2.760023      2.947568 -44.758483  23.738172  45.000000  59.00000   \n",
       "1        2.442651      2.684563 -44.387080  25.269881  41.000000  55.00000   \n",
       "2        2.662257      2.966018 -36.448400  23.905465  36.841000  57.38000   \n",
       "3        2.701006      2.701006 -46.659812  24.337085  49.160000  69.46000   \n",
       "4        2.471404      2.616347 -46.102564  26.561430  49.160000  69.46000   \n",
       "..            ...           ...        ...        ...        ...       ...   \n",
       "223      2.552849      2.744642 -33.639068  24.360992  36.841000  57.38000   \n",
       "224      2.376963      3.060164 -18.496007   9.778249  18.168838  35.18700   \n",
       "225      2.771288      2.844355 -33.753924  24.648770  27.491710  43.26717   \n",
       "226      2.747250      2.906344 -39.888114  22.934073  38.930600  57.57000   \n",
       "227      2.575183      2.675472 -45.333235  26.337259  46.709000  65.28165   \n",
       "\n",
       "     est_hubbard_u  est_charge_trans  volumn_per_sites  \n",
       "0        10.330721          8.527722         12.089967  \n",
       "1         9.953087         13.687053         10.747095  \n",
       "2        18.524833          8.820620         13.436088  \n",
       "3        16.530261          6.586603         11.146843  \n",
       "4        16.126339          8.219417          9.504907  \n",
       "..             ...               ...               ...  \n",
       "223      16.597335          7.361181          9.750947  \n",
       "224      13.516153          8.891048         16.385810  \n",
       "225      11.068473         16.169806         10.490597  \n",
       "226      14.915598          8.843086         11.576092  \n",
       "227      14.484546          9.779242          9.863262  \n",
       "\n",
       "[228 rows x 96 columns]"
      ]
     },
     "execution_count": 5,
     "metadata": {},
     "output_type": "execute_result"
    }
   ],
   "source": [
    "df = pd.read_excel(PROCESSED_PATH)\n",
    "df"
   ]
  },
  {
   "cell_type": "markdown",
   "metadata": {},
   "source": [
    "# Make a prediction on a never-seen-before structure\n",
    "\n",
    "## 1. Load the three trained models"
   ]
  },
  {
   "cell_type": "code",
   "execution_count": 6,
   "metadata": {},
   "outputs": [],
   "source": [
    "# load the metal vs. non_metal classifier\n",
    "metal_model = xgb.XGBClassifier()\n",
    "metal_model.load_model(\"../model/saved_models/new_models/metal.model\")\n",
    "\n",
    "# load the insulator vs. non_insulator classifier\n",
    "insulator_model = xgb.XGBClassifier()\n",
    "insulator_model.load_model(\"../model/saved_models/new_models/insulator.model\")\n",
    "\n",
    "# load the mit vs. non_mit classifier\n",
    "mit_model = xgb.XGBClassifier()\n",
    "mit_model.load_model(\"../model/saved_models/new_models/mit.model\")"
   ]
  },
  {
   "cell_type": "markdown",
   "metadata": {},
   "source": [
    "## 2. Read in and featurize the new structure"
   ]
  },
  {
   "cell_type": "code",
   "execution_count": 7,
   "metadata": {},
   "outputs": [
    {
     "data": {
      "application/vnd.jupyter.widget-view+json": {
       "model_id": "36497611b1774187a4dc72142b598239",
       "version_major": 2,
       "version_minor": 0
      },
      "text/plain": [
       "HBox(children=(FloatProgress(value=0.0, description='StrToComposition', max=1.0, style=ProgressStyle(descripti…"
      ]
     },
     "metadata": {},
     "output_type": "display_data"
    },
    {
     "name": "stdout",
     "output_type": "stream",
     "text": [
      "\n"
     ]
    },
    {
     "data": {
      "application/vnd.jupyter.widget-view+json": {
       "model_id": "57d10b0107df4f918548d2de9ca70c79",
       "version_major": 2,
       "version_minor": 0
      },
      "text/plain": [
       "HBox(children=(FloatProgress(value=0.0, description='ElementProperty', max=1.0, style=ProgressStyle(descriptio…"
      ]
     },
     "metadata": {},
     "output_type": "display_data"
    },
    {
     "name": "stdout",
     "output_type": "stream",
     "text": [
      "\n"
     ]
    },
    {
     "data": {
      "application/vnd.jupyter.widget-view+json": {
       "model_id": "f6b7d46f10dd4ab89ed39f83e4808816",
       "version_major": 2,
       "version_minor": 0
      },
      "text/plain": [
       "HBox(children=(FloatProgress(value=0.0, description='CompositionToOxidComposition', max=1.0, style=ProgressSty…"
      ]
     },
     "metadata": {},
     "output_type": "display_data"
    },
    {
     "name": "stdout",
     "output_type": "stream",
     "text": [
      "\n"
     ]
    },
    {
     "data": {
      "application/vnd.jupyter.widget-view+json": {
       "model_id": "2f47b5c9ee2b440883c018cb567097f0",
       "version_major": 2,
       "version_minor": 0
      },
      "text/plain": [
       "HBox(children=(FloatProgress(value=0.0, description='OxidationStates', max=1.0, style=ProgressStyle(descriptio…"
      ]
     },
     "metadata": {},
     "output_type": "display_data"
    },
    {
     "name": "stdout",
     "output_type": "stream",
     "text": [
      "\n"
     ]
    },
    {
     "data": {
      "application/vnd.jupyter.widget-view+json": {
       "model_id": "4ef6d15729394560921b4901f155c636",
       "version_major": 2,
       "version_minor": 0
      },
      "text/plain": [
       "HBox(children=(FloatProgress(value=0.0, description='StructureToOxidStructure', max=1.0, style=ProgressStyle(d…"
      ]
     },
     "metadata": {},
     "output_type": "display_data"
    },
    {
     "name": "stdout",
     "output_type": "stream",
     "text": [
      "\n"
     ]
    },
    {
     "data": {
      "application/vnd.jupyter.widget-view+json": {
       "model_id": "addbea6042c04b078057d2f0278a9244",
       "version_major": 2,
       "version_minor": 0
      },
      "text/plain": [
       "HBox(children=(FloatProgress(value=0.0, description='EwaldEnergy', max=1.0, style=ProgressStyle(description_wi…"
      ]
     },
     "metadata": {},
     "output_type": "display_data"
    },
    {
     "name": "stdout",
     "output_type": "stream",
     "text": [
      "\n"
     ]
    },
    {
     "data": {
      "application/vnd.jupyter.widget-view+json": {
       "model_id": "340cfc08a4184dfda474ee940ad5eadf",
       "version_major": 2,
       "version_minor": 0
      },
      "text/plain": [
       "HBox(children=(FloatProgress(value=0.0, description='StructuralHeterogeneity', max=1.0, style=ProgressStyle(de…"
      ]
     },
     "metadata": {},
     "output_type": "display_data"
    },
    {
     "name": "stdout",
     "output_type": "stream",
     "text": [
      "\n"
     ]
    },
    {
     "data": {
      "application/vnd.jupyter.widget-view+json": {
       "model_id": "e6f45af7b74b41728849b8282a49b1f5",
       "version_major": 2,
       "version_minor": 0
      },
      "text/plain": [
       "HBox(children=(FloatProgress(value=0.0, description='GlobalInstabilityIndex', max=1.0, style=ProgressStyle(des…"
      ]
     },
     "metadata": {},
     "output_type": "display_data"
    },
    {
     "name": "stdout",
     "output_type": "stream",
     "text": [
      "\n"
     ]
    },
    {
     "name": "stderr",
     "output_type": "stream",
     "text": [
      "The Panel class is removed from pandas. Accessing it from the top-level namespace will also be removed in the next version\n"
     ]
    },
    {
     "data": {
      "application/vnd.jupyter.widget-view+json": {
       "model_id": "b349d581798c4efea99c364648953e5d",
       "version_major": 2,
       "version_minor": 0
      },
      "text/plain": [
       "HBox(children=(FloatProgress(value=0.0, description='Handbuilt Featurizer', max=1.0, style=ProgressStyle(descr…"
      ]
     },
     "metadata": {},
     "output_type": "display_data"
    },
    {
     "name": "stdout",
     "output_type": "stream",
     "text": [
      "\n"
     ]
    }
   ],
   "source": [
    "new_struct_df = read_new_struct(NEW_STRUCT_PATH)\n",
    "new_struct_df = featurizer_wrapper(new_struct_df)"
   ]
  },
  {
   "cell_type": "markdown",
   "metadata": {},
   "source": [
    "Here is the raw output from the featurizer."
   ]
  },
  {
   "cell_type": "code",
   "execution_count": 8,
   "metadata": {},
   "outputs": [
    {
     "data": {
      "text/html": [
       "<div>\n",
       "<style scoped>\n",
       "    .dataframe tbody tr th:only-of-type {\n",
       "        vertical-align: middle;\n",
       "    }\n",
       "\n",
       "    .dataframe tbody tr th {\n",
       "        vertical-align: top;\n",
       "    }\n",
       "\n",
       "    .dataframe thead th {\n",
       "        text-align: right;\n",
       "    }\n",
       "</style>\n",
       "<table border=\"1\" class=\"dataframe\">\n",
       "  <thead>\n",
       "    <tr style=\"text-align: right;\">\n",
       "      <th></th>\n",
       "      <th>Compound</th>\n",
       "      <th>structure</th>\n",
       "      <th>composition</th>\n",
       "      <th>MagpieData minimum Number</th>\n",
       "      <th>MagpieData maximum Number</th>\n",
       "      <th>MagpieData range Number</th>\n",
       "      <th>MagpieData mean Number</th>\n",
       "      <th>MagpieData avg_dev Number</th>\n",
       "      <th>MagpieData mode Number</th>\n",
       "      <th>MagpieData minimum MendeleevNumber</th>\n",
       "      <th>...</th>\n",
       "      <th>max_xx_dists</th>\n",
       "      <th>min_xx_dists</th>\n",
       "      <th>avg_xx_dists</th>\n",
       "      <th>v_m</th>\n",
       "      <th>v_x</th>\n",
       "      <th>iv</th>\n",
       "      <th>iv_p1</th>\n",
       "      <th>est_hubbard_u</th>\n",
       "      <th>est_charge_trans</th>\n",
       "      <th>volumn_per_sites</th>\n",
       "    </tr>\n",
       "  </thead>\n",
       "  <tbody>\n",
       "    <tr>\n",
       "      <th>0</th>\n",
       "      <td>CuNiO2</td>\n",
       "      <td>[[0. 0. 0.] Cu, [0.         0.         2.84837...</td>\n",
       "      <td>(Cu, Ni, O)</td>\n",
       "      <td>8.0</td>\n",
       "      <td>29.0</td>\n",
       "      <td>21.0</td>\n",
       "      <td>18.25</td>\n",
       "      <td>10.25</td>\n",
       "      <td>8.0</td>\n",
       "      <td>61.0</td>\n",
       "      <td>...</td>\n",
       "      <td>2.864732</td>\n",
       "      <td>2.77446</td>\n",
       "      <td>2.817046</td>\n",
       "      <td>-24.969425</td>\n",
       "      <td>23.63686</td>\n",
       "      <td>18.168838</td>\n",
       "      <td>35.187</td>\n",
       "      <td>11.991636</td>\n",
       "      <td>15.842407</td>\n",
       "      <td>9.840079</td>\n",
       "    </tr>\n",
       "  </tbody>\n",
       "</table>\n",
       "<p>1 rows × 169 columns</p>\n",
       "</div>"
      ],
      "text/plain": [
       "  Compound                                          structure  composition  \\\n",
       "0   CuNiO2  [[0. 0. 0.] Cu, [0.         0.         2.84837...  (Cu, Ni, O)   \n",
       "\n",
       "   MagpieData minimum Number  MagpieData maximum Number  \\\n",
       "0                        8.0                       29.0   \n",
       "\n",
       "   MagpieData range Number  MagpieData mean Number  MagpieData avg_dev Number  \\\n",
       "0                     21.0                   18.25                      10.25   \n",
       "\n",
       "   MagpieData mode Number  MagpieData minimum MendeleevNumber  ...  \\\n",
       "0                     8.0                                61.0  ...   \n",
       "\n",
       "   max_xx_dists  min_xx_dists  avg_xx_dists        v_m       v_x         iv  \\\n",
       "0      2.864732       2.77446      2.817046 -24.969425  23.63686  18.168838   \n",
       "\n",
       "    iv_p1  est_hubbard_u  est_charge_trans  volumn_per_sites  \n",
       "0  35.187      11.991636         15.842407          9.840079  \n",
       "\n",
       "[1 rows x 169 columns]"
      ]
     },
     "execution_count": 8,
     "metadata": {},
     "output_type": "execute_result"
    }
   ],
   "source": [
    "new_struct_df"
   ]
  },
  {
   "cell_type": "markdown",
   "metadata": {},
   "source": [
    "## 3. Only select predictors that are in the processed data"
   ]
  },
  {
   "cell_type": "code",
   "execution_count": 9,
   "metadata": {},
   "outputs": [],
   "source": [
    "new_struct_df_with_name = abbreviate_features(new_struct_df)\n",
    "new_struct_df = new_struct_df_with_name.filter(items=df.columns).drop(columns=\"Compound\")"
   ]
  },
  {
   "cell_type": "code",
   "execution_count": 10,
   "metadata": {},
   "outputs": [
    {
     "data": {
      "text/html": [
       "<div>\n",
       "<style scoped>\n",
       "    .dataframe tbody tr th:only-of-type {\n",
       "        vertical-align: middle;\n",
       "    }\n",
       "\n",
       "    .dataframe tbody tr th {\n",
       "        vertical-align: top;\n",
       "    }\n",
       "\n",
       "    .dataframe thead th {\n",
       "        text-align: right;\n",
       "    }\n",
       "</style>\n",
       "<table border=\"1\" class=\"dataframe\">\n",
       "  <thead>\n",
       "    <tr style=\"text-align: right;\">\n",
       "      <th></th>\n",
       "      <th>range MendeleevNumber</th>\n",
       "      <th>avg_dev MendeleevNumber</th>\n",
       "      <th>range AtomicWeight</th>\n",
       "      <th>mean AtomicWeight</th>\n",
       "      <th>avg_dev AtomicWeight</th>\n",
       "      <th>range MeltingT</th>\n",
       "      <th>mean MeltingT</th>\n",
       "      <th>avg_dev MeltingT</th>\n",
       "      <th>range Column</th>\n",
       "      <th>avg_dev Column</th>\n",
       "      <th>...</th>\n",
       "      <th>max_xx_dists</th>\n",
       "      <th>min_xx_dists</th>\n",
       "      <th>avg_xx_dists</th>\n",
       "      <th>v_m</th>\n",
       "      <th>v_x</th>\n",
       "      <th>iv</th>\n",
       "      <th>iv_p1</th>\n",
       "      <th>est_hubbard_u</th>\n",
       "      <th>est_charge_trans</th>\n",
       "      <th>volumn_per_sites</th>\n",
       "    </tr>\n",
       "  </thead>\n",
       "  <tbody>\n",
       "    <tr>\n",
       "      <th>0</th>\n",
       "      <td>26.0</td>\n",
       "      <td>12.25</td>\n",
       "      <td>47.5466</td>\n",
       "      <td>38.55955</td>\n",
       "      <td>22.56015</td>\n",
       "      <td>1673.2</td>\n",
       "      <td>798.8425</td>\n",
       "      <td>744.0425</td>\n",
       "      <td>6.0</td>\n",
       "      <td>2.75</td>\n",
       "      <td>...</td>\n",
       "      <td>2.864732</td>\n",
       "      <td>2.77446</td>\n",
       "      <td>2.817046</td>\n",
       "      <td>-24.969425</td>\n",
       "      <td>23.63686</td>\n",
       "      <td>18.168838</td>\n",
       "      <td>35.187</td>\n",
       "      <td>11.991636</td>\n",
       "      <td>15.842407</td>\n",
       "      <td>9.840079</td>\n",
       "    </tr>\n",
       "  </tbody>\n",
       "</table>\n",
       "<p>1 rows × 93 columns</p>\n",
       "</div>"
      ],
      "text/plain": [
       "   range MendeleevNumber  avg_dev MendeleevNumber  range AtomicWeight  \\\n",
       "0                   26.0                    12.25             47.5466   \n",
       "\n",
       "   mean AtomicWeight  avg_dev AtomicWeight  range MeltingT  mean MeltingT  \\\n",
       "0           38.55955              22.56015          1673.2       798.8425   \n",
       "\n",
       "   avg_dev MeltingT  range Column  avg_dev Column  ...  max_xx_dists  \\\n",
       "0          744.0425           6.0            2.75  ...      2.864732   \n",
       "\n",
       "   min_xx_dists  avg_xx_dists        v_m       v_x         iv   iv_p1  \\\n",
       "0       2.77446      2.817046 -24.969425  23.63686  18.168838  35.187   \n",
       "\n",
       "   est_hubbard_u  est_charge_trans  volumn_per_sites  \n",
       "0      11.991636         15.842407          9.840079  \n",
       "\n",
       "[1 rows x 93 columns]"
      ]
     },
     "execution_count": 10,
     "metadata": {},
     "output_type": "execute_result"
    }
   ],
   "source": [
    "new_struct_df"
   ]
  },
  {
   "cell_type": "markdown",
   "metadata": {},
   "source": [
    "Compare the number of predictors with the training data loaded into the MIT classifier"
   ]
  },
  {
   "cell_type": "code",
   "execution_count": 11,
   "metadata": {},
   "outputs": [
    {
     "data": {
      "text/plain": [
       "93"
      ]
     },
     "execution_count": 11,
     "metadata": {},
     "output_type": "execute_result"
    }
   ],
   "source": [
    "train_x, _ = load_data(df, \"MIT\")\n",
    "train_x.shape[1]"
   ]
  },
  {
   "cell_type": "markdown",
   "metadata": {},
   "source": [
    "## 4. Print out the prediction label and probability\n",
    "\n",
    "After selecting the relevant features, we are now ready to make a prediction for the given structure. Below, you will see the outputs from the metal vs. non_metal, insulator vs. non_insulator and mit vs. non_mit classifiers. `1` means the structure is predicted to the positive class and `0` means it is predicted to be the negative class.\n",
    "\n",
    "**Note**: It is possible for the classifier to classify a structure as multiple classes. (e.g. as both a metal and an MIT). We've provided you with the probability of each prediction and we'll let you be the final judge."
   ]
  },
  {
   "cell_type": "code",
   "execution_count": 12,
   "metadata": {},
   "outputs": [
    {
     "name": "stdout",
     "output_type": "stream",
     "text": [
      "Is a metal: 0, and the probability of being a metal is :0.0015\n",
      "\n",
      "Is an insulator: 1, and the probability of being an insulator is :0.9783\n",
      "\n",
      "Is an mit: 0, and the probability of being an mit is :0.0970\n"
     ]
    }
   ],
   "source": [
    "print(\"Is a metal: {}, and the probability of being a metal is :{:0.4f}\\n\".format(metal_model.predict(new_struct_df)[0], metal_model.predict_proba(new_struct_df)[0][1]))\n",
    "print(\"Is an insulator: {}, and the probability of being an insulator is :{:0.4f}\\n\".format(insulator_model.predict(new_struct_df)[0], \n",
    "                                                                                    insulator_model.predict_proba(new_struct_df)[0][1]))\n",
    "print(\"Is an mit: {}, and the probability of being an mit is :{:0.4f}\".format(mit_model.predict(new_struct_df)[0], mit_model.predict_proba(new_struct_df)[0][1]))"
   ]
  },
  {
   "cell_type": "markdown",
   "metadata": {},
   "source": [
    "## 5. Plot the data using the Range Mendeleev Number & the Average Deviation of the Covalent Radius\n",
    "\n",
    "These two features are identified with high feature importance for the MIT vs. non-MIT classifier and have been shown to separate MITs from the non-MITs quite well.\n",
    "\n",
    "We can take a look at the top 10 features with the highest importance for the MIT vs. non-MIT classifier."
   ]
  },
  {
   "cell_type": "code",
   "execution_count": 13,
   "metadata": {},
   "outputs": [
    {
     "data": {
      "image/png": "[encoded data removed]",
      "text/plain": [
       "<Figure size 576x396 with 1 Axes>"
      ]
     },
     "metadata": {
      "needs_background": "light"
     },
     "output_type": "display_data"
    }
   ],
   "source": [
    "x_mit, _ = load_data(df, \"MIT\")\n",
    "explainer = shap.TreeExplainer(mit_model)\n",
    "shap_values = explainer.shap_values(x_mit)\n",
    "shap.summary_plot(shap_values, x_mit, plot_type=\"bar\", max_display=10)"
   ]
  },
  {
   "cell_type": "markdown",
   "metadata": {},
   "source": [
    "Then, we can plot all the datapoints (training set + the new structure) on a 2D scatter plot of `range MendeleevNumber` vs. `avg_dev CovalentRadius`."
   ]
  },
  {
   "cell_type": "code",
   "execution_count": 14,
   "metadata": {},
   "outputs": [],
   "source": [
    "x_plot = \"range MendeleevNumber\"\n",
    "y_plot = \"avg_dev CovalentRadius\""
   ]
  },
  {
   "cell_type": "code",
   "execution_count": 15,
   "metadata": {},
   "outputs": [
    {
     "data": {
      "text/html": [
       "<div>\n",
       "<style scoped>\n",
       "    .dataframe tbody tr th:only-of-type {\n",
       "        vertical-align: middle;\n",
       "    }\n",
       "\n",
       "    .dataframe tbody tr th {\n",
       "        vertical-align: top;\n",
       "    }\n",
       "\n",
       "    .dataframe thead th {\n",
       "        text-align: right;\n",
       "    }\n",
       "</style>\n",
       "<table border=\"1\" class=\"dataframe\">\n",
       "  <thead>\n",
       "    <tr style=\"text-align: right;\">\n",
       "      <th></th>\n",
       "      <th>Compound</th>\n",
       "      <th>Label</th>\n",
       "      <th>range MendeleevNumber</th>\n",
       "      <th>avg_dev CovalentRadius</th>\n",
       "    </tr>\n",
       "  </thead>\n",
       "  <tbody>\n",
       "    <tr>\n",
       "      <th>0</th>\n",
       "      <td>SrRuO3</td>\n",
       "      <td>metal</td>\n",
       "      <td>79.0</td>\n",
       "      <td>50.160000</td>\n",
       "    </tr>\n",
       "    <tr>\n",
       "      <th>1</th>\n",
       "      <td>OsO2</td>\n",
       "      <td>metal</td>\n",
       "      <td>30.0</td>\n",
       "      <td>34.666667</td>\n",
       "    </tr>\n",
       "    <tr>\n",
       "      <th>2</th>\n",
       "      <td>SrLaCuO4</td>\n",
       "      <td>metal</td>\n",
       "      <td>79.0</td>\n",
       "      <td>54.857143</td>\n",
       "    </tr>\n",
       "    <tr>\n",
       "      <th>3</th>\n",
       "      <td>SrCrO3</td>\n",
       "      <td>metal</td>\n",
       "      <td>79.0</td>\n",
       "      <td>48.480000</td>\n",
       "    </tr>\n",
       "    <tr>\n",
       "      <th>4</th>\n",
       "      <td>CrO2</td>\n",
       "      <td>metal</td>\n",
       "      <td>38.0</td>\n",
       "      <td>32.444444</td>\n",
       "    </tr>\n",
       "    <tr>\n",
       "      <th>...</th>\n",
       "      <td>...</td>\n",
       "      <td>...</td>\n",
       "      <td>...</td>\n",
       "      <td>...</td>\n",
       "    </tr>\n",
       "    <tr>\n",
       "      <th>224</th>\n",
       "      <td>NiSeS</td>\n",
       "      <td>mit</td>\n",
       "      <td>28.0</td>\n",
       "      <td>7.555556</td>\n",
       "    </tr>\n",
       "    <tr>\n",
       "      <th>225</th>\n",
       "      <td>Ti2O3</td>\n",
       "      <td>mit</td>\n",
       "      <td>44.0</td>\n",
       "      <td>45.120000</td>\n",
       "    </tr>\n",
       "    <tr>\n",
       "      <th>226</th>\n",
       "      <td>Ca1.2La2.8Mn4O12</td>\n",
       "      <td>mit</td>\n",
       "      <td>80.0</td>\n",
       "      <td>49.128000</td>\n",
       "    </tr>\n",
       "    <tr>\n",
       "      <th>227</th>\n",
       "      <td>VO2</td>\n",
       "      <td>mit</td>\n",
       "      <td>41.0</td>\n",
       "      <td>38.666667</td>\n",
       "    </tr>\n",
       "    <tr>\n",
       "      <th>228</th>\n",
       "      <td>CuNiO2</td>\n",
       "      <td>new_struct</td>\n",
       "      <td>26.0</td>\n",
       "      <td>31.000000</td>\n",
       "    </tr>\n",
       "  </tbody>\n",
       "</table>\n",
       "<p>229 rows × 4 columns</p>\n",
       "</div>"
      ],
      "text/plain": [
       "             Compound       Label  range MendeleevNumber  \\\n",
       "0              SrRuO3       metal                   79.0   \n",
       "1                OsO2       metal                   30.0   \n",
       "2            SrLaCuO4       metal                   79.0   \n",
       "3              SrCrO3       metal                   79.0   \n",
       "4                CrO2       metal                   38.0   \n",
       "..                ...         ...                    ...   \n",
       "224             NiSeS         mit                   28.0   \n",
       "225             Ti2O3         mit                   44.0   \n",
       "226  Ca1.2La2.8Mn4O12         mit                   80.0   \n",
       "227               VO2         mit                   41.0   \n",
       "228            CuNiO2  new_struct                   26.0   \n",
       "\n",
       "     avg_dev CovalentRadius  \n",
       "0                 50.160000  \n",
       "1                 34.666667  \n",
       "2                 54.857143  \n",
       "3                 48.480000  \n",
       "4                 32.444444  \n",
       "..                      ...  \n",
       "224                7.555556  \n",
       "225               45.120000  \n",
       "226               49.128000  \n",
       "227               38.666667  \n",
       "228               31.000000  \n",
       "\n",
       "[229 rows x 4 columns]"
      ]
     },
     "execution_count": 15,
     "metadata": {},
     "output_type": "execute_result"
    }
   ],
   "source": [
    "# get the relevant columns from the training set\n",
    "df_plot = df[[\"Compound\", \"Label\", x_plot, y_plot]]\n",
    "# get the relevant columns from the new structure dataframe\n",
    "new_struct_plot = new_struct_df_with_name[[\"Compound\", x_plot, y_plot]]\n",
    "# assign 3 to new strucuture's label to distinguish it from the original training set\n",
    "new_struct_plot[\"Label\"] = \"new_struct\"\n",
    "# combine the two datasets\n",
    "combined_df_plot = pd.concat([df_plot, new_struct_plot], ignore_index=True)\n",
    "# change the numeric label into string format to allow discrete color scale for plotting\n",
    "combined_df_plot = combined_df_plot.replace({\"Label\": {0: \"metal\", 1: \"insulator\", 2: \"mit\"}})\n",
    "combined_df_plot"
   ]
  },
  {
   "cell_type": "markdown",
   "metadata": {},
   "source": [
    "Create a scatter plot."
   ]
  },
  {
   "cell_type": "code",
   "execution_count": 16,
   "metadata": {},
   "outputs": [
    {
     "data": {
      "image/png": "[encoded data removed]",
      "text/plain": [
       "<Figure size 1000x1000 with 1 Axes>"
      ]
     },
     "metadata": {},
     "output_type": "display_data"
    }
   ],
   "source": [
    "with sns.axes_style(\"ticks\"):\n",
    "    plt.figure(figsize=(5,5), dpi=200)\n",
    "    sns.scatterplot(data=combined_df_plot, x=x_plot, y=y_plot, hue=\"Label\")"
   ]
  }
 ],
 "metadata": {
  "kernelspec": {
   "display_name": "PyCharm (mit_model_code)",
   "language": "python",
   "name": "pycharm-43a0cb91"
  },
  "language_info": {
   "codemirror_mode": {
    "name": "ipython",
    "version": 3
   },
   "file_extension": ".py",
   "mimetype": "text/x-python",
   "name": "python",
   "nbconvert_exporter": "python",
   "pygments_lexer": "ipython3",
   "version": "3.7.4"
  }
 },
 "nbformat": 4,
 "nbformat_minor": 4
}
