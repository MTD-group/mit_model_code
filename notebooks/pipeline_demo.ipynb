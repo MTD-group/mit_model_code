{
 "cells": [
  {
   "cell_type": "markdown",
   "metadata": {},
   "source": [
    "# Import packages and functions"
   ]
  },
  {
   "cell_type": "code",
   "execution_count": 1,
   "metadata": {},
   "outputs": [],
   "source": [
    "import sys\n",
    "# force the notebook to look for files in the upper level directory\n",
    "sys.path.insert(1, '../')"
   ]
  },
  {
   "cell_type": "code",
   "execution_count": 2,
   "metadata": {},
   "outputs": [],
   "source": [
    "import pandas as pd\n",
    "import xgboost as xgb\n",
    "from model.model_building import load_data\n",
    "from data.data_cleaning import abbreviate_features\n",
    "from data.compound_featurizer import read_new_struct, composition_featurizer, structure_featurizer, handbuilt_featurizer"
   ]
  },
  {
   "cell_type": "markdown",
   "metadata": {},
   "source": [
    "# Set up constants"
   ]
  },
  {
   "cell_type": "code",
   "execution_count": 3,
   "metadata": {},
   "outputs": [],
   "source": [
    "PROCESSED_PATH = \"../data/processed/IMT_Classification_Dataset_Processed_v3.xlsx\"\n",
    "NEW_STRUCT_PATH = \"../notebooks/user_defined_structures/CuNiO2_mp-1178372_primitive.cif\""
   ]
  },
  {
   "cell_type": "markdown",
   "metadata": {},
   "source": [
    "# Read in the processed data"
   ]
  },
  {
   "cell_type": "code",
   "execution_count": 4,
   "metadata": {},
   "outputs": [
    {
     "data": {
      "text/html": [
       "<div>\n",
       "<style scoped>\n",
       "    .dataframe tbody tr th:only-of-type {\n",
       "        vertical-align: middle;\n",
       "    }\n",
       "\n",
       "    .dataframe tbody tr th {\n",
       "        vertical-align: top;\n",
       "    }\n",
       "\n",
       "    .dataframe thead th {\n",
       "        text-align: right;\n",
       "    }\n",
       "</style>\n",
       "<table border=\"1\" class=\"dataframe\">\n",
       "  <thead>\n",
       "    <tr style=\"text-align: right;\">\n",
       "      <th></th>\n",
       "      <th>Compound</th>\n",
       "      <th>Label</th>\n",
       "      <th>struct_file_path</th>\n",
       "      <th>range MendeleevNumber</th>\n",
       "      <th>avg_dev MendeleevNumber</th>\n",
       "      <th>range AtomicWeight</th>\n",
       "      <th>mean AtomicWeight</th>\n",
       "      <th>avg_dev AtomicWeight</th>\n",
       "      <th>range MeltingT</th>\n",
       "      <th>mean MeltingT</th>\n",
       "      <th>...</th>\n",
       "      <th>avg_mx_dists</th>\n",
       "      <th>max_xx_dists</th>\n",
       "      <th>min_xx_dists</th>\n",
       "      <th>avg_xx_dists</th>\n",
       "      <th>v_x</th>\n",
       "      <th>iv</th>\n",
       "      <th>iv_p1</th>\n",
       "      <th>est_hubbard_u</th>\n",
       "      <th>est_charge_trans</th>\n",
       "      <th>volumn_per_sites</th>\n",
       "    </tr>\n",
       "  </thead>\n",
       "  <tbody>\n",
       "    <tr>\n",
       "      <th>0</th>\n",
       "      <td>SrRuO3</td>\n",
       "      <td>0</td>\n",
       "      <td>../data/Structures/Metals/SrRuO3_75561.cif</td>\n",
       "      <td>79</td>\n",
       "      <td>26.400000</td>\n",
       "      <td>85.07060</td>\n",
       "      <td>47.337640</td>\n",
       "      <td>37.605888</td>\n",
       "      <td>2552.20</td>\n",
       "      <td>764.280000</td>\n",
       "      <td>...</td>\n",
       "      <td>1.983938</td>\n",
       "      <td>3.579973</td>\n",
       "      <td>2.760023</td>\n",
       "      <td>2.947568</td>\n",
       "      <td>23.738172</td>\n",
       "      <td>45.000000</td>\n",
       "      <td>59.00000</td>\n",
       "      <td>10.330721</td>\n",
       "      <td>8.527722</td>\n",
       "      <td>12.089967</td>\n",
       "    </tr>\n",
       "    <tr>\n",
       "      <th>1</th>\n",
       "      <td>OsO2</td>\n",
       "      <td>0</td>\n",
       "      <td>../data/Structures/Metals/OsO2_15070.cif</td>\n",
       "      <td>30</td>\n",
       "      <td>13.333333</td>\n",
       "      <td>174.23060</td>\n",
       "      <td>74.076267</td>\n",
       "      <td>77.435822</td>\n",
       "      <td>3251.20</td>\n",
       "      <td>1138.533333</td>\n",
       "      <td>...</td>\n",
       "      <td>1.983671</td>\n",
       "      <td>2.805520</td>\n",
       "      <td>2.442651</td>\n",
       "      <td>2.684563</td>\n",
       "      <td>25.269881</td>\n",
       "      <td>41.000000</td>\n",
       "      <td>55.00000</td>\n",
       "      <td>9.953087</td>\n",
       "      <td>13.687053</td>\n",
       "      <td>10.747095</td>\n",
       "    </tr>\n",
       "    <tr>\n",
       "      <th>2</th>\n",
       "      <td>SrLaCuO4</td>\n",
       "      <td>0</td>\n",
       "      <td>../data/Structures/Metals/LaSrCuO4_10252.cif</td>\n",
       "      <td>79</td>\n",
       "      <td>29.346939</td>\n",
       "      <td>122.90607</td>\n",
       "      <td>50.581296</td>\n",
       "      <td>39.522167</td>\n",
       "      <td>1302.97</td>\n",
       "      <td>545.710000</td>\n",
       "      <td>...</td>\n",
       "      <td>2.062565</td>\n",
       "      <td>3.421841</td>\n",
       "      <td>2.662257</td>\n",
       "      <td>2.966018</td>\n",
       "      <td>23.905465</td>\n",
       "      <td>36.841000</td>\n",
       "      <td>57.38000</td>\n",
       "      <td>18.524833</td>\n",
       "      <td>-7.676852</td>\n",
       "      <td>13.436088</td>\n",
       "    </tr>\n",
       "    <tr>\n",
       "      <th>3</th>\n",
       "      <td>SrCrO3</td>\n",
       "      <td>0</td>\n",
       "      <td>../data/Structures/Metals/SrCrO3_245834.cif</td>\n",
       "      <td>79</td>\n",
       "      <td>28.080000</td>\n",
       "      <td>71.62060</td>\n",
       "      <td>37.522860</td>\n",
       "      <td>25.828152</td>\n",
       "      <td>2125.20</td>\n",
       "      <td>678.880000</td>\n",
       "      <td>...</td>\n",
       "      <td>1.909900</td>\n",
       "      <td>2.701006</td>\n",
       "      <td>2.701006</td>\n",
       "      <td>2.701006</td>\n",
       "      <td>24.337085</td>\n",
       "      <td>49.160000</td>\n",
       "      <td>69.46000</td>\n",
       "      <td>16.530261</td>\n",
       "      <td>6.586603</td>\n",
       "      <td>11.146843</td>\n",
       "    </tr>\n",
       "    <tr>\n",
       "      <th>4</th>\n",
       "      <td>CrO2</td>\n",
       "      <td>0</td>\n",
       "      <td>../data/Structures/Metals/CrO2_202836.cif</td>\n",
       "      <td>38</td>\n",
       "      <td>16.888889</td>\n",
       "      <td>35.99670</td>\n",
       "      <td>27.998300</td>\n",
       "      <td>15.998533</td>\n",
       "      <td>2125.20</td>\n",
       "      <td>763.200000</td>\n",
       "      <td>...</td>\n",
       "      <td>1.901255</td>\n",
       "      <td>2.688819</td>\n",
       "      <td>2.471404</td>\n",
       "      <td>2.616347</td>\n",
       "      <td>26.561430</td>\n",
       "      <td>49.160000</td>\n",
       "      <td>69.46000</td>\n",
       "      <td>16.126339</td>\n",
       "      <td>8.219417</td>\n",
       "      <td>9.504907</td>\n",
       "    </tr>\n",
       "    <tr>\n",
       "      <th>...</th>\n",
       "      <td>...</td>\n",
       "      <td>...</td>\n",
       "      <td>...</td>\n",
       "      <td>...</td>\n",
       "      <td>...</td>\n",
       "      <td>...</td>\n",
       "      <td>...</td>\n",
       "      <td>...</td>\n",
       "      <td>...</td>\n",
       "      <td>...</td>\n",
       "      <td>...</td>\n",
       "      <td>...</td>\n",
       "      <td>...</td>\n",
       "      <td>...</td>\n",
       "      <td>...</td>\n",
       "      <td>...</td>\n",
       "      <td>...</td>\n",
       "      <td>...</td>\n",
       "      <td>...</td>\n",
       "      <td>...</td>\n",
       "      <td>...</td>\n",
       "    </tr>\n",
       "    <tr>\n",
       "      <th>223</th>\n",
       "      <td>YbFe4(CuO4)3</td>\n",
       "      <td>2</td>\n",
       "      <td>../data/Structures/MIT_materials/HighT/YbCu3Fe...</td>\n",
       "      <td>48</td>\n",
       "      <td>14.700000</td>\n",
       "      <td>157.05460</td>\n",
       "      <td>38.953240</td>\n",
       "      <td>27.544608</td>\n",
       "      <td>1756.20</td>\n",
       "      <td>653.345500</td>\n",
       "      <td>...</td>\n",
       "      <td>2.365615</td>\n",
       "      <td>2.924013</td>\n",
       "      <td>2.552849</td>\n",
       "      <td>2.744642</td>\n",
       "      <td>24.360992</td>\n",
       "      <td>36.841000</td>\n",
       "      <td>57.38000</td>\n",
       "      <td>16.597335</td>\n",
       "      <td>7.361181</td>\n",
       "      <td>9.750947</td>\n",
       "    </tr>\n",
       "    <tr>\n",
       "      <th>224</th>\n",
       "      <td>NiSeS</td>\n",
       "      <td>2</td>\n",
       "      <td>../data/Structures/MIT_materials/HighT/NiS(2-x...</td>\n",
       "      <td>28</td>\n",
       "      <td>12.222222</td>\n",
       "      <td>46.89500</td>\n",
       "      <td>56.572800</td>\n",
       "      <td>16.338533</td>\n",
       "      <td>1339.64</td>\n",
       "      <td>870.120000</td>\n",
       "      <td>...</td>\n",
       "      <td>2.424039</td>\n",
       "      <td>3.287898</td>\n",
       "      <td>2.376963</td>\n",
       "      <td>3.060164</td>\n",
       "      <td>9.778249</td>\n",
       "      <td>18.168838</td>\n",
       "      <td>35.18700</td>\n",
       "      <td>13.516153</td>\n",
       "      <td>8.891048</td>\n",
       "      <td>16.385810</td>\n",
       "    </tr>\n",
       "    <tr>\n",
       "      <th>225</th>\n",
       "      <td>Ti2O3</td>\n",
       "      <td>2</td>\n",
       "      <td>../data/Structures/MIT_materials/HighT/Ti2O3_H...</td>\n",
       "      <td>44</td>\n",
       "      <td>21.120000</td>\n",
       "      <td>31.86760</td>\n",
       "      <td>28.746440</td>\n",
       "      <td>15.296448</td>\n",
       "      <td>1886.20</td>\n",
       "      <td>809.280000</td>\n",
       "      <td>...</td>\n",
       "      <td>2.048209</td>\n",
       "      <td>2.900002</td>\n",
       "      <td>2.771288</td>\n",
       "      <td>2.844355</td>\n",
       "      <td>24.648770</td>\n",
       "      <td>27.491710</td>\n",
       "      <td>43.26717</td>\n",
       "      <td>11.068473</td>\n",
       "      <td>16.169806</td>\n",
       "      <td>10.490597</td>\n",
       "    </tr>\n",
       "    <tr>\n",
       "      <th>226</th>\n",
       "      <td>Ca1.2La2.8Mn4O12</td>\n",
       "      <td>2</td>\n",
       "      <td>../data/Structures/MIT_materials/HighT/La0.7Ca...</td>\n",
       "      <td>80</td>\n",
       "      <td>26.592000</td>\n",
       "      <td>122.90607</td>\n",
       "      <td>42.438695</td>\n",
       "      <td>32.010437</td>\n",
       "      <td>1464.20</td>\n",
       "      <td>570.600000</td>\n",
       "      <td>...</td>\n",
       "      <td>1.962424</td>\n",
       "      <td>3.516261</td>\n",
       "      <td>2.747250</td>\n",
       "      <td>2.906344</td>\n",
       "      <td>22.934073</td>\n",
       "      <td>38.930600</td>\n",
       "      <td>57.57000</td>\n",
       "      <td>14.915598</td>\n",
       "      <td>-7.594869</td>\n",
       "      <td>11.576092</td>\n",
       "    </tr>\n",
       "    <tr>\n",
       "      <th>227</th>\n",
       "      <td>VO2</td>\n",
       "      <td>2</td>\n",
       "      <td>../data/Structures/MIT_materials/HighT/VO2_HT_...</td>\n",
       "      <td>41</td>\n",
       "      <td>18.222222</td>\n",
       "      <td>34.94210</td>\n",
       "      <td>27.646767</td>\n",
       "      <td>15.529822</td>\n",
       "      <td>2128.20</td>\n",
       "      <td>764.200000</td>\n",
       "      <td>...</td>\n",
       "      <td>1.927294</td>\n",
       "      <td>2.725617</td>\n",
       "      <td>2.575183</td>\n",
       "      <td>2.675472</td>\n",
       "      <td>26.337259</td>\n",
       "      <td>46.709000</td>\n",
       "      <td>65.28165</td>\n",
       "      <td>14.484546</td>\n",
       "      <td>9.779242</td>\n",
       "      <td>9.863262</td>\n",
       "    </tr>\n",
       "  </tbody>\n",
       "</table>\n",
       "<p>228 rows × 95 columns</p>\n",
       "</div>"
      ],
      "text/plain": [
       "             Compound  Label  \\\n",
       "0              SrRuO3      0   \n",
       "1                OsO2      0   \n",
       "2            SrLaCuO4      0   \n",
       "3              SrCrO3      0   \n",
       "4                CrO2      0   \n",
       "..                ...    ...   \n",
       "223      YbFe4(CuO4)3      2   \n",
       "224             NiSeS      2   \n",
       "225             Ti2O3      2   \n",
       "226  Ca1.2La2.8Mn4O12      2   \n",
       "227               VO2      2   \n",
       "\n",
       "                                      struct_file_path  range MendeleevNumber  \\\n",
       "0           ../data/Structures/Metals/SrRuO3_75561.cif                     79   \n",
       "1             ../data/Structures/Metals/OsO2_15070.cif                     30   \n",
       "2         ../data/Structures/Metals/LaSrCuO4_10252.cif                     79   \n",
       "3          ../data/Structures/Metals/SrCrO3_245834.cif                     79   \n",
       "4            ../data/Structures/Metals/CrO2_202836.cif                     38   \n",
       "..                                                 ...                    ...   \n",
       "223  ../data/Structures/MIT_materials/HighT/YbCu3Fe...                     48   \n",
       "224  ../data/Structures/MIT_materials/HighT/NiS(2-x...                     28   \n",
       "225  ../data/Structures/MIT_materials/HighT/Ti2O3_H...                     44   \n",
       "226  ../data/Structures/MIT_materials/HighT/La0.7Ca...                     80   \n",
       "227  ../data/Structures/MIT_materials/HighT/VO2_HT_...                     41   \n",
       "\n",
       "     avg_dev MendeleevNumber  range AtomicWeight  mean AtomicWeight  \\\n",
       "0                  26.400000            85.07060          47.337640   \n",
       "1                  13.333333           174.23060          74.076267   \n",
       "2                  29.346939           122.90607          50.581296   \n",
       "3                  28.080000            71.62060          37.522860   \n",
       "4                  16.888889            35.99670          27.998300   \n",
       "..                       ...                 ...                ...   \n",
       "223                14.700000           157.05460          38.953240   \n",
       "224                12.222222            46.89500          56.572800   \n",
       "225                21.120000            31.86760          28.746440   \n",
       "226                26.592000           122.90607          42.438695   \n",
       "227                18.222222            34.94210          27.646767   \n",
       "\n",
       "     avg_dev AtomicWeight  range MeltingT  mean MeltingT  ...  avg_mx_dists  \\\n",
       "0               37.605888         2552.20     764.280000  ...      1.983938   \n",
       "1               77.435822         3251.20    1138.533333  ...      1.983671   \n",
       "2               39.522167         1302.97     545.710000  ...      2.062565   \n",
       "3               25.828152         2125.20     678.880000  ...      1.909900   \n",
       "4               15.998533         2125.20     763.200000  ...      1.901255   \n",
       "..                    ...             ...            ...  ...           ...   \n",
       "223             27.544608         1756.20     653.345500  ...      2.365615   \n",
       "224             16.338533         1339.64     870.120000  ...      2.424039   \n",
       "225             15.296448         1886.20     809.280000  ...      2.048209   \n",
       "226             32.010437         1464.20     570.600000  ...      1.962424   \n",
       "227             15.529822         2128.20     764.200000  ...      1.927294   \n",
       "\n",
       "     max_xx_dists  min_xx_dists  avg_xx_dists        v_x         iv     iv_p1  \\\n",
       "0        3.579973      2.760023      2.947568  23.738172  45.000000  59.00000   \n",
       "1        2.805520      2.442651      2.684563  25.269881  41.000000  55.00000   \n",
       "2        3.421841      2.662257      2.966018  23.905465  36.841000  57.38000   \n",
       "3        2.701006      2.701006      2.701006  24.337085  49.160000  69.46000   \n",
       "4        2.688819      2.471404      2.616347  26.561430  49.160000  69.46000   \n",
       "..            ...           ...           ...        ...        ...       ...   \n",
       "223      2.924013      2.552849      2.744642  24.360992  36.841000  57.38000   \n",
       "224      3.287898      2.376963      3.060164   9.778249  18.168838  35.18700   \n",
       "225      2.900002      2.771288      2.844355  24.648770  27.491710  43.26717   \n",
       "226      3.516261      2.747250      2.906344  22.934073  38.930600  57.57000   \n",
       "227      2.725617      2.575183      2.675472  26.337259  46.709000  65.28165   \n",
       "\n",
       "     est_hubbard_u  est_charge_trans  volumn_per_sites  \n",
       "0        10.330721          8.527722         12.089967  \n",
       "1         9.953087         13.687053         10.747095  \n",
       "2        18.524833         -7.676852         13.436088  \n",
       "3        16.530261          6.586603         11.146843  \n",
       "4        16.126339          8.219417          9.504907  \n",
       "..             ...               ...               ...  \n",
       "223      16.597335          7.361181          9.750947  \n",
       "224      13.516153          8.891048         16.385810  \n",
       "225      11.068473         16.169806         10.490597  \n",
       "226      14.915598         -7.594869         11.576092  \n",
       "227      14.484546          9.779242          9.863262  \n",
       "\n",
       "[228 rows x 95 columns]"
      ]
     },
     "execution_count": 4,
     "metadata": {},
     "output_type": "execute_result"
    }
   ],
   "source": [
    "df = pd.read_excel(PROCESSED_PATH)\n",
    "df"
   ]
  },
  {
   "cell_type": "markdown",
   "metadata": {},
   "source": [
    "# Make a prediction on a never-seen-before structure\n",
    "\n",
    "## 1. Load the three trained models"
   ]
  },
  {
   "cell_type": "code",
   "execution_count": 5,
   "metadata": {},
   "outputs": [],
   "source": [
    "# load the metal vs. non_metal classifier\n",
    "metal_model = xgb.XGBClassifier()\n",
    "metal_model.load_model(\"../model/saved_models/new_models/metal.model\")\n",
    "\n",
    "# load the insulator vs. non_insulator classifier\n",
    "insulator_model = xgb.XGBClassifier()\n",
    "insulator_model.load_model(\"../model/saved_models/new_models/insulator.model\")\n",
    "\n",
    "# load the mit vs. non_mit classifier\n",
    "mit_model = xgb.XGBClassifier()\n",
    "mit_model.load_model(\"../model/saved_models/new_models/mit.model\")"
   ]
  },
  {
   "cell_type": "markdown",
   "metadata": {},
   "source": [
    "## 2. Read in and featurize the new structure"
   ]
  },
  {
   "cell_type": "code",
   "execution_count": 6,
   "metadata": {},
   "outputs": [
    {
     "data": {
      "application/vnd.jupyter.widget-view+json": {
       "model_id": "44587ed6ae66439f847aac9607668c15",
       "version_major": 2,
       "version_minor": 0
      },
      "text/plain": [
       "HBox(children=(FloatProgress(value=0.0, description='StrToComposition', max=1.0, style=ProgressStyle(descripti…"
      ]
     },
     "metadata": {},
     "output_type": "display_data"
    },
    {
     "name": "stdout",
     "output_type": "stream",
     "text": [
      "\n"
     ]
    },
    {
     "data": {
      "application/vnd.jupyter.widget-view+json": {
       "model_id": "56103df88b054214a49179a1c7fb7a01",
       "version_major": 2,
       "version_minor": 0
      },
      "text/plain": [
       "HBox(children=(FloatProgress(value=0.0, description='ElementProperty', max=1.0, style=ProgressStyle(descriptio…"
      ]
     },
     "metadata": {},
     "output_type": "display_data"
    },
    {
     "name": "stdout",
     "output_type": "stream",
     "text": [
      "\n"
     ]
    },
    {
     "data": {
      "application/vnd.jupyter.widget-view+json": {
       "model_id": "c831c36f652d474ebdf58ea0d007c584",
       "version_major": 2,
       "version_minor": 0
      },
      "text/plain": [
       "HBox(children=(FloatProgress(value=0.0, description='CompositionToOxidComposition', max=1.0, style=ProgressSty…"
      ]
     },
     "metadata": {},
     "output_type": "display_data"
    },
    {
     "name": "stdout",
     "output_type": "stream",
     "text": [
      "\n"
     ]
    },
    {
     "data": {
      "application/vnd.jupyter.widget-view+json": {
       "model_id": "e667873daa2347209579cce608d3e1b9",
       "version_major": 2,
       "version_minor": 0
      },
      "text/plain": [
       "HBox(children=(FloatProgress(value=0.0, description='OxidationStates', max=1.0, style=ProgressStyle(descriptio…"
      ]
     },
     "metadata": {},
     "output_type": "display_data"
    },
    {
     "name": "stdout",
     "output_type": "stream",
     "text": [
      "\n"
     ]
    },
    {
     "data": {
      "application/vnd.jupyter.widget-view+json": {
       "model_id": "c77cca26c0d3435d86aa18c2fc09cb1e",
       "version_major": 2,
       "version_minor": 0
      },
      "text/plain": [
       "HBox(children=(FloatProgress(value=0.0, description='StructureToOxidStructure', max=1.0, style=ProgressStyle(d…"
      ]
     },
     "metadata": {},
     "output_type": "display_data"
    },
    {
     "name": "stdout",
     "output_type": "stream",
     "text": [
      "\n"
     ]
    },
    {
     "data": {
      "application/vnd.jupyter.widget-view+json": {
       "model_id": "32488a9118904ab9b7940f8c675e350c",
       "version_major": 2,
       "version_minor": 0
      },
      "text/plain": [
       "HBox(children=(FloatProgress(value=0.0, description='EwaldEnergy', max=1.0, style=ProgressStyle(description_wi…"
      ]
     },
     "metadata": {},
     "output_type": "display_data"
    },
    {
     "name": "stdout",
     "output_type": "stream",
     "text": [
      "\n"
     ]
    },
    {
     "data": {
      "application/vnd.jupyter.widget-view+json": {
       "model_id": "4cfdee28bb6b4c55b9f0cea18498f241",
       "version_major": 2,
       "version_minor": 0
      },
      "text/plain": [
       "HBox(children=(FloatProgress(value=0.0, description='StructuralHeterogeneity', max=1.0, style=ProgressStyle(de…"
      ]
     },
     "metadata": {},
     "output_type": "display_data"
    },
    {
     "name": "stdout",
     "output_type": "stream",
     "text": [
      "\n"
     ]
    },
    {
     "name": "stderr",
     "output_type": "stream",
     "text": [
      "/Users/jasonrpw/PycharmProjects/mit_model_code/venv/lib/python3.7/site-packages/pymatgen/analysis/local_env.py:788: VisibleDeprecationWarning: Creating an ndarray from ragged nested sequences (which is a list-or-tuple of lists-or-tuples-or ndarrays with different lengths or shapes) is deprecated. If you meant to do this, you must specify 'dtype=object' when creating the ndarray\n",
      "  sites = np.array(sites)[uniq_inds]\n"
     ]
    },
    {
     "data": {
      "application/vnd.jupyter.widget-view+json": {
       "model_id": "e737b44a60dc4fbc8b54cceffb0283f6",
       "version_major": 2,
       "version_minor": 0
      },
      "text/plain": [
       "HBox(children=(FloatProgress(value=0.0, description='GlobalInstabilityIndex', max=1.0, style=ProgressStyle(des…"
      ]
     },
     "metadata": {},
     "output_type": "display_data"
    },
    {
     "name": "stdout",
     "output_type": "stream",
     "text": [
      "\n"
     ]
    },
    {
     "name": "stderr",
     "output_type": "stream",
     "text": [
      "/Users/jasonrpw/PycharmProjects/mit_model_code/venv/lib/python3.7/site-packages/tqdm/std.py:668: FutureWarning: The Panel class is removed from pandas. Accessing it from the top-level namespace will also be removed in the next version\n",
      "  from pandas import Panel\n"
     ]
    },
    {
     "data": {
      "application/vnd.jupyter.widget-view+json": {
       "model_id": "33fd434819bc4373a28893197e13b8a7",
       "version_major": 2,
       "version_minor": 0
      },
      "text/plain": [
       "HBox(children=(FloatProgress(value=0.0, description='Handbuilt Featurizer', max=1.0, style=ProgressStyle(descr…"
      ]
     },
     "metadata": {},
     "output_type": "display_data"
    },
    {
     "name": "stdout",
     "output_type": "stream",
     "text": [
      "\n"
     ]
    },
    {
     "data": {
      "text/html": [
       "<div>\n",
       "<style scoped>\n",
       "    .dataframe tbody tr th:only-of-type {\n",
       "        vertical-align: middle;\n",
       "    }\n",
       "\n",
       "    .dataframe tbody tr th {\n",
       "        vertical-align: top;\n",
       "    }\n",
       "\n",
       "    .dataframe thead th {\n",
       "        text-align: right;\n",
       "    }\n",
       "</style>\n",
       "<table border=\"1\" class=\"dataframe\">\n",
       "  <thead>\n",
       "    <tr style=\"text-align: right;\">\n",
       "      <th></th>\n",
       "      <th>Compound</th>\n",
       "      <th>structure</th>\n",
       "      <th>composition</th>\n",
       "      <th>MagpieData minimum Number</th>\n",
       "      <th>MagpieData maximum Number</th>\n",
       "      <th>MagpieData range Number</th>\n",
       "      <th>MagpieData mean Number</th>\n",
       "      <th>MagpieData avg_dev Number</th>\n",
       "      <th>MagpieData mode Number</th>\n",
       "      <th>MagpieData minimum MendeleevNumber</th>\n",
       "      <th>...</th>\n",
       "      <th>max_xx_dists</th>\n",
       "      <th>min_xx_dists</th>\n",
       "      <th>avg_xx_dists</th>\n",
       "      <th>v_m</th>\n",
       "      <th>v_x</th>\n",
       "      <th>iv</th>\n",
       "      <th>iv_p1</th>\n",
       "      <th>est_hubbard_u</th>\n",
       "      <th>est_charge_trans</th>\n",
       "      <th>volumn_per_sites</th>\n",
       "    </tr>\n",
       "  </thead>\n",
       "  <tbody>\n",
       "    <tr>\n",
       "      <th>0</th>\n",
       "      <td>CuNiO2</td>\n",
       "      <td>[[0. 0. 0.] Cu, [0.         0.         2.84837...</td>\n",
       "      <td>(Cu, Ni, O)</td>\n",
       "      <td>8.0</td>\n",
       "      <td>29.0</td>\n",
       "      <td>21.0</td>\n",
       "      <td>18.25</td>\n",
       "      <td>10.25</td>\n",
       "      <td>8.0</td>\n",
       "      <td>61.0</td>\n",
       "      <td>...</td>\n",
       "      <td>2.864732</td>\n",
       "      <td>2.77446</td>\n",
       "      <td>2.817046</td>\n",
       "      <td>-22.778703</td>\n",
       "      <td>23.63686</td>\n",
       "      <td>18.168838</td>\n",
       "      <td>35.187</td>\n",
       "      <td>11.991636</td>\n",
       "      <td>13.651685</td>\n",
       "      <td>9.840079</td>\n",
       "    </tr>\n",
       "  </tbody>\n",
       "</table>\n",
       "<p>1 rows × 169 columns</p>\n",
       "</div>"
      ],
      "text/plain": [
       "  Compound                                          structure  composition  \\\n",
       "0   CuNiO2  [[0. 0. 0.] Cu, [0.         0.         2.84837...  (Cu, Ni, O)   \n",
       "\n",
       "   MagpieData minimum Number  MagpieData maximum Number  \\\n",
       "0                        8.0                       29.0   \n",
       "\n",
       "   MagpieData range Number  MagpieData mean Number  MagpieData avg_dev Number  \\\n",
       "0                     21.0                   18.25                      10.25   \n",
       "\n",
       "   MagpieData mode Number  MagpieData minimum MendeleevNumber  ...  \\\n",
       "0                     8.0                                61.0  ...   \n",
       "\n",
       "   max_xx_dists  min_xx_dists  avg_xx_dists        v_m       v_x         iv  \\\n",
       "0      2.864732       2.77446      2.817046 -22.778703  23.63686  18.168838   \n",
       "\n",
       "    iv_p1  est_hubbard_u  est_charge_trans  volumn_per_sites  \n",
       "0  35.187      11.991636         13.651685          9.840079  \n",
       "\n",
       "[1 rows x 169 columns]"
      ]
     },
     "execution_count": 6,
     "metadata": {},
     "output_type": "execute_result"
    }
   ],
   "source": [
    "new_struct_df = read_new_struct(NEW_STRUCT_PATH)\n",
    "new_struct_df = composition_featurizer(new_struct_df)\n",
    "new_struct_df = structure_featurizer(new_struct_df)\n",
    "new_struct_df = handbuilt_featurizer(new_struct_df)\n",
    "new_struct_df"
   ]
  },
  {
   "cell_type": "markdown",
   "metadata": {},
   "source": [
    "## 3. Only select predictors that are in the processed data"
   ]
  },
  {
   "cell_type": "code",
   "execution_count": 7,
   "metadata": {},
   "outputs": [],
   "source": [
    "new_struct_df = abbreviate_features(new_struct_df)\n",
    "new_struct_df = new_struct_df.filter(items=df.columns).drop(columns=\"Compound\")"
   ]
  },
  {
   "cell_type": "code",
   "execution_count": 8,
   "metadata": {},
   "outputs": [
    {
     "data": {
      "text/html": [
       "<div>\n",
       "<style scoped>\n",
       "    .dataframe tbody tr th:only-of-type {\n",
       "        vertical-align: middle;\n",
       "    }\n",
       "\n",
       "    .dataframe tbody tr th {\n",
       "        vertical-align: top;\n",
       "    }\n",
       "\n",
       "    .dataframe thead th {\n",
       "        text-align: right;\n",
       "    }\n",
       "</style>\n",
       "<table border=\"1\" class=\"dataframe\">\n",
       "  <thead>\n",
       "    <tr style=\"text-align: right;\">\n",
       "      <th></th>\n",
       "      <th>range MendeleevNumber</th>\n",
       "      <th>avg_dev MendeleevNumber</th>\n",
       "      <th>range AtomicWeight</th>\n",
       "      <th>mean AtomicWeight</th>\n",
       "      <th>avg_dev AtomicWeight</th>\n",
       "      <th>range MeltingT</th>\n",
       "      <th>mean MeltingT</th>\n",
       "      <th>avg_dev MeltingT</th>\n",
       "      <th>range Column</th>\n",
       "      <th>avg_dev Column</th>\n",
       "      <th>...</th>\n",
       "      <th>avg_mx_dists</th>\n",
       "      <th>max_xx_dists</th>\n",
       "      <th>min_xx_dists</th>\n",
       "      <th>avg_xx_dists</th>\n",
       "      <th>v_x</th>\n",
       "      <th>iv</th>\n",
       "      <th>iv_p1</th>\n",
       "      <th>est_hubbard_u</th>\n",
       "      <th>est_charge_trans</th>\n",
       "      <th>volumn_per_sites</th>\n",
       "    </tr>\n",
       "  </thead>\n",
       "  <tbody>\n",
       "    <tr>\n",
       "      <th>0</th>\n",
       "      <td>26.0</td>\n",
       "      <td>12.25</td>\n",
       "      <td>47.5466</td>\n",
       "      <td>38.55955</td>\n",
       "      <td>22.56015</td>\n",
       "      <td>1673.2</td>\n",
       "      <td>798.8425</td>\n",
       "      <td>744.0425</td>\n",
       "      <td>6.0</td>\n",
       "      <td>2.75</td>\n",
       "      <td>...</td>\n",
       "      <td>2.091688</td>\n",
       "      <td>2.864732</td>\n",
       "      <td>2.77446</td>\n",
       "      <td>2.817046</td>\n",
       "      <td>23.63686</td>\n",
       "      <td>18.168838</td>\n",
       "      <td>35.187</td>\n",
       "      <td>11.991636</td>\n",
       "      <td>13.651685</td>\n",
       "      <td>9.840079</td>\n",
       "    </tr>\n",
       "  </tbody>\n",
       "</table>\n",
       "<p>1 rows × 92 columns</p>\n",
       "</div>"
      ],
      "text/plain": [
       "   range MendeleevNumber  avg_dev MendeleevNumber  range AtomicWeight  \\\n",
       "0                   26.0                    12.25             47.5466   \n",
       "\n",
       "   mean AtomicWeight  avg_dev AtomicWeight  range MeltingT  mean MeltingT  \\\n",
       "0           38.55955              22.56015          1673.2       798.8425   \n",
       "\n",
       "   avg_dev MeltingT  range Column  avg_dev Column  ...  avg_mx_dists  \\\n",
       "0          744.0425           6.0            2.75  ...      2.091688   \n",
       "\n",
       "   max_xx_dists  min_xx_dists  avg_xx_dists       v_x         iv   iv_p1  \\\n",
       "0      2.864732       2.77446      2.817046  23.63686  18.168838  35.187   \n",
       "\n",
       "   est_hubbard_u  est_charge_trans  volumn_per_sites  \n",
       "0      11.991636         13.651685          9.840079  \n",
       "\n",
       "[1 rows x 92 columns]"
      ]
     },
     "execution_count": 8,
     "metadata": {},
     "output_type": "execute_result"
    }
   ],
   "source": [
    "new_struct_df"
   ]
  },
  {
   "cell_type": "markdown",
   "metadata": {},
   "source": [
    "Compare the number of predictors with the training data loaded into the MIT classifier"
   ]
  },
  {
   "cell_type": "code",
   "execution_count": 9,
   "metadata": {},
   "outputs": [
    {
     "data": {
      "text/plain": [
       "92"
      ]
     },
     "execution_count": 9,
     "metadata": {},
     "output_type": "execute_result"
    }
   ],
   "source": [
    "train_x, _ = load_data(df, \"MIT\")\n",
    "train_x.shape[1]"
   ]
  },
  {
   "cell_type": "markdown",
   "metadata": {},
   "source": [
    "## 4. Print out the prediction label and probability"
   ]
  },
  {
   "cell_type": "code",
   "execution_count": 10,
   "metadata": {},
   "outputs": [
    {
     "name": "stdout",
     "output_type": "stream",
     "text": [
      "Is a metal: 0, and the probability of being a metal is :0.0002\n",
      "\n",
      "Is an insulator: 1, and the probability of being an insulator is :0.9776\n",
      "\n",
      "Is an mit: 0, and the probability of being an mit is :0.3099\n"
     ]
    }
   ],
   "source": [
    "print(\"Is a metal: {}, and the probability of being a metal is :{:0.4f}\\n\".format(metal_model.predict(new_struct_df)[0], metal_model.predict_proba(new_struct_df)[0][1]))\n",
    "print(\"Is an insulator: {}, and the probability of being an insulator is :{:0.4f}\\n\".format(insulator_model.predict(new_struct_df)[0], \n",
    "                                                                                    insulator_model.predict_proba(new_struct_df)[0][1]))\n",
    "print(\"Is an mit: {}, and the probability of being an mit is :{:0.4f}\".format(mit_model.predict(new_struct_df)[0], mit_model.predict_proba(new_struct_df)[0][1]))"
   ]
  }
 ],
 "metadata": {
  "kernelspec": {
   "display_name": "PyCharm (mit_model_code)",
   "language": "python",
   "name": "pycharm-43a0cb91"
  },
  "language_info": {
   "codemirror_mode": {
    "name": "ipython",
    "version": 3
   },
   "file_extension": ".py",
   "mimetype": "text/x-python",
   "name": "python",
   "nbconvert_exporter": "python",
   "pygments_lexer": "ipython3",
   "version": "3.7.4"
  }
 },
 "nbformat": 4,
 "nbformat_minor": 4
}
