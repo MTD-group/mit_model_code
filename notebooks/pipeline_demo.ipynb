{
 "cells": [
  {
   "cell_type": "markdown",
   "metadata": {},
   "source": [
    "# Introduction\n",
    "\n",
    "This notebook demostrates the prediction pipeline for the trained classifiers. With the 3 pretrained classifiers, you can easily classify a new structure that is not included in the original training set.\n",
    "\n",
    "**Note**: For easier readability, you can change the fontsize of this notebook by navigating to `Settings` -> `JupyterLab Theme` and increasing or decreasing the fontsize from the dropdown menu."
   ]
  },
  {
   "cell_type": "markdown",
   "metadata": {},
   "source": [
    "# Import packages and functions"
   ]
  },
  {
   "cell_type": "code",
   "execution_count": 1,
   "metadata": {},
   "outputs": [],
   "source": [
    "import sys\n",
    "# force the notebook to look for files in the upper level directory\n",
    "sys.path.insert(1, '../')"
   ]
  },
  {
   "cell_type": "code",
   "execution_count": 2,
   "metadata": {},
   "outputs": [],
   "source": [
    "import pandas as pd\n",
    "import xgboost as xgb\n",
    "import seaborn as sns\n",
    "import plotly.express as px\n",
    "import matplotlib.pyplot as plt\n",
    "from IPython.display import IFrame\n",
    "from sklearn.impute import KNNImputer\n",
    "from model.model_building import load_data\n",
    "from data.data_cleaning import abbreviate_features\n",
    "from data.compound_featurizer import read_new_struct, composition_featurizer, structure_featurizer, handbuilt_featurizer"
   ]
  },
  {
   "cell_type": "markdown",
   "metadata": {},
   "source": [
    "# Set up constants\n",
    "The `REDUCED_PATH` contains the data with the reduced feature set, used to train the classifiers. The `FULL_PATH` contains the data with the full feature set. Essentially, in terms of the number of predictors, the reduced feature dataset is a subset of the full feature dataset, with features selected according to SHAP feature importance and domain knowledge.\n",
    "\n",
    "The `NEW_STRUCT_PATH` contains the demo CIF structure file and you can _**test your own structure**_ by uploading the CIF file to the \"user_defined_structures\" folder and changing the `NEW_STRUCT_PATH`. You can save time by pressing <kbd>⇥ Tab</kbd> for auto-completion after typing the first few words.\n",
    "\n",
    "**Note**: If you choose to upload your own cif structure file, it is preferable that the structure already has an oxidation state assigned to each site. If not, the featurizer will try to guess the oxidation states using the [oxi_state_guesses()](https://pymatgen.org/pymatgen.core.composition.html?highlight=oxi_state_guesses#pymatgen.core.composition.Composition.oxi_state_guesses) function from Pymatgen. There is no guarantee that the guessed oxidation states will be correct and the script will also ask for user input if it is unable to guess the oxidation states. In addition, the uploaded structure has to have at least **2 different elements** (i.e. at least a binary compound). A single element structure such as Si will lead to an error in the script.\n",
    "\n",
    "There are 3 demo structures: CuNiO$_2$, Ca2CoN$_2$ and Ga(MoSe$_2$)$_4$ for you to try out and they are not present in the training database. "
   ]
  },
  {
   "cell_type": "code",
   "execution_count": 3,
   "metadata": {},
   "outputs": [],
   "source": [
    "REDUCED_PATH = \"../data/processed/IMT_Classification_Dataset_Reduced_Feature_Set_v9.xlsx\"\n",
    "FULL_PATH = \"../data/processed/IMT_Classification_Dataset_Full_Feature_Set_v9.xlsx\"\n",
    "NEW_STRUCT_PATH = \"./user_defined_structures/CuNiO2_mp-1178372_primitive.cif\""
   ]
  },
  {
   "cell_type": "markdown",
   "metadata": {},
   "source": [
    "# Define some helper functions"
   ]
  },
  {
   "cell_type": "code",
   "execution_count": 4,
   "metadata": {},
   "outputs": [],
   "source": [
    "def assign_oxi_state(elem_symbol):\n",
    "    \"\"\"Allow the user to assign oxidation state to each element.\"\"\"\n",
    "    oxi_state = input(\"{}:\".format(elem_symbol))\n",
    "    return float(oxi_state)\n",
    "\n",
    "\n",
    "def check_oxi_state(structure):\n",
    "    \"\"\"Check if the guessed oxidation states are all zero. If so, trigger user input.\"\"\"\n",
    "    if not structure.composition.oxi_state_guesses():\n",
    "        # get all the elements in the input structure\n",
    "        elem_lst = [element.symbol for element in structure.composition.element_composition.elements]\n",
    "        # get the reduced formula\n",
    "        reduced_formula = structure.composition.reduced_formula\n",
    "        print(\"Unable to guess oxidation states for {}. Please manually assign oxidation states by element\".format(reduced_formula))\n",
    "        # get a dictionary to overwrite the default guessed oxidation states\n",
    "        elem_oxi_states = {elem_symbol: [assign_oxi_state(elem_symbol)] for elem_symbol in elem_lst}\n",
    "        return elem_oxi_states\n",
    "    return None\n",
    "\n",
    "\n",
    "def featurizer_wrapper(df_input):\n",
    "    \"\"\"A wrapper function around the composition, structure and handbuilt featurizers.\"\"\"\n",
    "    # get the structure from the initialized dataframe\n",
    "    new_struct = df_input.at[0, \"structure\"]\n",
    "    # check if the guessed oxidation states are all zeros and allow user-overwrite if true\n",
    "    oxi_states_by_element = check_oxi_state(new_struct)\n",
    "    # featurize the given structure using 3 predefined featurizers\n",
    "    df_output = composition_featurizer(df_input, oxi_states_override=oxi_states_by_element)\n",
    "    df_output = structure_featurizer(df_output, oxi_states_override=oxi_states_by_element)\n",
    "    df_output = handbuilt_featurizer(df_output)\n",
    "    return df_output\n",
    "\n",
    "\n",
    "def process_new_struct_df(df_new, df_full_set):\n",
    "    \"\"\"Process the newly featurized structure and impute any missing values with KNNImputer\"\"\"\n",
    "    new_struct_df_with_name = abbreviate_features(df_new)\n",
    "    # check if the dataframe contains missing values: if not, then return immediately\n",
    "    if new_struct_df_with_name.isna().sum(axis=1)[0] == 0:\n",
    "        return new_struct_df_with_name.drop(columns=\"Compound\"), new_struct_df_with_name\n",
    "    # select the same features as the full feature set\n",
    "    new_struct_df = new_struct_df_with_name.filter(items=df_full_set.columns).drop(columns=\"Compound\")\n",
    "    # combine the full feature set with the new structure's features\n",
    "    df_with_new_struct = pd.concat([df_full_set.drop(columns=[\"Compound\", \"Label\", \"struct_file_path\"]), \n",
    "                                    new_struct_df], ignore_index=True)\n",
    "    \n",
    "    # impute the missing values with the values from the 5 nearest neighbors \n",
    "    # weighted by their distances to the new structures' non-missing values\n",
    "    knn_imputer = KNNImputer(n_neighbors=5, weights=\"distance\")\n",
    "    # get the imputed dataframe for the new structure\n",
    "    new_struct_df_imputed = knn_imputer.fit_transform(df_with_new_struct)[-1]\n",
    "    # add back the column names\n",
    "    new_struct_df = pd.DataFrame([new_struct_df_imputed], columns=new_struct_df.columns)\n",
    "    # get the new structure name and create a copy of new_struct_df with the compound name\n",
    "    new_struct_name = new_struct_df_with_name.at[0, \"Compound\"]\n",
    "    new_struct_df_with_name = new_struct_df.copy()\n",
    "    new_struct_df_with_name[\"Compound\"] = new_struct_name\n",
    "    return new_struct_df, new_struct_df_with_name"
   ]
  },
  {
   "cell_type": "markdown",
   "metadata": {},
   "source": [
    "# Read in the reduced dataset\n",
    "\n",
    "This is a quick overview of the training dataset. It will be used later on to select the relevant features from the raw output of the featurizer."
   ]
  },
  {
   "cell_type": "code",
   "execution_count": 5,
   "metadata": {},
   "outputs": [
    {
     "data": {
      "text/html": [
       "<div>\n",
       "<style scoped>\n",
       "    .dataframe tbody tr th:only-of-type {\n",
       "        vertical-align: middle;\n",
       "    }\n",
       "\n",
       "    .dataframe tbody tr th {\n",
       "        vertical-align: top;\n",
       "    }\n",
       "\n",
       "    .dataframe thead th {\n",
       "        text-align: right;\n",
       "    }\n",
       "</style>\n",
       "<table border=\"1\" class=\"dataframe\">\n",
       "  <thead>\n",
       "    <tr style=\"text-align: right;\">\n",
       "      <th></th>\n",
       "      <th>Compound</th>\n",
       "      <th>Label</th>\n",
       "      <th>struct_file_path</th>\n",
       "      <th>gii</th>\n",
       "      <th>est_hubbard_u</th>\n",
       "      <th>est_charge_trans</th>\n",
       "      <th>ewald_energy_per_atom</th>\n",
       "      <th>maximum_MendeleevNumber</th>\n",
       "      <th>range_MendeleevNumber</th>\n",
       "      <th>avg_dev_CovalentRadius</th>\n",
       "      <th>avg_mm_dists</th>\n",
       "      <th>avg_mx_dists</th>\n",
       "      <th>avg_xx_dists</th>\n",
       "    </tr>\n",
       "  </thead>\n",
       "  <tbody>\n",
       "    <tr>\n",
       "      <th>0</th>\n",
       "      <td>BaMoO3</td>\n",
       "      <td>0</td>\n",
       "      <td>../data/Structures/Metals/BaMoO3_CollCode_2915...</td>\n",
       "      <td>0.321007</td>\n",
       "      <td>10.523409</td>\n",
       "      <td>11.946426</td>\n",
       "      <td>-35.287498</td>\n",
       "      <td>87</td>\n",
       "      <td>78</td>\n",
       "      <td>56.880000</td>\n",
       "      <td>4.040770</td>\n",
       "      <td>2.020385</td>\n",
       "      <td>2.857256</td>\n",
       "    </tr>\n",
       "    <tr>\n",
       "      <th>1</th>\n",
       "      <td>BaNiS2</td>\n",
       "      <td>0</td>\n",
       "      <td>../data/Structures/Metals/BaNiS2_CollCode_2469...</td>\n",
       "      <td>0.195702</td>\n",
       "      <td>12.893512</td>\n",
       "      <td>21.595766</td>\n",
       "      <td>-18.401393</td>\n",
       "      <td>88</td>\n",
       "      <td>79</td>\n",
       "      <td>38.875000</td>\n",
       "      <td>3.491120</td>\n",
       "      <td>2.331183</td>\n",
       "      <td>3.654519</td>\n",
       "    </tr>\n",
       "    <tr>\n",
       "      <th>2</th>\n",
       "      <td>BaOsO3</td>\n",
       "      <td>0</td>\n",
       "      <td>../data/Structures/Metals/BaOsO3_SD_0375565.cif</td>\n",
       "      <td>0.817185</td>\n",
       "      <td>8.412244</td>\n",
       "      <td>3.591515</td>\n",
       "      <td>-32.606822</td>\n",
       "      <td>87</td>\n",
       "      <td>78</td>\n",
       "      <td>54.480000</td>\n",
       "      <td>2.577001</td>\n",
       "      <td>2.105553</td>\n",
       "      <td>2.978994</td>\n",
       "    </tr>\n",
       "    <tr>\n",
       "      <th>3</th>\n",
       "      <td>Bi2Ru2O7</td>\n",
       "      <td>0</td>\n",
       "      <td>../data/Structures/Metals/Bi2Ru2O7_CollCode_73...</td>\n",
       "      <td>0.277386</td>\n",
       "      <td>10.043255</td>\n",
       "      <td>11.876142</td>\n",
       "      <td>-39.922005</td>\n",
       "      <td>87</td>\n",
       "      <td>31</td>\n",
       "      <td>37.487603</td>\n",
       "      <td>3.639266</td>\n",
       "      <td>1.938742</td>\n",
       "      <td>3.077187</td>\n",
       "    </tr>\n",
       "    <tr>\n",
       "      <th>4</th>\n",
       "      <td>Ca3Ru2O7</td>\n",
       "      <td>0</td>\n",
       "      <td>../data/Structures/Metals/Ca3Ru2O7_CollCode_15...</td>\n",
       "      <td>0.117212</td>\n",
       "      <td>10.277936</td>\n",
       "      <td>8.827434</td>\n",
       "      <td>-33.810870</td>\n",
       "      <td>87</td>\n",
       "      <td>80</td>\n",
       "      <td>47.638889</td>\n",
       "      <td>3.868727</td>\n",
       "      <td>1.992857</td>\n",
       "      <td>2.933553</td>\n",
       "    </tr>\n",
       "    <tr>\n",
       "      <th>...</th>\n",
       "      <td>...</td>\n",
       "      <td>...</td>\n",
       "      <td>...</td>\n",
       "      <td>...</td>\n",
       "      <td>...</td>\n",
       "      <td>...</td>\n",
       "      <td>...</td>\n",
       "      <td>...</td>\n",
       "      <td>...</td>\n",
       "      <td>...</td>\n",
       "      <td>...</td>\n",
       "      <td>...</td>\n",
       "      <td>...</td>\n",
       "    </tr>\n",
       "    <tr>\n",
       "      <th>223</th>\n",
       "      <td>V6O13</td>\n",
       "      <td>2</td>\n",
       "      <td>../data/Structures/MIT_materials/HighT/V6O13_H...</td>\n",
       "      <td>0.198242</td>\n",
       "      <td>58.592940</td>\n",
       "      <td>-12.467020</td>\n",
       "      <td>-51.589654</td>\n",
       "      <td>87</td>\n",
       "      <td>41</td>\n",
       "      <td>37.595568</td>\n",
       "      <td>3.387826</td>\n",
       "      <td>1.938791</td>\n",
       "      <td>2.767633</td>\n",
       "    </tr>\n",
       "    <tr>\n",
       "      <th>224</th>\n",
       "      <td>V8O15</td>\n",
       "      <td>2</td>\n",
       "      <td>../data/Structures/MIT_materials/HighT/V8O15_H...</td>\n",
       "      <td>0.296188</td>\n",
       "      <td>13.875184</td>\n",
       "      <td>11.940681</td>\n",
       "      <td>-44.765762</td>\n",
       "      <td>87</td>\n",
       "      <td>41</td>\n",
       "      <td>39.470699</td>\n",
       "      <td>3.269840</td>\n",
       "      <td>1.952518</td>\n",
       "      <td>2.819850</td>\n",
       "    </tr>\n",
       "    <tr>\n",
       "      <th>225</th>\n",
       "      <td>VO2</td>\n",
       "      <td>2</td>\n",
       "      <td>../data/Structures/MIT_materials/HighT/VO2_HT_...</td>\n",
       "      <td>0.128538</td>\n",
       "      <td>14.484546</td>\n",
       "      <td>9.779242</td>\n",
       "      <td>-47.781257</td>\n",
       "      <td>87</td>\n",
       "      <td>41</td>\n",
       "      <td>38.666667</td>\n",
       "      <td>3.522330</td>\n",
       "      <td>1.927294</td>\n",
       "      <td>2.675472</td>\n",
       "    </tr>\n",
       "    <tr>\n",
       "      <th>226</th>\n",
       "      <td>YNiO3</td>\n",
       "      <td>2</td>\n",
       "      <td>../data/Structures/MIT_materials/HighT/YNiO3_6...</td>\n",
       "      <td>0.231001</td>\n",
       "      <td>15.898371</td>\n",
       "      <td>10.393278</td>\n",
       "      <td>-34.202393</td>\n",
       "      <td>87</td>\n",
       "      <td>75</td>\n",
       "      <td>43.680000</td>\n",
       "      <td>3.755161</td>\n",
       "      <td>1.963601</td>\n",
       "      <td>2.827539</td>\n",
       "    </tr>\n",
       "    <tr>\n",
       "      <th>227</th>\n",
       "      <td>YbFe4(CuO4)3</td>\n",
       "      <td>2</td>\n",
       "      <td>../data/Structures/MIT_materials/HighT/YbCu3Fe...</td>\n",
       "      <td>0.379838</td>\n",
       "      <td>16.597335</td>\n",
       "      <td>7.361181</td>\n",
       "      <td>-35.600500</td>\n",
       "      <td>87</td>\n",
       "      <td>48</td>\n",
       "      <td>34.980000</td>\n",
       "      <td>3.653190</td>\n",
       "      <td>2.365615</td>\n",
       "      <td>2.744642</td>\n",
       "    </tr>\n",
       "  </tbody>\n",
       "</table>\n",
       "<p>228 rows × 13 columns</p>\n",
       "</div>"
      ],
      "text/plain": [
       "         Compound  Label                                   struct_file_path  \\\n",
       "0          BaMoO3      0  ../data/Structures/Metals/BaMoO3_CollCode_2915...   \n",
       "1          BaNiS2      0  ../data/Structures/Metals/BaNiS2_CollCode_2469...   \n",
       "2          BaOsO3      0    ../data/Structures/Metals/BaOsO3_SD_0375565.cif   \n",
       "3        Bi2Ru2O7      0  ../data/Structures/Metals/Bi2Ru2O7_CollCode_73...   \n",
       "4        Ca3Ru2O7      0  ../data/Structures/Metals/Ca3Ru2O7_CollCode_15...   \n",
       "..            ...    ...                                                ...   \n",
       "223         V6O13      2  ../data/Structures/MIT_materials/HighT/V6O13_H...   \n",
       "224         V8O15      2  ../data/Structures/MIT_materials/HighT/V8O15_H...   \n",
       "225           VO2      2  ../data/Structures/MIT_materials/HighT/VO2_HT_...   \n",
       "226         YNiO3      2  ../data/Structures/MIT_materials/HighT/YNiO3_6...   \n",
       "227  YbFe4(CuO4)3      2  ../data/Structures/MIT_materials/HighT/YbCu3Fe...   \n",
       "\n",
       "          gii  est_hubbard_u  est_charge_trans  ewald_energy_per_atom  \\\n",
       "0    0.321007      10.523409         11.946426             -35.287498   \n",
       "1    0.195702      12.893512         21.595766             -18.401393   \n",
       "2    0.817185       8.412244          3.591515             -32.606822   \n",
       "3    0.277386      10.043255         11.876142             -39.922005   \n",
       "4    0.117212      10.277936          8.827434             -33.810870   \n",
       "..        ...            ...               ...                    ...   \n",
       "223  0.198242      58.592940        -12.467020             -51.589654   \n",
       "224  0.296188      13.875184         11.940681             -44.765762   \n",
       "225  0.128538      14.484546          9.779242             -47.781257   \n",
       "226  0.231001      15.898371         10.393278             -34.202393   \n",
       "227  0.379838      16.597335          7.361181             -35.600500   \n",
       "\n",
       "     maximum_MendeleevNumber  range_MendeleevNumber  avg_dev_CovalentRadius  \\\n",
       "0                         87                     78               56.880000   \n",
       "1                         88                     79               38.875000   \n",
       "2                         87                     78               54.480000   \n",
       "3                         87                     31               37.487603   \n",
       "4                         87                     80               47.638889   \n",
       "..                       ...                    ...                     ...   \n",
       "223                       87                     41               37.595568   \n",
       "224                       87                     41               39.470699   \n",
       "225                       87                     41               38.666667   \n",
       "226                       87                     75               43.680000   \n",
       "227                       87                     48               34.980000   \n",
       "\n",
       "     avg_mm_dists  avg_mx_dists  avg_xx_dists  \n",
       "0        4.040770      2.020385      2.857256  \n",
       "1        3.491120      2.331183      3.654519  \n",
       "2        2.577001      2.105553      2.978994  \n",
       "3        3.639266      1.938742      3.077187  \n",
       "4        3.868727      1.992857      2.933553  \n",
       "..            ...           ...           ...  \n",
       "223      3.387826      1.938791      2.767633  \n",
       "224      3.269840      1.952518      2.819850  \n",
       "225      3.522330      1.927294      2.675472  \n",
       "226      3.755161      1.963601      2.827539  \n",
       "227      3.653190      2.365615      2.744642  \n",
       "\n",
       "[228 rows x 13 columns]"
      ]
     },
     "execution_count": 5,
     "metadata": {},
     "output_type": "execute_result"
    }
   ],
   "source": [
    "df = pd.read_excel(REDUCED_PATH)\n",
    "df"
   ]
  },
  {
   "cell_type": "markdown",
   "metadata": {},
   "source": [
    "As we can see here, the processed dataset used for training the classifier has 228 unique compounds and 13 columns. Excluding `Compound`, `Label` and `struct_file_path`, there are 10 features used for prediction (i.e. 10 predictors)."
   ]
  },
  {
   "cell_type": "markdown",
   "metadata": {},
   "source": [
    "# Make a prediction on a never-before-seen structure\n",
    "\n",
    "## 1. Load the three trained models"
   ]
  },
  {
   "cell_type": "code",
   "execution_count": 6,
   "metadata": {},
   "outputs": [],
   "source": [
    "# load the metal vs. non_metal classifier\n",
    "metal_model = xgb.XGBClassifier()\n",
    "metal_model.load_model(\"../model/saved_models/new_models/metal_reduced.model\")\n",
    "\n",
    "# load the insulator vs. non_insulator classifier\n",
    "insulator_model = xgb.XGBClassifier()\n",
    "insulator_model.load_model(\"../model/saved_models/new_models/insulator_reduced.model\")\n",
    "\n",
    "# load the mit vs. non_mit classifier\n",
    "mit_model = xgb.XGBClassifier()\n",
    "mit_model.load_model(\"../model/saved_models/new_models/mit_reduced.model\")"
   ]
  },
  {
   "cell_type": "markdown",
   "metadata": {},
   "source": [
    "## 2. Read in and featurize the new structure"
   ]
  },
  {
   "cell_type": "code",
   "execution_count": 7,
   "metadata": {},
   "outputs": [
    {
     "data": {
      "application/vnd.jupyter.widget-view+json": {
       "model_id": "9ad3f873eb134411907f52ed8890e44d",
       "version_major": 2,
       "version_minor": 0
      },
      "text/plain": [
       "HBox(children=(FloatProgress(value=0.0, description='StrToComposition', max=1.0, style=ProgressStyle(descripti…"
      ]
     },
     "metadata": {},
     "output_type": "display_data"
    },
    {
     "name": "stdout",
     "output_type": "stream",
     "text": [
      "\n"
     ]
    },
    {
     "data": {
      "application/vnd.jupyter.widget-view+json": {
       "model_id": "5646eb2fb75248c5b2158d465f0c70af",
       "version_major": 2,
       "version_minor": 0
      },
      "text/plain": [
       "HBox(children=(FloatProgress(value=0.0, description='ElementProperty', max=1.0, style=ProgressStyle(descriptio…"
      ]
     },
     "metadata": {},
     "output_type": "display_data"
    },
    {
     "name": "stdout",
     "output_type": "stream",
     "text": [
      "\n"
     ]
    },
    {
     "data": {
      "application/vnd.jupyter.widget-view+json": {
       "model_id": "4c89cde9d4094d38999d6f5f8795a8c7",
       "version_major": 2,
       "version_minor": 0
      },
      "text/plain": [
       "HBox(children=(FloatProgress(value=0.0, description='CompositionToOxidComposition', max=1.0, style=ProgressSty…"
      ]
     },
     "metadata": {},
     "output_type": "display_data"
    },
    {
     "name": "stdout",
     "output_type": "stream",
     "text": [
      "\n"
     ]
    },
    {
     "data": {
      "application/vnd.jupyter.widget-view+json": {
       "model_id": "73a073ecac8342cf95c3597f67d9fc26",
       "version_major": 2,
       "version_minor": 0
      },
      "text/plain": [
       "HBox(children=(FloatProgress(value=0.0, description='OxidationStates', max=1.0, style=ProgressStyle(descriptio…"
      ]
     },
     "metadata": {},
     "output_type": "display_data"
    },
    {
     "name": "stdout",
     "output_type": "stream",
     "text": [
      "\n"
     ]
    },
    {
     "data": {
      "application/vnd.jupyter.widget-view+json": {
       "model_id": "f340e1b2fc5b49829364cfb078b277b7",
       "version_major": 2,
       "version_minor": 0
      },
      "text/plain": [
       "HBox(children=(FloatProgress(value=0.0, description='StructureToOxidStructure', max=1.0, style=ProgressStyle(d…"
      ]
     },
     "metadata": {},
     "output_type": "display_data"
    },
    {
     "name": "stdout",
     "output_type": "stream",
     "text": [
      "\n"
     ]
    },
    {
     "data": {
      "application/vnd.jupyter.widget-view+json": {
       "model_id": "45251c79bda04b60868e2937a7458816",
       "version_major": 2,
       "version_minor": 0
      },
      "text/plain": [
       "HBox(children=(FloatProgress(value=0.0, description='EwaldEnergy', max=1.0, style=ProgressStyle(description_wi…"
      ]
     },
     "metadata": {},
     "output_type": "display_data"
    },
    {
     "name": "stdout",
     "output_type": "stream",
     "text": [
      "\n"
     ]
    },
    {
     "data": {
      "application/vnd.jupyter.widget-view+json": {
       "model_id": "9cdc293cbe4d44f49ddbc6bcff5d827b",
       "version_major": 2,
       "version_minor": 0
      },
      "text/plain": [
       "HBox(children=(FloatProgress(value=0.0, description='StructuralHeterogeneity', max=1.0, style=ProgressStyle(de…"
      ]
     },
     "metadata": {},
     "output_type": "display_data"
    },
    {
     "name": "stdout",
     "output_type": "stream",
     "text": [
      "\n"
     ]
    },
    {
     "data": {
      "application/vnd.jupyter.widget-view+json": {
       "model_id": "29fcfcb791a3438188456be59e162550",
       "version_major": 2,
       "version_minor": 0
      },
      "text/plain": [
       "HBox(children=(FloatProgress(value=0.0, description='GlobalInstabilityIndex', max=1.0, style=ProgressStyle(des…"
      ]
     },
     "metadata": {},
     "output_type": "display_data"
    },
    {
     "name": "stdout",
     "output_type": "stream",
     "text": [
      "\n"
     ]
    },
    {
     "name": "stderr",
     "output_type": "stream",
     "text": [
      "/Users/jasonrpw/PycharmProjects/mit_model_code/venv/lib/python3.7/site-packages/tqdm/std.py:670: FutureWarning: The Panel class is removed from pandas. Accessing it from the top-level namespace will also be removed in the next version\n",
      "  from pandas import Panel\n"
     ]
    },
    {
     "data": {
      "application/vnd.jupyter.widget-view+json": {
       "model_id": "9132b230b1c643a8ad36d8a93452b895",
       "version_major": 2,
       "version_minor": 0
      },
      "text/plain": [
       "HBox(children=(FloatProgress(value=0.0, description='Handbuilt Featurizer', max=1.0, style=ProgressStyle(descr…"
      ]
     },
     "metadata": {},
     "output_type": "display_data"
    },
    {
     "name": "stdout",
     "output_type": "stream",
     "text": [
      "\n"
     ]
    }
   ],
   "source": [
    "new_struct_df = read_new_struct(NEW_STRUCT_PATH)\n",
    "new_struct_df = featurizer_wrapper(new_struct_df)"
   ]
  },
  {
   "cell_type": "markdown",
   "metadata": {},
   "source": [
    "Here is the raw output from the featurizer."
   ]
  },
  {
   "cell_type": "code",
   "execution_count": 8,
   "metadata": {},
   "outputs": [
    {
     "data": {
      "text/html": [
       "<div>\n",
       "<style scoped>\n",
       "    .dataframe tbody tr th:only-of-type {\n",
       "        vertical-align: middle;\n",
       "    }\n",
       "\n",
       "    .dataframe tbody tr th {\n",
       "        vertical-align: top;\n",
       "    }\n",
       "\n",
       "    .dataframe thead th {\n",
       "        text-align: right;\n",
       "    }\n",
       "</style>\n",
       "<table border=\"1\" class=\"dataframe\">\n",
       "  <thead>\n",
       "    <tr style=\"text-align: right;\">\n",
       "      <th></th>\n",
       "      <th>Compound</th>\n",
       "      <th>structure</th>\n",
       "      <th>composition</th>\n",
       "      <th>MagpieData minimum Number</th>\n",
       "      <th>MagpieData maximum Number</th>\n",
       "      <th>MagpieData range Number</th>\n",
       "      <th>MagpieData mean Number</th>\n",
       "      <th>MagpieData avg_dev Number</th>\n",
       "      <th>MagpieData mode Number</th>\n",
       "      <th>MagpieData minimum MendeleevNumber</th>\n",
       "      <th>...</th>\n",
       "      <th>max_xx_dists</th>\n",
       "      <th>min_xx_dists</th>\n",
       "      <th>avg_xx_dists</th>\n",
       "      <th>v_m</th>\n",
       "      <th>v_x</th>\n",
       "      <th>iv</th>\n",
       "      <th>iv_p1</th>\n",
       "      <th>est_hubbard_u</th>\n",
       "      <th>est_charge_trans</th>\n",
       "      <th>volume_per_site</th>\n",
       "    </tr>\n",
       "  </thead>\n",
       "  <tbody>\n",
       "    <tr>\n",
       "      <th>0</th>\n",
       "      <td>CuNiO2</td>\n",
       "      <td>[[0. 0. 0.] Cu, [0.         0.         2.84837...</td>\n",
       "      <td>(Cu, Ni, O)</td>\n",
       "      <td>8.0</td>\n",
       "      <td>29.0</td>\n",
       "      <td>21.0</td>\n",
       "      <td>18.25</td>\n",
       "      <td>10.25</td>\n",
       "      <td>8.0</td>\n",
       "      <td>61.0</td>\n",
       "      <td>...</td>\n",
       "      <td>2.864732</td>\n",
       "      <td>2.77446</td>\n",
       "      <td>2.817046</td>\n",
       "      <td>-24.969425</td>\n",
       "      <td>23.63686</td>\n",
       "      <td>18.168838</td>\n",
       "      <td>35.187</td>\n",
       "      <td>11.991636</td>\n",
       "      <td>15.842407</td>\n",
       "      <td>9.840079</td>\n",
       "    </tr>\n",
       "  </tbody>\n",
       "</table>\n",
       "<p>1 rows × 170 columns</p>\n",
       "</div>"
      ],
      "text/plain": [
       "  Compound                                          structure  composition  \\\n",
       "0   CuNiO2  [[0. 0. 0.] Cu, [0.         0.         2.84837...  (Cu, Ni, O)   \n",
       "\n",
       "   MagpieData minimum Number  MagpieData maximum Number  \\\n",
       "0                        8.0                       29.0   \n",
       "\n",
       "   MagpieData range Number  MagpieData mean Number  MagpieData avg_dev Number  \\\n",
       "0                     21.0                   18.25                      10.25   \n",
       "\n",
       "   MagpieData mode Number  MagpieData minimum MendeleevNumber  ...  \\\n",
       "0                     8.0                                61.0  ...   \n",
       "\n",
       "   max_xx_dists  min_xx_dists  avg_xx_dists        v_m       v_x         iv  \\\n",
       "0      2.864732       2.77446      2.817046 -24.969425  23.63686  18.168838   \n",
       "\n",
       "    iv_p1  est_hubbard_u  est_charge_trans  volume_per_site  \n",
       "0  35.187      11.991636         15.842407         9.840079  \n",
       "\n",
       "[1 rows x 170 columns]"
      ]
     },
     "execution_count": 8,
     "metadata": {},
     "output_type": "execute_result"
    }
   ],
   "source": [
    "new_struct_df"
   ]
  },
  {
   "cell_type": "markdown",
   "metadata": {},
   "source": [
    "## 3. Only select predictors that are in the reduced feature set\n",
    "\n",
    "We need to load in the dataset with the full feature set to help impute the missing values in the newly featurized structure, should there be any. The imputing process utilizes the [KNNImputer](https://scikit-learn.org/stable/modules/generated/sklearn.impute.KNNImputer.html) from scikit-learn."
   ]
  },
  {
   "cell_type": "code",
   "execution_count": 9,
   "metadata": {},
   "outputs": [
    {
     "data": {
      "text/html": [
       "<div>\n",
       "<style scoped>\n",
       "    .dataframe tbody tr th:only-of-type {\n",
       "        vertical-align: middle;\n",
       "    }\n",
       "\n",
       "    .dataframe tbody tr th {\n",
       "        vertical-align: top;\n",
       "    }\n",
       "\n",
       "    .dataframe thead th {\n",
       "        text-align: right;\n",
       "    }\n",
       "</style>\n",
       "<table border=\"1\" class=\"dataframe\">\n",
       "  <thead>\n",
       "    <tr style=\"text-align: right;\">\n",
       "      <th></th>\n",
       "      <th>Compound</th>\n",
       "      <th>Label</th>\n",
       "      <th>struct_file_path</th>\n",
       "      <th>maximum_MendeleevNumber</th>\n",
       "      <th>range_MendeleevNumber</th>\n",
       "      <th>avg_dev_MendeleevNumber</th>\n",
       "      <th>range_AtomicWeight</th>\n",
       "      <th>mean_AtomicWeight</th>\n",
       "      <th>avg_dev_AtomicWeight</th>\n",
       "      <th>mode_AtomicWeight</th>\n",
       "      <th>...</th>\n",
       "      <th>max_xx_dists</th>\n",
       "      <th>min_xx_dists</th>\n",
       "      <th>avg_xx_dists</th>\n",
       "      <th>v_m</th>\n",
       "      <th>v_x</th>\n",
       "      <th>iv</th>\n",
       "      <th>iv_p1</th>\n",
       "      <th>est_hubbard_u</th>\n",
       "      <th>est_charge_trans</th>\n",
       "      <th>volume_per_site</th>\n",
       "    </tr>\n",
       "  </thead>\n",
       "  <tbody>\n",
       "    <tr>\n",
       "      <th>0</th>\n",
       "      <td>BaMoO3</td>\n",
       "      <td>0</td>\n",
       "      <td>../data/Structures/Metals/BaMoO3_CollCode_2915...</td>\n",
       "      <td>87</td>\n",
       "      <td>78</td>\n",
       "      <td>27.600000</td>\n",
       "      <td>121.32760</td>\n",
       "      <td>56.257040</td>\n",
       "      <td>48.309168</td>\n",
       "      <td>15.9994</td>\n",
       "      <td>...</td>\n",
       "      <td>2.857256</td>\n",
       "      <td>2.857256</td>\n",
       "      <td>2.857256</td>\n",
       "      <td>-44.108215</td>\n",
       "      <td>23.006209</td>\n",
       "      <td>40.330000</td>\n",
       "      <td>54.417000</td>\n",
       "      <td>10.523409</td>\n",
       "      <td>11.946426</td>\n",
       "      <td>13.195395</td>\n",
       "    </tr>\n",
       "    <tr>\n",
       "      <th>1</th>\n",
       "      <td>BaNiS2</td>\n",
       "      <td>0</td>\n",
       "      <td>../data/Structures/Metals/BaNiS2_CollCode_2469...</td>\n",
       "      <td>88</td>\n",
       "      <td>79</td>\n",
       "      <td>26.500000</td>\n",
       "      <td>105.26200</td>\n",
       "      <td>65.037600</td>\n",
       "      <td>36.144700</td>\n",
       "      <td>32.0650</td>\n",
       "      <td>...</td>\n",
       "      <td>3.783737</td>\n",
       "      <td>3.137645</td>\n",
       "      <td>3.654519</td>\n",
       "      <td>-21.082598</td>\n",
       "      <td>20.132993</td>\n",
       "      <td>18.168838</td>\n",
       "      <td>35.187000</td>\n",
       "      <td>12.893512</td>\n",
       "      <td>21.595766</td>\n",
       "      <td>21.929081</td>\n",
       "    </tr>\n",
       "    <tr>\n",
       "      <th>2</th>\n",
       "      <td>BaOsO3</td>\n",
       "      <td>0</td>\n",
       "      <td>../data/Structures/Metals/BaOsO3_SD_0375565.cif</td>\n",
       "      <td>87</td>\n",
       "      <td>78</td>\n",
       "      <td>25.920000</td>\n",
       "      <td>174.23060</td>\n",
       "      <td>75.111040</td>\n",
       "      <td>70.933968</td>\n",
       "      <td>15.9994</td>\n",
       "      <td>...</td>\n",
       "      <td>3.100000</td>\n",
       "      <td>2.893540</td>\n",
       "      <td>2.978994</td>\n",
       "      <td>-36.659700</td>\n",
       "      <td>22.481523</td>\n",
       "      <td>41.000000</td>\n",
       "      <td>55.000000</td>\n",
       "      <td>8.412244</td>\n",
       "      <td>3.591515</td>\n",
       "      <td>16.289915</td>\n",
       "    </tr>\n",
       "    <tr>\n",
       "      <th>3</th>\n",
       "      <td>Bi2Ru2O7</td>\n",
       "      <td>0</td>\n",
       "      <td>../data/Structures/Metals/Bi2Ru2O7_CollCode_73...</td>\n",
       "      <td>87</td>\n",
       "      <td>31</td>\n",
       "      <td>9.157025</td>\n",
       "      <td>192.98100</td>\n",
       "      <td>66.554236</td>\n",
       "      <td>64.342519</td>\n",
       "      <td>15.9994</td>\n",
       "      <td>...</td>\n",
       "      <td>3.691300</td>\n",
       "      <td>2.717536</td>\n",
       "      <td>3.077187</td>\n",
       "      <td>-47.298875</td>\n",
       "      <td>24.715398</td>\n",
       "      <td>45.000000</td>\n",
       "      <td>59.000000</td>\n",
       "      <td>10.043255</td>\n",
       "      <td>11.876142</td>\n",
       "      <td>12.393497</td>\n",
       "    </tr>\n",
       "    <tr>\n",
       "      <th>4</th>\n",
       "      <td>Ca3Ru2O7</td>\n",
       "      <td>0</td>\n",
       "      <td>../data/Structures/Metals/Ca3Ru2O7_CollCode_15...</td>\n",
       "      <td>87</td>\n",
       "      <td>80</td>\n",
       "      <td>29.361111</td>\n",
       "      <td>85.07060</td>\n",
       "      <td>36.197483</td>\n",
       "      <td>23.564431</td>\n",
       "      <td>15.9994</td>\n",
       "      <td>...</td>\n",
       "      <td>3.488882</td>\n",
       "      <td>2.740999</td>\n",
       "      <td>2.933553</td>\n",
       "      <td>-43.378203</td>\n",
       "      <td>25.385677</td>\n",
       "      <td>45.000000</td>\n",
       "      <td>59.000000</td>\n",
       "      <td>10.277936</td>\n",
       "      <td>8.827434</td>\n",
       "      <td>12.120246</td>\n",
       "    </tr>\n",
       "    <tr>\n",
       "      <th>...</th>\n",
       "      <td>...</td>\n",
       "      <td>...</td>\n",
       "      <td>...</td>\n",
       "      <td>...</td>\n",
       "      <td>...</td>\n",
       "      <td>...</td>\n",
       "      <td>...</td>\n",
       "      <td>...</td>\n",
       "      <td>...</td>\n",
       "      <td>...</td>\n",
       "      <td>...</td>\n",
       "      <td>...</td>\n",
       "      <td>...</td>\n",
       "      <td>...</td>\n",
       "      <td>...</td>\n",
       "      <td>...</td>\n",
       "      <td>...</td>\n",
       "      <td>...</td>\n",
       "      <td>...</td>\n",
       "      <td>...</td>\n",
       "      <td>...</td>\n",
       "    </tr>\n",
       "    <tr>\n",
       "      <th>223</th>\n",
       "      <td>V6O13</td>\n",
       "      <td>2</td>\n",
       "      <td>../data/Structures/MIT_materials/HighT/V6O13_H...</td>\n",
       "      <td>87</td>\n",
       "      <td>41</td>\n",
       "      <td>17.717452</td>\n",
       "      <td>34.94210</td>\n",
       "      <td>27.033747</td>\n",
       "      <td>15.099633</td>\n",
       "      <td>15.9994</td>\n",
       "      <td>...</td>\n",
       "      <td>3.269140</td>\n",
       "      <td>2.461773</td>\n",
       "      <td>2.767633</td>\n",
       "      <td>-32.743339</td>\n",
       "      <td>35.209237</td>\n",
       "      <td>65.281650</td>\n",
       "      <td>128.125000</td>\n",
       "      <td>58.592940</td>\n",
       "      <td>-12.467020</td>\n",
       "      <td>11.494831</td>\n",
       "    </tr>\n",
       "    <tr>\n",
       "      <th>224</th>\n",
       "      <td>V8O15</td>\n",
       "      <td>2</td>\n",
       "      <td>../data/Structures/MIT_materials/HighT/V8O15_H...</td>\n",
       "      <td>87</td>\n",
       "      <td>41</td>\n",
       "      <td>18.601134</td>\n",
       "      <td>34.94210</td>\n",
       "      <td>28.153174</td>\n",
       "      <td>15.852749</td>\n",
       "      <td>15.9994</td>\n",
       "      <td>...</td>\n",
       "      <td>3.474319</td>\n",
       "      <td>2.529565</td>\n",
       "      <td>2.819850</td>\n",
       "      <td>-38.212724</td>\n",
       "      <td>31.173210</td>\n",
       "      <td>42.359525</td>\n",
       "      <td>60.638487</td>\n",
       "      <td>13.875184</td>\n",
       "      <td>11.940681</td>\n",
       "      <td>9.935308</td>\n",
       "    </tr>\n",
       "    <tr>\n",
       "      <th>225</th>\n",
       "      <td>VO2</td>\n",
       "      <td>2</td>\n",
       "      <td>../data/Structures/MIT_materials/HighT/VO2_HT_...</td>\n",
       "      <td>87</td>\n",
       "      <td>41</td>\n",
       "      <td>18.222222</td>\n",
       "      <td>34.94210</td>\n",
       "      <td>27.646767</td>\n",
       "      <td>15.529822</td>\n",
       "      <td>15.9994</td>\n",
       "      <td>...</td>\n",
       "      <td>2.725617</td>\n",
       "      <td>2.575183</td>\n",
       "      <td>2.675472</td>\n",
       "      <td>-45.333235</td>\n",
       "      <td>26.337259</td>\n",
       "      <td>46.709000</td>\n",
       "      <td>65.281650</td>\n",
       "      <td>14.484546</td>\n",
       "      <td>9.779242</td>\n",
       "      <td>9.863262</td>\n",
       "    </tr>\n",
       "    <tr>\n",
       "      <th>226</th>\n",
       "      <td>YNiO3</td>\n",
       "      <td>2</td>\n",
       "      <td>../data/Structures/MIT_materials/HighT/YNiO3_6...</td>\n",
       "      <td>87</td>\n",
       "      <td>75</td>\n",
       "      <td>24.240000</td>\n",
       "      <td>72.90645</td>\n",
       "      <td>39.119490</td>\n",
       "      <td>27.744108</td>\n",
       "      <td>15.9994</td>\n",
       "      <td>...</td>\n",
       "      <td>3.184308</td>\n",
       "      <td>2.736503</td>\n",
       "      <td>2.827539</td>\n",
       "      <td>-36.802534</td>\n",
       "      <td>23.821848</td>\n",
       "      <td>35.187000</td>\n",
       "      <td>54.920000</td>\n",
       "      <td>15.898371</td>\n",
       "      <td>10.393278</td>\n",
       "      <td>10.686816</td>\n",
       "    </tr>\n",
       "    <tr>\n",
       "      <th>227</th>\n",
       "      <td>YbFe4(CuO4)3</td>\n",
       "      <td>2</td>\n",
       "      <td>../data/Structures/MIT_materials/HighT/YbCu3Fe...</td>\n",
       "      <td>87</td>\n",
       "      <td>48</td>\n",
       "      <td>14.700000</td>\n",
       "      <td>157.05460</td>\n",
       "      <td>38.953240</td>\n",
       "      <td>27.544608</td>\n",
       "      <td>15.9994</td>\n",
       "      <td>...</td>\n",
       "      <td>2.924013</td>\n",
       "      <td>2.552849</td>\n",
       "      <td>2.744642</td>\n",
       "      <td>-33.639068</td>\n",
       "      <td>24.360992</td>\n",
       "      <td>36.841000</td>\n",
       "      <td>57.380000</td>\n",
       "      <td>16.597335</td>\n",
       "      <td>7.361181</td>\n",
       "      <td>9.750947</td>\n",
       "    </tr>\n",
       "  </tbody>\n",
       "</table>\n",
       "<p>228 rows × 107 columns</p>\n",
       "</div>"
      ],
      "text/plain": [
       "         Compound  Label                                   struct_file_path  \\\n",
       "0          BaMoO3      0  ../data/Structures/Metals/BaMoO3_CollCode_2915...   \n",
       "1          BaNiS2      0  ../data/Structures/Metals/BaNiS2_CollCode_2469...   \n",
       "2          BaOsO3      0    ../data/Structures/Metals/BaOsO3_SD_0375565.cif   \n",
       "3        Bi2Ru2O7      0  ../data/Structures/Metals/Bi2Ru2O7_CollCode_73...   \n",
       "4        Ca3Ru2O7      0  ../data/Structures/Metals/Ca3Ru2O7_CollCode_15...   \n",
       "..            ...    ...                                                ...   \n",
       "223         V6O13      2  ../data/Structures/MIT_materials/HighT/V6O13_H...   \n",
       "224         V8O15      2  ../data/Structures/MIT_materials/HighT/V8O15_H...   \n",
       "225           VO2      2  ../data/Structures/MIT_materials/HighT/VO2_HT_...   \n",
       "226         YNiO3      2  ../data/Structures/MIT_materials/HighT/YNiO3_6...   \n",
       "227  YbFe4(CuO4)3      2  ../data/Structures/MIT_materials/HighT/YbCu3Fe...   \n",
       "\n",
       "     maximum_MendeleevNumber  range_MendeleevNumber  avg_dev_MendeleevNumber  \\\n",
       "0                         87                     78                27.600000   \n",
       "1                         88                     79                26.500000   \n",
       "2                         87                     78                25.920000   \n",
       "3                         87                     31                 9.157025   \n",
       "4                         87                     80                29.361111   \n",
       "..                       ...                    ...                      ...   \n",
       "223                       87                     41                17.717452   \n",
       "224                       87                     41                18.601134   \n",
       "225                       87                     41                18.222222   \n",
       "226                       87                     75                24.240000   \n",
       "227                       87                     48                14.700000   \n",
       "\n",
       "     range_AtomicWeight  mean_AtomicWeight  avg_dev_AtomicWeight  \\\n",
       "0             121.32760          56.257040             48.309168   \n",
       "1             105.26200          65.037600             36.144700   \n",
       "2             174.23060          75.111040             70.933968   \n",
       "3             192.98100          66.554236             64.342519   \n",
       "4              85.07060          36.197483             23.564431   \n",
       "..                  ...                ...                   ...   \n",
       "223            34.94210          27.033747             15.099633   \n",
       "224            34.94210          28.153174             15.852749   \n",
       "225            34.94210          27.646767             15.529822   \n",
       "226            72.90645          39.119490             27.744108   \n",
       "227           157.05460          38.953240             27.544608   \n",
       "\n",
       "     mode_AtomicWeight  ...  max_xx_dists  min_xx_dists  avg_xx_dists  \\\n",
       "0              15.9994  ...      2.857256      2.857256      2.857256   \n",
       "1              32.0650  ...      3.783737      3.137645      3.654519   \n",
       "2              15.9994  ...      3.100000      2.893540      2.978994   \n",
       "3              15.9994  ...      3.691300      2.717536      3.077187   \n",
       "4              15.9994  ...      3.488882      2.740999      2.933553   \n",
       "..                 ...  ...           ...           ...           ...   \n",
       "223            15.9994  ...      3.269140      2.461773      2.767633   \n",
       "224            15.9994  ...      3.474319      2.529565      2.819850   \n",
       "225            15.9994  ...      2.725617      2.575183      2.675472   \n",
       "226            15.9994  ...      3.184308      2.736503      2.827539   \n",
       "227            15.9994  ...      2.924013      2.552849      2.744642   \n",
       "\n",
       "           v_m        v_x         iv       iv_p1  est_hubbard_u  \\\n",
       "0   -44.108215  23.006209  40.330000   54.417000      10.523409   \n",
       "1   -21.082598  20.132993  18.168838   35.187000      12.893512   \n",
       "2   -36.659700  22.481523  41.000000   55.000000       8.412244   \n",
       "3   -47.298875  24.715398  45.000000   59.000000      10.043255   \n",
       "4   -43.378203  25.385677  45.000000   59.000000      10.277936   \n",
       "..         ...        ...        ...         ...            ...   \n",
       "223 -32.743339  35.209237  65.281650  128.125000      58.592940   \n",
       "224 -38.212724  31.173210  42.359525   60.638487      13.875184   \n",
       "225 -45.333235  26.337259  46.709000   65.281650      14.484546   \n",
       "226 -36.802534  23.821848  35.187000   54.920000      15.898371   \n",
       "227 -33.639068  24.360992  36.841000   57.380000      16.597335   \n",
       "\n",
       "     est_charge_trans  volume_per_site  \n",
       "0           11.946426        13.195395  \n",
       "1           21.595766        21.929081  \n",
       "2            3.591515        16.289915  \n",
       "3           11.876142        12.393497  \n",
       "4            8.827434        12.120246  \n",
       "..                ...              ...  \n",
       "223        -12.467020        11.494831  \n",
       "224         11.940681         9.935308  \n",
       "225          9.779242         9.863262  \n",
       "226         10.393278        10.686816  \n",
       "227          7.361181         9.750947  \n",
       "\n",
       "[228 rows x 107 columns]"
      ]
     },
     "execution_count": 9,
     "metadata": {},
     "output_type": "execute_result"
    }
   ],
   "source": [
    "df_full = pd.read_excel(FULL_PATH)\n",
    "df_full"
   ]
  },
  {
   "cell_type": "code",
   "execution_count": 10,
   "metadata": {},
   "outputs": [
    {
     "data": {
      "text/html": [
       "<div>\n",
       "<style scoped>\n",
       "    .dataframe tbody tr th:only-of-type {\n",
       "        vertical-align: middle;\n",
       "    }\n",
       "\n",
       "    .dataframe tbody tr th {\n",
       "        vertical-align: top;\n",
       "    }\n",
       "\n",
       "    .dataframe thead th {\n",
       "        text-align: right;\n",
       "    }\n",
       "</style>\n",
       "<table border=\"1\" class=\"dataframe\">\n",
       "  <thead>\n",
       "    <tr style=\"text-align: right;\">\n",
       "      <th></th>\n",
       "      <th>gii</th>\n",
       "      <th>est_hubbard_u</th>\n",
       "      <th>est_charge_trans</th>\n",
       "      <th>ewald_energy_per_atom</th>\n",
       "      <th>maximum_MendeleevNumber</th>\n",
       "      <th>range_MendeleevNumber</th>\n",
       "      <th>avg_dev_CovalentRadius</th>\n",
       "      <th>avg_mm_dists</th>\n",
       "      <th>avg_mx_dists</th>\n",
       "      <th>avg_xx_dists</th>\n",
       "    </tr>\n",
       "  </thead>\n",
       "  <tbody>\n",
       "    <tr>\n",
       "      <th>0</th>\n",
       "      <td>0.132573</td>\n",
       "      <td>11.991636</td>\n",
       "      <td>15.842407</td>\n",
       "      <td>-23.755873</td>\n",
       "      <td>87.0</td>\n",
       "      <td>26.0</td>\n",
       "      <td>31.0</td>\n",
       "      <td>2.864732</td>\n",
       "      <td>2.091688</td>\n",
       "      <td>2.817046</td>\n",
       "    </tr>\n",
       "  </tbody>\n",
       "</table>\n",
       "</div>"
      ],
      "text/plain": [
       "        gii  est_hubbard_u  est_charge_trans  ewald_energy_per_atom  \\\n",
       "0  0.132573      11.991636         15.842407             -23.755873   \n",
       "\n",
       "   maximum_MendeleevNumber  range_MendeleevNumber  avg_dev_CovalentRadius  \\\n",
       "0                     87.0                   26.0                    31.0   \n",
       "\n",
       "   avg_mm_dists  avg_mx_dists  avg_xx_dists  \n",
       "0      2.864732      2.091688      2.817046  "
      ]
     },
     "execution_count": 10,
     "metadata": {},
     "output_type": "execute_result"
    }
   ],
   "source": [
    "new_struct_df, new_struct_df_with_name = process_new_struct_df(new_struct_df, df_full)\n",
    "new_struct_df = new_struct_df.filter(items=df.columns)\n",
    "new_struct_df"
   ]
  },
  {
   "cell_type": "markdown",
   "metadata": {},
   "source": [
    "Here is a printout of the number of predictors in the newly featurized structure"
   ]
  },
  {
   "cell_type": "code",
   "execution_count": 11,
   "metadata": {},
   "outputs": [
    {
     "data": {
      "text/plain": [
       "10"
      ]
     },
     "execution_count": 11,
     "metadata": {},
     "output_type": "execute_result"
    }
   ],
   "source": [
    "new_struct_df.shape[1]"
   ]
  },
  {
   "cell_type": "markdown",
   "metadata": {},
   "source": [
    "Compare the number of predictors with the training data loaded into the MIT classifier"
   ]
  },
  {
   "cell_type": "code",
   "execution_count": 12,
   "metadata": {},
   "outputs": [
    {
     "data": {
      "text/plain": [
       "10"
      ]
     },
     "execution_count": 12,
     "metadata": {},
     "output_type": "execute_result"
    }
   ],
   "source": [
    "train_x, _ = load_data(df, \"MIT\")\n",
    "train_x.shape[1]"
   ]
  },
  {
   "cell_type": "markdown",
   "metadata": {},
   "source": [
    "## 4. Print out the prediction label and probability\n",
    "\n",
    "After selecting the relevant features, we are now ready to make a prediction for the given structure. Below, you will see the outputs from the metal vs. non_metal, insulator vs. non_insulator and mit vs. non_mit classifiers. `1` means the structure is predicted to the positive class and `0` means it is predicted to be the negative class.\n",
    "\n",
    "**Note**: It is possible for the classifier to classify a structure as multiple classes. (e.g. as both a metal and an MIT). We've provided you with the probability of each prediction and we'll let you be the final judge."
   ]
  },
  {
   "cell_type": "code",
   "execution_count": 13,
   "metadata": {},
   "outputs": [
    {
     "name": "stdout",
     "output_type": "stream",
     "text": [
      "Is a metal: 0, and the probability of being a metal is :0.1843\n",
      "\n",
      "Is an insulator: 1, and the probability of being an insulator is :0.9990\n",
      "\n",
      "Is an mit: 0, and the probability of being an mit is :0.0001\n"
     ]
    }
   ],
   "source": [
    "print(\"Is a metal: {}, and the probability of being a metal is :{:0.4f}\\n\".format(metal_model.predict(new_struct_df)[0], metal_model.predict_proba(new_struct_df)[0][1]))\n",
    "print(\"Is an insulator: {}, and the probability of being an insulator is :{:0.4f}\\n\".format(insulator_model.predict(new_struct_df)[0], \n",
    "                                                                                    insulator_model.predict_proba(new_struct_df)[0][1]))\n",
    "print(\"Is an mit: {}, and the probability of being an mit is :{:0.4f}\".format(mit_model.predict(new_struct_df)[0], mit_model.predict_proba(new_struct_df)[0][1]))"
   ]
  },
  {
   "cell_type": "markdown",
   "metadata": {},
   "source": [
    "## 5. Plot the data using the Range Mendeleev Number & the Average Deviation of the Covalent Radius\n",
    "\n",
    "These two features are identified with high feature importance for the MIT vs. non-MIT classifier and have been shown to separate MITs from the non-MITs quite well.\n",
    "\n",
    "We can plot all the datapoints (training set + the new structure) on a 2D scatter plot of `range MendeleevNumber` vs. `avg_dev CovalentRadius`."
   ]
  },
  {
   "cell_type": "code",
   "execution_count": 14,
   "metadata": {},
   "outputs": [],
   "source": [
    "x_plot = \"range_MendeleevNumber\"\n",
    "y_plot = \"avg_dev_CovalentRadius\""
   ]
  },
  {
   "cell_type": "code",
   "execution_count": 15,
   "metadata": {},
   "outputs": [
    {
     "data": {
      "text/html": [
       "<div>\n",
       "<style scoped>\n",
       "    .dataframe tbody tr th:only-of-type {\n",
       "        vertical-align: middle;\n",
       "    }\n",
       "\n",
       "    .dataframe tbody tr th {\n",
       "        vertical-align: top;\n",
       "    }\n",
       "\n",
       "    .dataframe thead th {\n",
       "        text-align: right;\n",
       "    }\n",
       "</style>\n",
       "<table border=\"1\" class=\"dataframe\">\n",
       "  <thead>\n",
       "    <tr style=\"text-align: right;\">\n",
       "      <th></th>\n",
       "      <th>Compound</th>\n",
       "      <th>Label</th>\n",
       "      <th>range_MendeleevNumber</th>\n",
       "      <th>avg_dev_CovalentRadius</th>\n",
       "    </tr>\n",
       "  </thead>\n",
       "  <tbody>\n",
       "    <tr>\n",
       "      <th>0</th>\n",
       "      <td>BaMoO3</td>\n",
       "      <td>Metal</td>\n",
       "      <td>78.0</td>\n",
       "      <td>56.880000</td>\n",
       "    </tr>\n",
       "    <tr>\n",
       "      <th>1</th>\n",
       "      <td>BaNiS2</td>\n",
       "      <td>Metal</td>\n",
       "      <td>79.0</td>\n",
       "      <td>38.875000</td>\n",
       "    </tr>\n",
       "    <tr>\n",
       "      <th>2</th>\n",
       "      <td>BaOsO3</td>\n",
       "      <td>Metal</td>\n",
       "      <td>78.0</td>\n",
       "      <td>54.480000</td>\n",
       "    </tr>\n",
       "    <tr>\n",
       "      <th>3</th>\n",
       "      <td>Bi2Ru2O7</td>\n",
       "      <td>Metal</td>\n",
       "      <td>31.0</td>\n",
       "      <td>37.487603</td>\n",
       "    </tr>\n",
       "    <tr>\n",
       "      <th>4</th>\n",
       "      <td>Ca3Ru2O7</td>\n",
       "      <td>Metal</td>\n",
       "      <td>80.0</td>\n",
       "      <td>47.638889</td>\n",
       "    </tr>\n",
       "    <tr>\n",
       "      <th>...</th>\n",
       "      <td>...</td>\n",
       "      <td>...</td>\n",
       "      <td>...</td>\n",
       "      <td>...</td>\n",
       "    </tr>\n",
       "    <tr>\n",
       "      <th>224</th>\n",
       "      <td>V8O15</td>\n",
       "      <td>MIT</td>\n",
       "      <td>41.0</td>\n",
       "      <td>39.470699</td>\n",
       "    </tr>\n",
       "    <tr>\n",
       "      <th>225</th>\n",
       "      <td>VO2</td>\n",
       "      <td>MIT</td>\n",
       "      <td>41.0</td>\n",
       "      <td>38.666667</td>\n",
       "    </tr>\n",
       "    <tr>\n",
       "      <th>226</th>\n",
       "      <td>YNiO3</td>\n",
       "      <td>MIT</td>\n",
       "      <td>75.0</td>\n",
       "      <td>43.680000</td>\n",
       "    </tr>\n",
       "    <tr>\n",
       "      <th>227</th>\n",
       "      <td>YbFe4(CuO4)3</td>\n",
       "      <td>MIT</td>\n",
       "      <td>48.0</td>\n",
       "      <td>34.980000</td>\n",
       "    </tr>\n",
       "    <tr>\n",
       "      <th>228</th>\n",
       "      <td>CuNiO2</td>\n",
       "      <td>New_struct</td>\n",
       "      <td>26.0</td>\n",
       "      <td>31.000000</td>\n",
       "    </tr>\n",
       "  </tbody>\n",
       "</table>\n",
       "<p>229 rows × 4 columns</p>\n",
       "</div>"
      ],
      "text/plain": [
       "         Compound       Label  range_MendeleevNumber  avg_dev_CovalentRadius\n",
       "0          BaMoO3       Metal                   78.0               56.880000\n",
       "1          BaNiS2       Metal                   79.0               38.875000\n",
       "2          BaOsO3       Metal                   78.0               54.480000\n",
       "3        Bi2Ru2O7       Metal                   31.0               37.487603\n",
       "4        Ca3Ru2O7       Metal                   80.0               47.638889\n",
       "..            ...         ...                    ...                     ...\n",
       "224         V8O15         MIT                   41.0               39.470699\n",
       "225           VO2         MIT                   41.0               38.666667\n",
       "226         YNiO3         MIT                   75.0               43.680000\n",
       "227  YbFe4(CuO4)3         MIT                   48.0               34.980000\n",
       "228        CuNiO2  New_struct                   26.0               31.000000\n",
       "\n",
       "[229 rows x 4 columns]"
      ]
     },
     "execution_count": 15,
     "metadata": {},
     "output_type": "execute_result"
    }
   ],
   "source": [
    "# get the relevant columns from the training set\n",
    "df_plot = df[[\"Compound\", \"Label\", x_plot, y_plot]]\n",
    "# get the relevant columns from the new structure dataframe\n",
    "new_struct_plot = new_struct_df_with_name[[\"Compound\", x_plot, y_plot]]\n",
    "# assign 3 to new strucuture's label to distinguish it from the original training set\n",
    "new_struct_plot[\"Label\"] = \"New_struct\"\n",
    "# combine the two datasets\n",
    "combined_df_plot = pd.concat([df_plot, new_struct_plot], ignore_index=True)\n",
    "# change the numeric label into string format to allow discrete color scale for plotting\n",
    "combined_df_plot = combined_df_plot.replace({\"Label\": {0: \"Metal\", 1: \"Insulator\", 2: \"MIT\"}})\n",
    "combined_df_plot"
   ]
  },
  {
   "cell_type": "markdown",
   "metadata": {},
   "source": [
    "Create a scatter plot."
   ]
  },
  {
   "cell_type": "code",
   "execution_count": 16,
   "metadata": {},
   "outputs": [
    {
     "data": {
      "image/png": "[encoded data removed]",
      "text/plain": [
       "<Figure size 1000x1000 with 1 Axes>"
      ]
     },
     "metadata": {},
     "output_type": "display_data"
    }
   ],
   "source": [
    "with sns.axes_style(\"ticks\"):\n",
    "    plt.figure(figsize=(5,5), dpi=200)\n",
    "    sns.scatterplot(data=combined_df_plot, x=x_plot, y=y_plot, hue=\"Label\", alpha=0.7)"
   ]
  },
  {
   "cell_type": "markdown",
   "metadata": {},
   "source": [
    "### Here is an interactive version with Plotly\n",
    "\n",
    "Things you can do\n",
    "\n",
    "1. Hover your cursor over data points to display the compound name, feature values and class label.\n",
    "2. Drag your cursor to zoom in on a specific region and double left click to zoom out.\n",
    "3. Click once on one of the class labels on the legend to hide the points within that class.\n",
    "4. Click twice on one of the class labels on the legend to show only the points within that class."
   ]
  },
  {
   "cell_type": "code",
   "execution_count": 17,
   "metadata": {},
   "outputs": [
    {
     "data": {
      "text/html": [
       "\n",
       "        <iframe\n",
       "            width=\"1100\"\n",
       "            height=\"1100\"\n",
       "            src=\"../plots/new_struct_mendeleev_cov_radius.html\"\n",
       "            frameborder=\"0\"\n",
       "            allowfullscreen\n",
       "        ></iframe>\n",
       "        "
      ],
      "text/plain": [
       "<IPython.lib.display.IFrame at 0x7fbb43529050>"
      ]
     },
     "execution_count": 17,
     "metadata": {},
     "output_type": "execute_result"
    }
   ],
   "source": [
    "mendeleev_cov_radius_fig = px.scatter(combined_df_plot, x=x_plot, y=y_plot, hover_name=\"Compound\", \n",
    "                                      height=1000, width=1000, color=\"Label\", template=\"simple_white\"\n",
    "                                     )\n",
    "mendeleev_cov_radius_fig.update_traces(mode='markers', marker_line_width=1, marker_size=10, marker_line_color=\"white\")\n",
    "mendeleev_cov_radius_fig.write_html(\"../plots/new_struct_mendeleev_cov_radius.html\")\n",
    "IFrame(src='../plots/new_struct_mendeleev_cov_radius.html', width=1100, height=1100)"
   ]
  }
 ],
 "metadata": {
  "kernelspec": {
   "display_name": "PyCharm (mit_model_code)",
   "language": "python",
   "name": "pycharm-43a0cb91"
  },
  "language_info": {
   "codemirror_mode": {
    "name": "ipython",
    "version": 3
   },
   "file_extension": ".py",
   "mimetype": "text/x-python",
   "name": "python",
   "nbconvert_exporter": "python",
   "pygments_lexer": "ipython3",
   "version": "3.7.4"
  }
 },
 "nbformat": 4,
 "nbformat_minor": 4
}
