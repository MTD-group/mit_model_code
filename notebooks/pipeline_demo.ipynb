{
 "cells": [
  {
   "cell_type": "markdown",
   "metadata": {},
   "source": [
    "# Introduction\n",
    "\n",
    "This notebook demostrates the prediction pipeline for the trained classifiers. With the 3 pretrained classifiers, you can easily classify a new structure that is not included in the original training set.\n",
    "\n",
    "**Note**: For easier readability, you can change the fontsize of this notebook by navigating to `Settings` -> `JupyterLab Theme` and increasing or decreasing the fontsize from the dropdown menu."
   ]
  },
  {
   "cell_type": "markdown",
   "metadata": {},
   "source": [
    "# Import packages and functions"
   ]
  },
  {
   "cell_type": "code",
   "execution_count": 1,
   "metadata": {},
   "outputs": [],
   "source": [
    "import sys\n",
    "# force the notebook to look for files in the upper level directory\n",
    "sys.path.insert(1, '../')"
   ]
  },
  {
   "cell_type": "code",
   "execution_count": 2,
   "metadata": {},
   "outputs": [],
   "source": [
    "import shap\n",
    "import pandas as pd\n",
    "import xgboost as xgb\n",
    "import seaborn as sns\n",
    "import matplotlib.pyplot as plt\n",
    "from model.model_building import load_data\n",
    "from data.data_cleaning import abbreviate_features\n",
    "from data.compound_featurizer import read_new_struct, composition_featurizer, structure_featurizer, handbuilt_featurizer"
   ]
  },
  {
   "cell_type": "markdown",
   "metadata": {},
   "source": [
    "# Set up constants\n",
    "The `PROCESSED_PATH` contains the training dataset used to construct the classifiers. The `NEW_STRUCT_PATH` contains the demo cif structure file and you can test your own structure by uploading the cif file to the \"user_defined_structures\" folder and changing the `NEW_STRUCT_PATH`. You can save time by pressing <kbd>⇥ Tab</kbd> for auto-completion after typing the first few words.\n",
    "\n",
    "**Note**: If you choose to upload your own cif structure file, it is preferable that the structure already has an oxidation state assigned to each site. If not, the featurizer will try to guess the oxidation states using the [oxi_state_guesses()](https://pymatgen.org/pymatgen.core.composition.html?highlight=oxi_state_guesses#pymatgen.core.composition.Composition.oxi_state_guesses) function from Pymatgen. There is no guarantee that the guessed oxidation states will be correct and the script will also ask for user input if it is unable to guess the oxidation states. In addition, the uploaded structure has to have at least **2 different elements** (i.e. at least a binary compound). A single element structure such as Si will lead to an error in the script.\n",
    "\n",
    "There are two demo structures: CuNiO$_2$ and CaFeO$_3$ for you to try out and they are not present in the training database. The featurizer can guess the oxidation states for CuNiO$_2$, but not for CaFeO$_3$. If you run the script with CaFeO$_3$, you will be asked to manually assign the oxidation states by element."
   ]
  },
  {
   "cell_type": "code",
   "execution_count": 3,
   "metadata": {},
   "outputs": [],
   "source": [
    "PROCESSED_PATH = \"../data/processed/IMT_Classification_Dataset_Processed_v5.xlsx\"\n",
    "NEW_STRUCT_PATH = \"../notebooks/user_defined_structures/CuNiO2_mp-1178372_primitive.cif\""
   ]
  },
  {
   "cell_type": "markdown",
   "metadata": {},
   "source": [
    "# Define some helper functions"
   ]
  },
  {
   "cell_type": "code",
   "execution_count": 4,
   "metadata": {},
   "outputs": [],
   "source": [
    "def assign_oxi_state(elem_symbol):\n",
    "    \"\"\"Allow the user to assign oxidation state to each element.\"\"\"\n",
    "    oxi_state = input(\"{}:\".format(elem_symbol))\n",
    "    return float(oxi_state)\n",
    "\n",
    "def check_oxi_state(structure):\n",
    "    \"\"\"Check if the guessed oxidation states are all zero. If so, trigger user input.\"\"\"\n",
    "    if not structure.composition.oxi_state_guesses():\n",
    "        # get all the elements in the input structure\n",
    "        elem_lst = [element.symbol for element in structure.composition.element_composition.elements]\n",
    "        # get the reduced formula\n",
    "        reduced_formula = structure.composition.reduced_formula\n",
    "        print(\"Unable to guess oxidation states for {}. Please manually assign oxidation states by element\".format(reduced_formula))\n",
    "        # get a dictionary to overwrite the default guessed oxidation states\n",
    "        elem_oxi_states = {elem_symbol: [assign_oxi_state(elem_symbol)] for elem_symbol in elem_lst}\n",
    "        return elem_oxi_states\n",
    "    return None\n",
    "\n",
    "def featurizer_wrapper(df_input):\n",
    "    \"\"\"A wrapper function around the composition, structure and handbuilt featurizers.\"\"\"\n",
    "    # get the structure from the initialized dataframe\n",
    "    new_struct = df_input.at[0, \"structure\"]\n",
    "    # check if the guessed oxidation states are all zeros and allow user-overwrite if true\n",
    "    oxi_states_by_element = check_oxi_state(new_struct)\n",
    "    # featurize the given structure using 3 predefined featurizers\n",
    "    df_output = composition_featurizer(df_input, oxi_states_override=oxi_states_by_element)\n",
    "    df_output = structure_featurizer(df_output, oxi_states_override=oxi_states_by_element)\n",
    "    df_output = handbuilt_featurizer(df_output)\n",
    "    return df_output"
   ]
  },
  {
   "cell_type": "markdown",
   "metadata": {},
   "source": [
    "# Read in the processed data\n",
    "\n",
    "This is a quick overview of the training dataset. It will be used later on to select the relevant features from the raw output of the featurizer."
   ]
  },
  {
   "cell_type": "code",
   "execution_count": 5,
   "metadata": {},
   "outputs": [
    {
     "data": {
      "text/html": [
       "<div>\n",
       "<style scoped>\n",
       "    .dataframe tbody tr th:only-of-type {\n",
       "        vertical-align: middle;\n",
       "    }\n",
       "\n",
       "    .dataframe tbody tr th {\n",
       "        vertical-align: top;\n",
       "    }\n",
       "\n",
       "    .dataframe thead th {\n",
       "        text-align: right;\n",
       "    }\n",
       "</style>\n",
       "<table border=\"1\" class=\"dataframe\">\n",
       "  <thead>\n",
       "    <tr style=\"text-align: right;\">\n",
       "      <th></th>\n",
       "      <th>Compound</th>\n",
       "      <th>Label</th>\n",
       "      <th>struct_file_path</th>\n",
       "      <th>maximum MendeleevNumber</th>\n",
       "      <th>range MendeleevNumber</th>\n",
       "      <th>avg_dev MendeleevNumber</th>\n",
       "      <th>range AtomicWeight</th>\n",
       "      <th>mean AtomicWeight</th>\n",
       "      <th>avg_dev AtomicWeight</th>\n",
       "      <th>mode AtomicWeight</th>\n",
       "      <th>...</th>\n",
       "      <th>max_xx_dists</th>\n",
       "      <th>min_xx_dists</th>\n",
       "      <th>avg_xx_dists</th>\n",
       "      <th>v_m</th>\n",
       "      <th>v_x</th>\n",
       "      <th>iv</th>\n",
       "      <th>iv_p1</th>\n",
       "      <th>est_hubbard_u</th>\n",
       "      <th>est_charge_trans</th>\n",
       "      <th>volumn_per_sites</th>\n",
       "    </tr>\n",
       "  </thead>\n",
       "  <tbody>\n",
       "    <tr>\n",
       "      <th>0</th>\n",
       "      <td>BaMoO3</td>\n",
       "      <td>0</td>\n",
       "      <td>../data/Structures/Metals/BaMoO3_291573.cif</td>\n",
       "      <td>87</td>\n",
       "      <td>78</td>\n",
       "      <td>27.600000</td>\n",
       "      <td>121.32760</td>\n",
       "      <td>56.257040</td>\n",
       "      <td>48.309168</td>\n",
       "      <td>15.9994</td>\n",
       "      <td>...</td>\n",
       "      <td>2.857256</td>\n",
       "      <td>2.857256</td>\n",
       "      <td>2.857256</td>\n",
       "      <td>-44.108215</td>\n",
       "      <td>23.006209</td>\n",
       "      <td>40.330000</td>\n",
       "      <td>54.417000</td>\n",
       "      <td>10.523409</td>\n",
       "      <td>11.946426</td>\n",
       "      <td>13.195395</td>\n",
       "    </tr>\n",
       "    <tr>\n",
       "      <th>1</th>\n",
       "      <td>BaOsO3</td>\n",
       "      <td>0</td>\n",
       "      <td>../data/Structures/Metals/BaOsO3-Springer.cif</td>\n",
       "      <td>87</td>\n",
       "      <td>78</td>\n",
       "      <td>25.920000</td>\n",
       "      <td>174.23060</td>\n",
       "      <td>75.111040</td>\n",
       "      <td>70.933968</td>\n",
       "      <td>15.9994</td>\n",
       "      <td>...</td>\n",
       "      <td>3.100000</td>\n",
       "      <td>2.893540</td>\n",
       "      <td>2.978994</td>\n",
       "      <td>-36.659700</td>\n",
       "      <td>22.481523</td>\n",
       "      <td>41.000000</td>\n",
       "      <td>55.000000</td>\n",
       "      <td>8.412244</td>\n",
       "      <td>3.591515</td>\n",
       "      <td>16.289915</td>\n",
       "    </tr>\n",
       "    <tr>\n",
       "      <th>2</th>\n",
       "      <td>Bi2Ru2O7</td>\n",
       "      <td>0</td>\n",
       "      <td>../data/Structures/Metals/Bi2Ru2O7_73787.cif</td>\n",
       "      <td>87</td>\n",
       "      <td>31</td>\n",
       "      <td>9.157025</td>\n",
       "      <td>192.98100</td>\n",
       "      <td>66.554236</td>\n",
       "      <td>64.342519</td>\n",
       "      <td>15.9994</td>\n",
       "      <td>...</td>\n",
       "      <td>3.691300</td>\n",
       "      <td>2.717536</td>\n",
       "      <td>3.077187</td>\n",
       "      <td>-47.298875</td>\n",
       "      <td>24.715398</td>\n",
       "      <td>45.000000</td>\n",
       "      <td>59.000000</td>\n",
       "      <td>10.043255</td>\n",
       "      <td>11.876142</td>\n",
       "      <td>12.393497</td>\n",
       "    </tr>\n",
       "    <tr>\n",
       "      <th>3</th>\n",
       "      <td>Ca3Ru2O7</td>\n",
       "      <td>0</td>\n",
       "      <td>../data/Structures/Metals/Ca3Ru2O7.cif</td>\n",
       "      <td>87</td>\n",
       "      <td>80</td>\n",
       "      <td>29.361111</td>\n",
       "      <td>85.07060</td>\n",
       "      <td>36.197483</td>\n",
       "      <td>23.564431</td>\n",
       "      <td>15.9994</td>\n",
       "      <td>...</td>\n",
       "      <td>3.488882</td>\n",
       "      <td>2.740999</td>\n",
       "      <td>2.933553</td>\n",
       "      <td>-43.378203</td>\n",
       "      <td>25.385677</td>\n",
       "      <td>45.000000</td>\n",
       "      <td>59.000000</td>\n",
       "      <td>10.277936</td>\n",
       "      <td>8.827434</td>\n",
       "      <td>12.120246</td>\n",
       "    </tr>\n",
       "    <tr>\n",
       "      <th>4</th>\n",
       "      <td>CaCrO3</td>\n",
       "      <td>0</td>\n",
       "      <td>../data/Structures/Metals/CaCrO3_245840.cif</td>\n",
       "      <td>87</td>\n",
       "      <td>80</td>\n",
       "      <td>28.320000</td>\n",
       "      <td>35.99670</td>\n",
       "      <td>28.014460</td>\n",
       "      <td>14.418072</td>\n",
       "      <td>15.9994</td>\n",
       "      <td>...</td>\n",
       "      <td>3.283740</td>\n",
       "      <td>2.677252</td>\n",
       "      <td>2.813798</td>\n",
       "      <td>-46.438514</td>\n",
       "      <td>25.057295</td>\n",
       "      <td>49.160000</td>\n",
       "      <td>69.460000</td>\n",
       "      <td>16.458029</td>\n",
       "      <td>7.076892</td>\n",
       "      <td>10.539100</td>\n",
       "    </tr>\n",
       "    <tr>\n",
       "      <th>...</th>\n",
       "      <td>...</td>\n",
       "      <td>...</td>\n",
       "      <td>...</td>\n",
       "      <td>...</td>\n",
       "      <td>...</td>\n",
       "      <td>...</td>\n",
       "      <td>...</td>\n",
       "      <td>...</td>\n",
       "      <td>...</td>\n",
       "      <td>...</td>\n",
       "      <td>...</td>\n",
       "      <td>...</td>\n",
       "      <td>...</td>\n",
       "      <td>...</td>\n",
       "      <td>...</td>\n",
       "      <td>...</td>\n",
       "      <td>...</td>\n",
       "      <td>...</td>\n",
       "      <td>...</td>\n",
       "      <td>...</td>\n",
       "      <td>...</td>\n",
       "    </tr>\n",
       "    <tr>\n",
       "      <th>219</th>\n",
       "      <td>V8O15</td>\n",
       "      <td>2</td>\n",
       "      <td>../data/Structures/MIT_materials/HighT/V8O15_H...</td>\n",
       "      <td>87</td>\n",
       "      <td>41</td>\n",
       "      <td>18.601134</td>\n",
       "      <td>34.94210</td>\n",
       "      <td>28.153174</td>\n",
       "      <td>15.852749</td>\n",
       "      <td>15.9994</td>\n",
       "      <td>...</td>\n",
       "      <td>3.474319</td>\n",
       "      <td>2.529565</td>\n",
       "      <td>2.819850</td>\n",
       "      <td>-38.212724</td>\n",
       "      <td>31.173210</td>\n",
       "      <td>42.359525</td>\n",
       "      <td>60.638487</td>\n",
       "      <td>13.875184</td>\n",
       "      <td>11.940681</td>\n",
       "      <td>9.935308</td>\n",
       "    </tr>\n",
       "    <tr>\n",
       "      <th>220</th>\n",
       "      <td>VO</td>\n",
       "      <td>2</td>\n",
       "      <td>../data/Structures/MIT_materials/HighT/VO_HT_7...</td>\n",
       "      <td>87</td>\n",
       "      <td>41</td>\n",
       "      <td>20.500000</td>\n",
       "      <td>34.94210</td>\n",
       "      <td>33.470450</td>\n",
       "      <td>17.471050</td>\n",
       "      <td>15.9994</td>\n",
       "      <td>...</td>\n",
       "      <td>2.880046</td>\n",
       "      <td>2.880046</td>\n",
       "      <td>2.880046</td>\n",
       "      <td>-24.713293</td>\n",
       "      <td>24.713293</td>\n",
       "      <td>14.634000</td>\n",
       "      <td>29.311100</td>\n",
       "      <td>9.677301</td>\n",
       "      <td>20.010987</td>\n",
       "      <td>8.446042</td>\n",
       "    </tr>\n",
       "    <tr>\n",
       "      <th>221</th>\n",
       "      <td>VO2</td>\n",
       "      <td>2</td>\n",
       "      <td>../data/Structures/MIT_materials/HighT/VO2_HT_...</td>\n",
       "      <td>87</td>\n",
       "      <td>41</td>\n",
       "      <td>18.222222</td>\n",
       "      <td>34.94210</td>\n",
       "      <td>27.646767</td>\n",
       "      <td>15.529822</td>\n",
       "      <td>15.9994</td>\n",
       "      <td>...</td>\n",
       "      <td>2.725617</td>\n",
       "      <td>2.575183</td>\n",
       "      <td>2.675472</td>\n",
       "      <td>-45.333235</td>\n",
       "      <td>26.337259</td>\n",
       "      <td>46.709000</td>\n",
       "      <td>65.281650</td>\n",
       "      <td>14.484546</td>\n",
       "      <td>9.779242</td>\n",
       "      <td>9.863262</td>\n",
       "    </tr>\n",
       "    <tr>\n",
       "      <th>222</th>\n",
       "      <td>YNiO3</td>\n",
       "      <td>2</td>\n",
       "      <td>../data/Structures/MIT_materials/HighT/YNiO3-6...</td>\n",
       "      <td>87</td>\n",
       "      <td>75</td>\n",
       "      <td>24.240000</td>\n",
       "      <td>72.90645</td>\n",
       "      <td>39.119490</td>\n",
       "      <td>27.744108</td>\n",
       "      <td>15.9994</td>\n",
       "      <td>...</td>\n",
       "      <td>3.184308</td>\n",
       "      <td>2.736503</td>\n",
       "      <td>2.827539</td>\n",
       "      <td>-36.802534</td>\n",
       "      <td>23.821848</td>\n",
       "      <td>35.187000</td>\n",
       "      <td>54.920000</td>\n",
       "      <td>15.898371</td>\n",
       "      <td>10.393278</td>\n",
       "      <td>10.686816</td>\n",
       "    </tr>\n",
       "    <tr>\n",
       "      <th>223</th>\n",
       "      <td>YbFe4(CuO4)3</td>\n",
       "      <td>2</td>\n",
       "      <td>../data/Structures/MIT_materials/HighT/YbCu3Fe...</td>\n",
       "      <td>87</td>\n",
       "      <td>48</td>\n",
       "      <td>14.700000</td>\n",
       "      <td>157.05460</td>\n",
       "      <td>38.953240</td>\n",
       "      <td>27.544608</td>\n",
       "      <td>15.9994</td>\n",
       "      <td>...</td>\n",
       "      <td>2.924013</td>\n",
       "      <td>2.552849</td>\n",
       "      <td>2.744642</td>\n",
       "      <td>-33.639068</td>\n",
       "      <td>24.360992</td>\n",
       "      <td>36.841000</td>\n",
       "      <td>57.380000</td>\n",
       "      <td>16.597335</td>\n",
       "      <td>7.361181</td>\n",
       "      <td>9.750947</td>\n",
       "    </tr>\n",
       "  </tbody>\n",
       "</table>\n",
       "<p>224 rows × 105 columns</p>\n",
       "</div>"
      ],
      "text/plain": [
       "         Compound  Label                                   struct_file_path  \\\n",
       "0          BaMoO3      0        ../data/Structures/Metals/BaMoO3_291573.cif   \n",
       "1          BaOsO3      0      ../data/Structures/Metals/BaOsO3-Springer.cif   \n",
       "2        Bi2Ru2O7      0       ../data/Structures/Metals/Bi2Ru2O7_73787.cif   \n",
       "3        Ca3Ru2O7      0             ../data/Structures/Metals/Ca3Ru2O7.cif   \n",
       "4          CaCrO3      0        ../data/Structures/Metals/CaCrO3_245840.cif   \n",
       "..            ...    ...                                                ...   \n",
       "219         V8O15      2  ../data/Structures/MIT_materials/HighT/V8O15_H...   \n",
       "220            VO      2  ../data/Structures/MIT_materials/HighT/VO_HT_7...   \n",
       "221           VO2      2  ../data/Structures/MIT_materials/HighT/VO2_HT_...   \n",
       "222         YNiO3      2  ../data/Structures/MIT_materials/HighT/YNiO3-6...   \n",
       "223  YbFe4(CuO4)3      2  ../data/Structures/MIT_materials/HighT/YbCu3Fe...   \n",
       "\n",
       "     maximum MendeleevNumber  range MendeleevNumber  avg_dev MendeleevNumber  \\\n",
       "0                         87                     78                27.600000   \n",
       "1                         87                     78                25.920000   \n",
       "2                         87                     31                 9.157025   \n",
       "3                         87                     80                29.361111   \n",
       "4                         87                     80                28.320000   \n",
       "..                       ...                    ...                      ...   \n",
       "219                       87                     41                18.601134   \n",
       "220                       87                     41                20.500000   \n",
       "221                       87                     41                18.222222   \n",
       "222                       87                     75                24.240000   \n",
       "223                       87                     48                14.700000   \n",
       "\n",
       "     range AtomicWeight  mean AtomicWeight  avg_dev AtomicWeight  \\\n",
       "0             121.32760          56.257040             48.309168   \n",
       "1             174.23060          75.111040             70.933968   \n",
       "2             192.98100          66.554236             64.342519   \n",
       "3              85.07060          36.197483             23.564431   \n",
       "4              35.99670          28.014460             14.418072   \n",
       "..                  ...                ...                   ...   \n",
       "219            34.94210          28.153174             15.852749   \n",
       "220            34.94210          33.470450             17.471050   \n",
       "221            34.94210          27.646767             15.529822   \n",
       "222            72.90645          39.119490             27.744108   \n",
       "223           157.05460          38.953240             27.544608   \n",
       "\n",
       "     mode AtomicWeight  ...  max_xx_dists  min_xx_dists  avg_xx_dists  \\\n",
       "0              15.9994  ...      2.857256      2.857256      2.857256   \n",
       "1              15.9994  ...      3.100000      2.893540      2.978994   \n",
       "2              15.9994  ...      3.691300      2.717536      3.077187   \n",
       "3              15.9994  ...      3.488882      2.740999      2.933553   \n",
       "4              15.9994  ...      3.283740      2.677252      2.813798   \n",
       "..                 ...  ...           ...           ...           ...   \n",
       "219            15.9994  ...      3.474319      2.529565      2.819850   \n",
       "220            15.9994  ...      2.880046      2.880046      2.880046   \n",
       "221            15.9994  ...      2.725617      2.575183      2.675472   \n",
       "222            15.9994  ...      3.184308      2.736503      2.827539   \n",
       "223            15.9994  ...      2.924013      2.552849      2.744642   \n",
       "\n",
       "           v_m        v_x         iv      iv_p1  est_hubbard_u  \\\n",
       "0   -44.108215  23.006209  40.330000  54.417000      10.523409   \n",
       "1   -36.659700  22.481523  41.000000  55.000000       8.412244   \n",
       "2   -47.298875  24.715398  45.000000  59.000000      10.043255   \n",
       "3   -43.378203  25.385677  45.000000  59.000000      10.277936   \n",
       "4   -46.438514  25.057295  49.160000  69.460000      16.458029   \n",
       "..         ...        ...        ...        ...            ...   \n",
       "219 -38.212724  31.173210  42.359525  60.638487      13.875184   \n",
       "220 -24.713293  24.713293  14.634000  29.311100       9.677301   \n",
       "221 -45.333235  26.337259  46.709000  65.281650      14.484546   \n",
       "222 -36.802534  23.821848  35.187000  54.920000      15.898371   \n",
       "223 -33.639068  24.360992  36.841000  57.380000      16.597335   \n",
       "\n",
       "     est_charge_trans  volumn_per_sites  \n",
       "0           11.946426         13.195395  \n",
       "1            3.591515         16.289915  \n",
       "2           11.876142         12.393497  \n",
       "3            8.827434         12.120246  \n",
       "4            7.076892         10.539100  \n",
       "..                ...               ...  \n",
       "219         11.940681          9.935308  \n",
       "220         20.010987          8.446042  \n",
       "221          9.779242          9.863262  \n",
       "222         10.393278         10.686816  \n",
       "223          7.361181          9.750947  \n",
       "\n",
       "[224 rows x 105 columns]"
      ]
     },
     "execution_count": 5,
     "metadata": {},
     "output_type": "execute_result"
    }
   ],
   "source": [
    "df = pd.read_excel(PROCESSED_PATH)\n",
    "df"
   ]
  },
  {
   "cell_type": "markdown",
   "metadata": {},
   "source": [
    "# Make a prediction on a never-seen-before structure\n",
    "\n",
    "## 1. Load the three trained models"
   ]
  },
  {
   "cell_type": "code",
   "execution_count": 6,
   "metadata": {},
   "outputs": [],
   "source": [
    "# load the metal vs. non_metal classifier\n",
    "metal_model = xgb.XGBClassifier()\n",
    "metal_model.load_model(\"../model/saved_models/new_models/metal.model\")\n",
    "\n",
    "# load the insulator vs. non_insulator classifier\n",
    "insulator_model = xgb.XGBClassifier()\n",
    "insulator_model.load_model(\"../model/saved_models/new_models/insulator.model\")\n",
    "\n",
    "# load the mit vs. non_mit classifier\n",
    "mit_model = xgb.XGBClassifier()\n",
    "mit_model.load_model(\"../model/saved_models/new_models/mit.model\")"
   ]
  },
  {
   "cell_type": "markdown",
   "metadata": {},
   "source": [
    "## 2. Read in and featurize the new structure"
   ]
  },
  {
   "cell_type": "code",
   "execution_count": 7,
   "metadata": {},
   "outputs": [
    {
     "data": {
      "application/vnd.jupyter.widget-view+json": {
       "model_id": "04afb0bc702942a5824bb2b2cd89b336",
       "version_major": 2,
       "version_minor": 0
      },
      "text/plain": [
       "HBox(children=(FloatProgress(value=0.0, description='StrToComposition', max=1.0, style=ProgressStyle(descripti…"
      ]
     },
     "metadata": {},
     "output_type": "display_data"
    },
    {
     "name": "stdout",
     "output_type": "stream",
     "text": [
      "\n"
     ]
    },
    {
     "data": {
      "application/vnd.jupyter.widget-view+json": {
       "model_id": "43a64ae31ebe4925bbf3bc8e84f616e8",
       "version_major": 2,
       "version_minor": 0
      },
      "text/plain": [
       "HBox(children=(FloatProgress(value=0.0, description='ElementProperty', max=1.0, style=ProgressStyle(descriptio…"
      ]
     },
     "metadata": {},
     "output_type": "display_data"
    },
    {
     "name": "stdout",
     "output_type": "stream",
     "text": [
      "\n"
     ]
    },
    {
     "data": {
      "application/vnd.jupyter.widget-view+json": {
       "model_id": "a61abf3456b04d8cbb52588c2b6de74b",
       "version_major": 2,
       "version_minor": 0
      },
      "text/plain": [
       "HBox(children=(FloatProgress(value=0.0, description='CompositionToOxidComposition', max=1.0, style=ProgressSty…"
      ]
     },
     "metadata": {},
     "output_type": "display_data"
    },
    {
     "name": "stdout",
     "output_type": "stream",
     "text": [
      "\n"
     ]
    },
    {
     "data": {
      "application/vnd.jupyter.widget-view+json": {
       "model_id": "c8101e5a4c144789bd2a18ece9833985",
       "version_major": 2,
       "version_minor": 0
      },
      "text/plain": [
       "HBox(children=(FloatProgress(value=0.0, description='OxidationStates', max=1.0, style=ProgressStyle(descriptio…"
      ]
     },
     "metadata": {},
     "output_type": "display_data"
    },
    {
     "name": "stdout",
     "output_type": "stream",
     "text": [
      "\n"
     ]
    },
    {
     "data": {
      "application/vnd.jupyter.widget-view+json": {
       "model_id": "5db55dea776548c685fe6e91d9b89148",
       "version_major": 2,
       "version_minor": 0
      },
      "text/plain": [
       "HBox(children=(FloatProgress(value=0.0, description='StructureToOxidStructure', max=1.0, style=ProgressStyle(d…"
      ]
     },
     "metadata": {},
     "output_type": "display_data"
    },
    {
     "name": "stdout",
     "output_type": "stream",
     "text": [
      "\n"
     ]
    },
    {
     "data": {
      "application/vnd.jupyter.widget-view+json": {
       "model_id": "4439d5bfce7948929f7a602e374e3e7a",
       "version_major": 2,
       "version_minor": 0
      },
      "text/plain": [
       "HBox(children=(FloatProgress(value=0.0, description='EwaldEnergy', max=1.0, style=ProgressStyle(description_wi…"
      ]
     },
     "metadata": {},
     "output_type": "display_data"
    },
    {
     "name": "stdout",
     "output_type": "stream",
     "text": [
      "\n"
     ]
    },
    {
     "data": {
      "application/vnd.jupyter.widget-view+json": {
       "model_id": "1f61faa5bf7e4da08e2eef74c6254570",
       "version_major": 2,
       "version_minor": 0
      },
      "text/plain": [
       "HBox(children=(FloatProgress(value=0.0, description='StructuralHeterogeneity', max=1.0, style=ProgressStyle(de…"
      ]
     },
     "metadata": {},
     "output_type": "display_data"
    },
    {
     "name": "stdout",
     "output_type": "stream",
     "text": [
      "\n"
     ]
    },
    {
     "data": {
      "application/vnd.jupyter.widget-view+json": {
       "model_id": "fb816df81bbd40e38b0c6680ecb00ec5",
       "version_major": 2,
       "version_minor": 0
      },
      "text/plain": [
       "HBox(children=(FloatProgress(value=0.0, description='GlobalInstabilityIndex', max=1.0, style=ProgressStyle(des…"
      ]
     },
     "metadata": {},
     "output_type": "display_data"
    },
    {
     "name": "stdout",
     "output_type": "stream",
     "text": [
      "\n"
     ]
    },
    {
     "name": "stderr",
     "output_type": "stream",
     "text": [
      "The Panel class is removed from pandas. Accessing it from the top-level namespace will also be removed in the next version\n"
     ]
    },
    {
     "data": {
      "application/vnd.jupyter.widget-view+json": {
       "model_id": "2424c2e863cd49bf8f931ce3c8eb15ad",
       "version_major": 2,
       "version_minor": 0
      },
      "text/plain": [
       "HBox(children=(FloatProgress(value=0.0, description='Handbuilt Featurizer', max=1.0, style=ProgressStyle(descr…"
      ]
     },
     "metadata": {},
     "output_type": "display_data"
    },
    {
     "name": "stdout",
     "output_type": "stream",
     "text": [
      "\n"
     ]
    }
   ],
   "source": [
    "new_struct_df = read_new_struct(NEW_STRUCT_PATH)\n",
    "new_struct_df = featurizer_wrapper(new_struct_df)"
   ]
  },
  {
   "cell_type": "markdown",
   "metadata": {},
   "source": [
    "Here is the raw output from the featurizer."
   ]
  },
  {
   "cell_type": "code",
   "execution_count": 8,
   "metadata": {},
   "outputs": [
    {
     "data": {
      "text/html": [
       "<div>\n",
       "<style scoped>\n",
       "    .dataframe tbody tr th:only-of-type {\n",
       "        vertical-align: middle;\n",
       "    }\n",
       "\n",
       "    .dataframe tbody tr th {\n",
       "        vertical-align: top;\n",
       "    }\n",
       "\n",
       "    .dataframe thead th {\n",
       "        text-align: right;\n",
       "    }\n",
       "</style>\n",
       "<table border=\"1\" class=\"dataframe\">\n",
       "  <thead>\n",
       "    <tr style=\"text-align: right;\">\n",
       "      <th></th>\n",
       "      <th>Compound</th>\n",
       "      <th>structure</th>\n",
       "      <th>composition</th>\n",
       "      <th>MagpieData minimum Number</th>\n",
       "      <th>MagpieData maximum Number</th>\n",
       "      <th>MagpieData range Number</th>\n",
       "      <th>MagpieData mean Number</th>\n",
       "      <th>MagpieData avg_dev Number</th>\n",
       "      <th>MagpieData mode Number</th>\n",
       "      <th>MagpieData minimum MendeleevNumber</th>\n",
       "      <th>...</th>\n",
       "      <th>max_xx_dists</th>\n",
       "      <th>min_xx_dists</th>\n",
       "      <th>avg_xx_dists</th>\n",
       "      <th>v_m</th>\n",
       "      <th>v_x</th>\n",
       "      <th>iv</th>\n",
       "      <th>iv_p1</th>\n",
       "      <th>est_hubbard_u</th>\n",
       "      <th>est_charge_trans</th>\n",
       "      <th>volumn_per_sites</th>\n",
       "    </tr>\n",
       "  </thead>\n",
       "  <tbody>\n",
       "    <tr>\n",
       "      <th>0</th>\n",
       "      <td>CuNiO2</td>\n",
       "      <td>[[0. 0. 0.] Cu, [0.         0.         2.84837...</td>\n",
       "      <td>(Cu, Ni, O)</td>\n",
       "      <td>8.0</td>\n",
       "      <td>29.0</td>\n",
       "      <td>21.0</td>\n",
       "      <td>18.25</td>\n",
       "      <td>10.25</td>\n",
       "      <td>8.0</td>\n",
       "      <td>61.0</td>\n",
       "      <td>...</td>\n",
       "      <td>2.864732</td>\n",
       "      <td>2.77446</td>\n",
       "      <td>2.817046</td>\n",
       "      <td>-24.969425</td>\n",
       "      <td>23.63686</td>\n",
       "      <td>18.168838</td>\n",
       "      <td>35.187</td>\n",
       "      <td>11.991636</td>\n",
       "      <td>15.842407</td>\n",
       "      <td>9.840079</td>\n",
       "    </tr>\n",
       "  </tbody>\n",
       "</table>\n",
       "<p>1 rows × 169 columns</p>\n",
       "</div>"
      ],
      "text/plain": [
       "  Compound                                          structure  composition  \\\n",
       "0   CuNiO2  [[0. 0. 0.] Cu, [0.         0.         2.84837...  (Cu, Ni, O)   \n",
       "\n",
       "   MagpieData minimum Number  MagpieData maximum Number  \\\n",
       "0                        8.0                       29.0   \n",
       "\n",
       "   MagpieData range Number  MagpieData mean Number  MagpieData avg_dev Number  \\\n",
       "0                     21.0                   18.25                      10.25   \n",
       "\n",
       "   MagpieData mode Number  MagpieData minimum MendeleevNumber  ...  \\\n",
       "0                     8.0                                61.0  ...   \n",
       "\n",
       "   max_xx_dists  min_xx_dists  avg_xx_dists        v_m       v_x         iv  \\\n",
       "0      2.864732       2.77446      2.817046 -24.969425  23.63686  18.168838   \n",
       "\n",
       "    iv_p1  est_hubbard_u  est_charge_trans  volumn_per_sites  \n",
       "0  35.187      11.991636         15.842407          9.840079  \n",
       "\n",
       "[1 rows x 169 columns]"
      ]
     },
     "execution_count": 8,
     "metadata": {},
     "output_type": "execute_result"
    }
   ],
   "source": [
    "new_struct_df"
   ]
  },
  {
   "cell_type": "markdown",
   "metadata": {},
   "source": [
    "## 3. Only select predictors that are in the processed data"
   ]
  },
  {
   "cell_type": "code",
   "execution_count": 9,
   "metadata": {},
   "outputs": [],
   "source": [
    "new_struct_df_with_name = abbreviate_features(new_struct_df)\n",
    "new_struct_df = new_struct_df_with_name.filter(items=df.columns).drop(columns=\"Compound\")"
   ]
  },
  {
   "cell_type": "code",
   "execution_count": 10,
   "metadata": {},
   "outputs": [
    {
     "data": {
      "text/html": [
       "<div>\n",
       "<style scoped>\n",
       "    .dataframe tbody tr th:only-of-type {\n",
       "        vertical-align: middle;\n",
       "    }\n",
       "\n",
       "    .dataframe tbody tr th {\n",
       "        vertical-align: top;\n",
       "    }\n",
       "\n",
       "    .dataframe thead th {\n",
       "        text-align: right;\n",
       "    }\n",
       "</style>\n",
       "<table border=\"1\" class=\"dataframe\">\n",
       "  <thead>\n",
       "    <tr style=\"text-align: right;\">\n",
       "      <th></th>\n",
       "      <th>maximum MendeleevNumber</th>\n",
       "      <th>range MendeleevNumber</th>\n",
       "      <th>avg_dev MendeleevNumber</th>\n",
       "      <th>range AtomicWeight</th>\n",
       "      <th>mean AtomicWeight</th>\n",
       "      <th>avg_dev AtomicWeight</th>\n",
       "      <th>mode AtomicWeight</th>\n",
       "      <th>range MeltingT</th>\n",
       "      <th>mean MeltingT</th>\n",
       "      <th>avg_dev MeltingT</th>\n",
       "      <th>...</th>\n",
       "      <th>max_xx_dists</th>\n",
       "      <th>min_xx_dists</th>\n",
       "      <th>avg_xx_dists</th>\n",
       "      <th>v_m</th>\n",
       "      <th>v_x</th>\n",
       "      <th>iv</th>\n",
       "      <th>iv_p1</th>\n",
       "      <th>est_hubbard_u</th>\n",
       "      <th>est_charge_trans</th>\n",
       "      <th>volumn_per_sites</th>\n",
       "    </tr>\n",
       "  </thead>\n",
       "  <tbody>\n",
       "    <tr>\n",
       "      <th>0</th>\n",
       "      <td>87.0</td>\n",
       "      <td>26.0</td>\n",
       "      <td>12.25</td>\n",
       "      <td>47.5466</td>\n",
       "      <td>38.55955</td>\n",
       "      <td>22.56015</td>\n",
       "      <td>15.9994</td>\n",
       "      <td>1673.2</td>\n",
       "      <td>798.8425</td>\n",
       "      <td>744.0425</td>\n",
       "      <td>...</td>\n",
       "      <td>2.864732</td>\n",
       "      <td>2.77446</td>\n",
       "      <td>2.817046</td>\n",
       "      <td>-24.969425</td>\n",
       "      <td>23.63686</td>\n",
       "      <td>18.168838</td>\n",
       "      <td>35.187</td>\n",
       "      <td>11.991636</td>\n",
       "      <td>15.842407</td>\n",
       "      <td>9.840079</td>\n",
       "    </tr>\n",
       "  </tbody>\n",
       "</table>\n",
       "<p>1 rows × 102 columns</p>\n",
       "</div>"
      ],
      "text/plain": [
       "   maximum MendeleevNumber  range MendeleevNumber  avg_dev MendeleevNumber  \\\n",
       "0                     87.0                   26.0                    12.25   \n",
       "\n",
       "   range AtomicWeight  mean AtomicWeight  avg_dev AtomicWeight  \\\n",
       "0             47.5466           38.55955              22.56015   \n",
       "\n",
       "   mode AtomicWeight  range MeltingT  mean MeltingT  avg_dev MeltingT  ...  \\\n",
       "0            15.9994          1673.2       798.8425          744.0425  ...   \n",
       "\n",
       "   max_xx_dists  min_xx_dists  avg_xx_dists        v_m       v_x         iv  \\\n",
       "0      2.864732       2.77446      2.817046 -24.969425  23.63686  18.168838   \n",
       "\n",
       "    iv_p1  est_hubbard_u  est_charge_trans  volumn_per_sites  \n",
       "0  35.187      11.991636         15.842407          9.840079  \n",
       "\n",
       "[1 rows x 102 columns]"
      ]
     },
     "execution_count": 10,
     "metadata": {},
     "output_type": "execute_result"
    }
   ],
   "source": [
    "new_struct_df"
   ]
  },
  {
   "cell_type": "markdown",
   "metadata": {},
   "source": [
    "Compare the number of predictors with the training data loaded into the MIT classifier"
   ]
  },
  {
   "cell_type": "code",
   "execution_count": 11,
   "metadata": {},
   "outputs": [
    {
     "data": {
      "text/plain": [
       "102"
      ]
     },
     "execution_count": 11,
     "metadata": {},
     "output_type": "execute_result"
    }
   ],
   "source": [
    "train_x, _ = load_data(df, \"MIT\")\n",
    "train_x.shape[1]"
   ]
  },
  {
   "cell_type": "markdown",
   "metadata": {},
   "source": [
    "## 4. Print out the prediction label and probability\n",
    "\n",
    "After selecting the relevant features, we are now ready to make a prediction for the given structure. Below, you will see the outputs from the metal vs. non_metal, insulator vs. non_insulator and mit vs. non_mit classifiers. `1` means the structure is predicted to the positive class and `0` means it is predicted to be the negative class.\n",
    "\n",
    "**Note**: It is possible for the classifier to classify a structure as multiple classes. (e.g. as both a metal and an MIT). We've provided you with the probability of each prediction and we'll let you be the final judge."
   ]
  },
  {
   "cell_type": "code",
   "execution_count": 12,
   "metadata": {},
   "outputs": [
    {
     "name": "stdout",
     "output_type": "stream",
     "text": [
      "Is a metal: 0, and the probability of being a metal is :0.0063\n",
      "\n",
      "Is an insulator: 1, and the probability of being an insulator is :0.9843\n",
      "\n",
      "Is an mit: 0, and the probability of being an mit is :0.0062\n"
     ]
    }
   ],
   "source": [
    "print(\"Is a metal: {}, and the probability of being a metal is :{:0.4f}\\n\".format(metal_model.predict(new_struct_df)[0], metal_model.predict_proba(new_struct_df)[0][1]))\n",
    "print(\"Is an insulator: {}, and the probability of being an insulator is :{:0.4f}\\n\".format(insulator_model.predict(new_struct_df)[0], \n",
    "                                                                                    insulator_model.predict_proba(new_struct_df)[0][1]))\n",
    "print(\"Is an mit: {}, and the probability of being an mit is :{:0.4f}\".format(mit_model.predict(new_struct_df)[0], mit_model.predict_proba(new_struct_df)[0][1]))"
   ]
  },
  {
   "cell_type": "markdown",
   "metadata": {},
   "source": [
    "## 5. Plot the data using the Range Mendeleev Number & the Average Deviation of the Covalent Radius\n",
    "\n",
    "These two features are identified with high feature importance for the MIT vs. non-MIT classifier and have been shown to separate MITs from the non-MITs quite well.\n",
    "\n",
    "We can take a look at the top 10 features with the highest importance for the MIT vs. non-MIT classifier."
   ]
  },
  {
   "cell_type": "code",
   "execution_count": 13,
   "metadata": {},
   "outputs": [
    {
     "data": {
      "image/png": "[encoded data removed]",
      "text/plain": [
       "<Figure size 576x396 with 1 Axes>"
      ]
     },
     "metadata": {
      "needs_background": "light"
     },
     "output_type": "display_data"
    }
   ],
   "source": [
    "x_mit, _ = load_data(df, \"MIT\")\n",
    "explainer = shap.TreeExplainer(mit_model)\n",
    "shap_values = explainer.shap_values(x_mit)\n",
    "shap.summary_plot(shap_values, x_mit, plot_type=\"bar\", max_display=10)"
   ]
  },
  {
   "cell_type": "markdown",
   "metadata": {},
   "source": [
    "Then, we can plot all the datapoints (training set + the new structure) on a 2D scatter plot of `range MendeleevNumber` vs. `avg_dev CovalentRadius`."
   ]
  },
  {
   "cell_type": "code",
   "execution_count": 14,
   "metadata": {},
   "outputs": [],
   "source": [
    "x_plot = \"range MendeleevNumber\"\n",
    "y_plot = \"avg_dev CovalentRadius\""
   ]
  },
  {
   "cell_type": "code",
   "execution_count": 15,
   "metadata": {},
   "outputs": [
    {
     "data": {
      "text/html": [
       "<div>\n",
       "<style scoped>\n",
       "    .dataframe tbody tr th:only-of-type {\n",
       "        vertical-align: middle;\n",
       "    }\n",
       "\n",
       "    .dataframe tbody tr th {\n",
       "        vertical-align: top;\n",
       "    }\n",
       "\n",
       "    .dataframe thead th {\n",
       "        text-align: right;\n",
       "    }\n",
       "</style>\n",
       "<table border=\"1\" class=\"dataframe\">\n",
       "  <thead>\n",
       "    <tr style=\"text-align: right;\">\n",
       "      <th></th>\n",
       "      <th>Compound</th>\n",
       "      <th>Label</th>\n",
       "      <th>range MendeleevNumber</th>\n",
       "      <th>avg_dev CovalentRadius</th>\n",
       "    </tr>\n",
       "  </thead>\n",
       "  <tbody>\n",
       "    <tr>\n",
       "      <th>0</th>\n",
       "      <td>BaMoO3</td>\n",
       "      <td>metal</td>\n",
       "      <td>78.0</td>\n",
       "      <td>56.880000</td>\n",
       "    </tr>\n",
       "    <tr>\n",
       "      <th>1</th>\n",
       "      <td>BaOsO3</td>\n",
       "      <td>metal</td>\n",
       "      <td>78.0</td>\n",
       "      <td>54.480000</td>\n",
       "    </tr>\n",
       "    <tr>\n",
       "      <th>2</th>\n",
       "      <td>Bi2Ru2O7</td>\n",
       "      <td>metal</td>\n",
       "      <td>31.0</td>\n",
       "      <td>37.487603</td>\n",
       "    </tr>\n",
       "    <tr>\n",
       "      <th>3</th>\n",
       "      <td>Ca3Ru2O7</td>\n",
       "      <td>metal</td>\n",
       "      <td>80.0</td>\n",
       "      <td>47.638889</td>\n",
       "    </tr>\n",
       "    <tr>\n",
       "      <th>4</th>\n",
       "      <td>CaCrO3</td>\n",
       "      <td>metal</td>\n",
       "      <td>80.0</td>\n",
       "      <td>43.920000</td>\n",
       "    </tr>\n",
       "    <tr>\n",
       "      <th>...</th>\n",
       "      <td>...</td>\n",
       "      <td>...</td>\n",
       "      <td>...</td>\n",
       "      <td>...</td>\n",
       "    </tr>\n",
       "    <tr>\n",
       "      <th>220</th>\n",
       "      <td>VO</td>\n",
       "      <td>mit</td>\n",
       "      <td>41.0</td>\n",
       "      <td>43.500000</td>\n",
       "    </tr>\n",
       "    <tr>\n",
       "      <th>221</th>\n",
       "      <td>VO2</td>\n",
       "      <td>mit</td>\n",
       "      <td>41.0</td>\n",
       "      <td>38.666667</td>\n",
       "    </tr>\n",
       "    <tr>\n",
       "      <th>222</th>\n",
       "      <td>YNiO3</td>\n",
       "      <td>mit</td>\n",
       "      <td>75.0</td>\n",
       "      <td>43.680000</td>\n",
       "    </tr>\n",
       "    <tr>\n",
       "      <th>223</th>\n",
       "      <td>YbFe4(CuO4)3</td>\n",
       "      <td>mit</td>\n",
       "      <td>48.0</td>\n",
       "      <td>34.980000</td>\n",
       "    </tr>\n",
       "    <tr>\n",
       "      <th>224</th>\n",
       "      <td>CuNiO2</td>\n",
       "      <td>new_struct</td>\n",
       "      <td>26.0</td>\n",
       "      <td>31.000000</td>\n",
       "    </tr>\n",
       "  </tbody>\n",
       "</table>\n",
       "<p>225 rows × 4 columns</p>\n",
       "</div>"
      ],
      "text/plain": [
       "         Compound       Label  range MendeleevNumber  avg_dev CovalentRadius\n",
       "0          BaMoO3       metal                   78.0               56.880000\n",
       "1          BaOsO3       metal                   78.0               54.480000\n",
       "2        Bi2Ru2O7       metal                   31.0               37.487603\n",
       "3        Ca3Ru2O7       metal                   80.0               47.638889\n",
       "4          CaCrO3       metal                   80.0               43.920000\n",
       "..            ...         ...                    ...                     ...\n",
       "220            VO         mit                   41.0               43.500000\n",
       "221           VO2         mit                   41.0               38.666667\n",
       "222         YNiO3         mit                   75.0               43.680000\n",
       "223  YbFe4(CuO4)3         mit                   48.0               34.980000\n",
       "224        CuNiO2  new_struct                   26.0               31.000000\n",
       "\n",
       "[225 rows x 4 columns]"
      ]
     },
     "execution_count": 15,
     "metadata": {},
     "output_type": "execute_result"
    }
   ],
   "source": [
    "# get the relevant columns from the training set\n",
    "df_plot = df[[\"Compound\", \"Label\", x_plot, y_plot]]\n",
    "# get the relevant columns from the new structure dataframe\n",
    "new_struct_plot = new_struct_df_with_name[[\"Compound\", x_plot, y_plot]]\n",
    "# assign 3 to new strucuture's label to distinguish it from the original training set\n",
    "new_struct_plot[\"Label\"] = \"new_struct\"\n",
    "# combine the two datasets\n",
    "combined_df_plot = pd.concat([df_plot, new_struct_plot], ignore_index=True)\n",
    "# change the numeric label into string format to allow discrete color scale for plotting\n",
    "combined_df_plot = combined_df_plot.replace({\"Label\": {0: \"metal\", 1: \"insulator\", 2: \"mit\"}})\n",
    "combined_df_plot"
   ]
  },
  {
   "cell_type": "markdown",
   "metadata": {},
   "source": [
    "Create a scatter plot."
   ]
  },
  {
   "cell_type": "code",
   "execution_count": 16,
   "metadata": {},
   "outputs": [
    {
     "data": {
      "image/png": "[encoded data removed]",
      "text/plain": [
       "<Figure size 1000x1000 with 1 Axes>"
      ]
     },
     "metadata": {},
     "output_type": "display_data"
    }
   ],
   "source": [
    "with sns.axes_style(\"ticks\"):\n",
    "    plt.figure(figsize=(5,5), dpi=200)\n",
    "    sns.scatterplot(data=combined_df_plot, x=x_plot, y=y_plot, hue=\"Label\")"
   ]
  }
 ],
 "metadata": {
  "kernelspec": {
   "display_name": "PyCharm (mit_model_code)",
   "language": "python",
   "name": "pycharm-43a0cb91"
  },
  "language_info": {
   "codemirror_mode": {
    "name": "ipython",
    "version": 3
   },
   "file_extension": ".py",
   "mimetype": "text/x-python",
   "name": "python",
   "nbconvert_exporter": "python",
   "pygments_lexer": "ipython3",
   "version": "3.7.4"
  }
 },
 "nbformat": 4,
 "nbformat_minor": 4
}
