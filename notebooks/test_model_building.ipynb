{
 "cells": [
  {
   "cell_type": "code",
   "execution_count": 1,
   "metadata": {
    "collapsed": true
   },
   "outputs": [],
   "source": [
    "import pprint\n",
    "import pandas as pd\n",
    "from model.model_building import load_data, tune_hyperparam, eval_xgb_model"
   ]
  },
  {
   "cell_type": "code",
   "execution_count": 2,
   "outputs": [],
   "source": [
    "# set up constants\n",
    "PROCESSED_PATH = \"../data/processed/IMT_Classification_Dataset_Processed.xlsx\"\n",
    "RANDOM_SEED = 31415926"
   ],
   "metadata": {
    "collapsed": false,
    "pycharm": {
     "name": "#%%\n"
    }
   }
  },
  {
   "cell_type": "code",
   "execution_count": 3,
   "outputs": [],
   "source": [
    "# read in the processed data\n",
    "df = pd.read_excel(PROCESSED_PATH)"
   ],
   "metadata": {
    "collapsed": false,
    "pycharm": {
     "name": "#%%\n"
    }
   }
  },
  {
   "cell_type": "code",
   "execution_count": 4,
   "outputs": [
    {
     "name": "stdout",
     "output_type": "stream",
     "text": [
      "\n",
      "Tuning for Metal vs. non-Metal binary classifier\n",
      "Fitting 5 folds for each of 432 candidates, totalling 2160 fits\n",
      "\n",
      "Tuning for Insulator vs. non-Insulator binary classifier\n",
      "Fitting 5 folds for each of 432 candidates, totalling 2160 fits\n",
      "\n",
      "Tuning for MIT vs. non-MIT binary classifier\n",
      "Fitting 5 folds for each of 432 candidates, totalling 2160 fits\n",
      "{'Insulator': {'base_score': 0.5,\n",
      "               'learning_rate': 0.1,\n",
      "               'max_depth': 2,\n",
      "               'n_estimators': 100,\n",
      "               'scale_pos_weight': 1.7228915662650603},\n",
      " 'MIT': {'base_score': 0.7,\n",
      "         'learning_rate': 0.1,\n",
      "         'max_depth': 3,\n",
      "         'n_estimators': 150,\n",
      "         'scale_pos_weight': 1.0545454545454545},\n",
      " 'Metal': {'base_score': 0.7,\n",
      "           'learning_rate': 1.0,\n",
      "           'max_depth': 2,\n",
      "           'n_estimators': 80,\n",
      "           'scale_pos_weight': 5.848484848484849}}\n"
     ]
    },
    {
     "name": "stderr",
     "output_type": "stream",
     "text": [
      "[Parallel(n_jobs=-1)]: Using backend LokyBackend with 8 concurrent workers.\n",
      "[Parallel(n_jobs=-1)]: Done  34 tasks      | elapsed:    2.1s\n",
      "[Parallel(n_jobs=-1)]: Done 184 tasks      | elapsed:    5.0s\n",
      "[Parallel(n_jobs=-1)]: Done 556 tasks      | elapsed:   10.0s\n",
      "[Parallel(n_jobs=-1)]: Done 1256 tasks      | elapsed:   19.5s\n",
      "[Parallel(n_jobs=-1)]: Done 2160 out of 2160 | elapsed:   32.8s finished\n",
      "[Parallel(n_jobs=-1)]: Using backend LokyBackend with 8 concurrent workers.\n",
      "[Parallel(n_jobs=-1)]: Done  56 tasks      | elapsed:    0.8s\n",
      "[Parallel(n_jobs=-1)]: Done 656 tasks      | elapsed:    9.5s\n",
      "[Parallel(n_jobs=-1)]: Done 1656 tasks      | elapsed:   23.9s\n",
      "[Parallel(n_jobs=-1)]: Done 2160 out of 2160 | elapsed:   29.7s finished\n",
      "[Parallel(n_jobs=-1)]: Using backend LokyBackend with 8 concurrent workers.\n",
      "[Parallel(n_jobs=-1)]: Done  56 tasks      | elapsed:    0.9s\n",
      "[Parallel(n_jobs=-1)]: Done 656 tasks      | elapsed:    9.6s\n",
      "[Parallel(n_jobs=-1)]: Done 1656 tasks      | elapsed:   24.6s\n",
      "[Parallel(n_jobs=-1)]: Done 2160 out of 2160 | elapsed:   30.7s finished\n"
     ]
    }
   ],
   "source": [
    "best_params = {choice: tune_hyperparam(df, choice, RANDOM_SEED)\n",
    "               for choice in [\"Metal\", \"Insulator\", \"MIT\"]}\n",
    "pprint.pprint(best_params)"
   ],
   "metadata": {
    "collapsed": false,
    "pycharm": {
     "name": "#%%\n"
    }
   }
  },
  {
   "cell_type": "code",
   "execution_count": 5,
   "outputs": [
    {
     "name": "stdout",
     "output_type": "stream",
     "text": [
      "\n",
      "Evaluating the Metal vs. non-Metal binary classifier\n",
      "For 10 folds\n",
      "Mean precision_macro: 0.82 w/ std: 0.16\n",
      "Mean recall_macro: 0.72 w/ std: 0.15\n",
      "Mean roc_auc: 0.85 w/ std: 0.12\n",
      "Mean f1_macro: 0.74 w/ std: 0.13\n",
      "\n",
      "Evaluating the Insulator vs. non-Insulator binary classifier\n",
      "For 10 folds\n",
      "Mean precision_macro: 0.90 w/ std: 0.05\n",
      "Mean recall_macro: 0.89 w/ std: 0.04\n",
      "Mean roc_auc: 0.96 w/ std: 0.03\n",
      "Mean f1_macro: 0.89 w/ std: 0.04\n",
      "\n",
      "Evaluating the MIT vs. non-MIT binary classifier\n",
      "For 10 folds\n",
      "Mean precision_macro: 0.89 w/ std: 0.05\n",
      "Mean recall_macro: 0.88 w/ std: 0.05\n",
      "Mean roc_auc: 0.95 w/ std: 0.03\n",
      "Mean f1_macro: 0.88 w/ std: 0.05\n"
     ]
    }
   ],
   "source": [
    "for choice in [\"Metal\", \"Insulator\", \"MIT\"]:\n",
    "    eval_xgb_model(df, choice, best_params, RANDOM_SEED, eval_method=\"standard\")"
   ],
   "metadata": {
    "collapsed": false,
    "pycharm": {
     "name": "#%%\n"
    }
   }
  },
  {
   "cell_type": "code",
   "execution_count": null,
   "outputs": [],
   "source": [
    "\n"
   ],
   "metadata": {
    "collapsed": false,
    "pycharm": {
     "name": "#%%\n"
    }
   }
  }
 ],
 "metadata": {
  "kernelspec": {
   "name": "pycharm-43a0cb91",
   "language": "python",
   "display_name": "PyCharm (mit_model_code)"
  },
  "language_info": {
   "codemirror_mode": {
    "name": "ipython",
    "version": 2
   },
   "file_extension": ".py",
   "mimetype": "text/x-python",
   "name": "python",
   "nbconvert_exporter": "python",
   "pygments_lexer": "ipython2",
   "version": "2.7.6"
  }
 },
 "nbformat": 4,
 "nbformat_minor": 0
}