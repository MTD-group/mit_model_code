{
 "cells": [
  {
   "cell_type": "markdown",
   "metadata": {},
   "source": [
    "# Import packages and functions"
   ]
  },
  {
   "cell_type": "code",
   "execution_count": 1,
   "metadata": {},
   "outputs": [],
   "source": [
    "import sys\n",
    "# force the notebook to look for files in the upper level directory\n",
    "sys.path.insert(1, '../')"
   ]
  },
  {
   "cell_type": "code",
   "execution_count": 2,
   "metadata": {},
   "outputs": [],
   "source": [
    "import shap\n",
    "import time\n",
    "import json\n",
    "import pprint\n",
    "import numpy as np\n",
    "import pandas as pd\n",
    "import xgboost as xgb\n",
    "import matplotlib.pyplot as plt\n",
    "from scipy.stats import iqr\n",
    "from collections import OrderedDict\n",
    "from sklearn.preprocessing import LabelBinarizer\n",
    "from sklearn.dummy import DummyClassifier\n",
    "from sklearn.tree import DecisionTreeClassifier\n",
    "from sklearn.linear_model import LogisticRegression\n",
    "from sklearn.model_selection import train_test_split\n",
    "from sklearn.ensemble import RandomForestClassifier, GradientBoostingClassifier\n",
    "from sklearn.metrics import precision_score, recall_score, f1_score, roc_auc_score\n",
    "from model.model_building import load_data, tune_hyperparam, evaluate_model, plot_eval"
   ]
  },
  {
   "cell_type": "markdown",
   "metadata": {},
   "source": [
    "# Set up constants"
   ]
  },
  {
   "cell_type": "code",
   "execution_count": 3,
   "metadata": {
    "collapsed": false,
    "jupyter": {
     "outputs_hidden": false
    },
    "pycharm": {
     "name": "#%%\n"
    }
   },
   "outputs": [],
   "source": [
    "PROCESSED_PATH = \"../data/processed/IMT_Classification_Dataset_Full_Feature_Set_v10.xlsx\"\n",
    "TRAIN_RANDOM_SEED = 31415926\n",
    "SCORING_METRICS = [\"precision_weighted\", \"recall_weighted\", \"roc_auc\", \"f1_weighted\"]\n",
    "EVAL_RANDOM_SEEDS = np.arange(0, 10)\n",
    "SPLIT_RANDOM_SEEDS = np.arange(0, 10)\n",
    "NUM_FOLDS = 5\n",
    "SAVE_PLOT = True\n",
    "SAVE_PLOT_PATH = \"../plots/\""
   ]
  },
  {
   "cell_type": "markdown",
   "metadata": {},
   "source": [
    "# Define some helper functions"
   ]
  },
  {
   "cell_type": "code",
   "execution_count": 4,
   "metadata": {},
   "outputs": [],
   "source": [
    "def get_important_features(df_input, choice, trained_model, max_n=10):\n",
    "    \"\"\"Return the most important features along with their SHAP values and display a bar plot\"\"\"\n",
    "    # load in the data\n",
    "    x, _ = load_data(df_input, choice)\n",
    "    # load the shap tree explainer\n",
    "    explainer = shap.TreeExplainer(trained_model)\n",
    "    # get the shap values\n",
    "    shap_values = explainer.shap_values(x)\n",
    "    # display the feature importance bar plot\n",
    "    shap.summary_plot(shap_values, x, plot_type=\"bar\", max_display=max_n, show=False)\n",
    "    # save the figure\n",
    "    plt.savefig(\"../plots/{}_top_10_features_full.pdf\".format(choice), dpi=300, bbox_inches=\"tight\")\n",
    "    # get the shap values for the n most important features\n",
    "    df_important_feautures = get_important_df(x, shap_values, n_max=max_n)\n",
    "    return df_important_feautures\n",
    "\n",
    "def get_important_df(x_train, shap_values, n_max):\n",
    "    \"\"\"Helper function for get_important_features() and is used to get the most important features in a dataframe format\"\"\"\n",
    "    # get the shap values for each column/feature\n",
    "    feature_shap_values = np.abs(shap_values).mean(0)\n",
    "    # create a dataframe with the feature names and shap values\n",
    "    df_feature_importance = pd.DataFrame(list(zip(x_train.columns, feature_shap_values)),\n",
    "                                         columns=[\"feature\", \"shap_values\"])\n",
    "    # sort the dataframe by descending shap values\n",
    "    df_feature_importance = df_feature_importance.sort_values(by=[\"shap_values\"], ascending=False, ignore_index=True)\n",
    "    # return the n most important features\n",
    "    return df_feature_importance.head(n_max)"
   ]
  },
  {
   "cell_type": "markdown",
   "metadata": {},
   "source": [
    "# Read in the processed data"
   ]
  },
  {
   "cell_type": "code",
   "execution_count": 5,
   "metadata": {
    "collapsed": false,
    "jupyter": {
     "outputs_hidden": false
    },
    "pycharm": {
     "name": "#%%\n"
    }
   },
   "outputs": [
    {
     "data": {
      "text/html": [
       "<div>\n",
       "<style scoped>\n",
       "    .dataframe tbody tr th:only-of-type {\n",
       "        vertical-align: middle;\n",
       "    }\n",
       "\n",
       "    .dataframe tbody tr th {\n",
       "        vertical-align: top;\n",
       "    }\n",
       "\n",
       "    .dataframe thead th {\n",
       "        text-align: right;\n",
       "    }\n",
       "</style>\n",
       "<table border=\"1\" class=\"dataframe\">\n",
       "  <thead>\n",
       "    <tr style=\"text-align: right;\">\n",
       "      <th></th>\n",
       "      <th>Compound</th>\n",
       "      <th>Label</th>\n",
       "      <th>struct_file_path</th>\n",
       "      <th>range_MendeleevNumber</th>\n",
       "      <th>mean_MendeleevNumber</th>\n",
       "      <th>avg_dev_MendeleevNumber</th>\n",
       "      <th>maximum_AtomicWeight</th>\n",
       "      <th>range_AtomicWeight</th>\n",
       "      <th>mean_AtomicWeight</th>\n",
       "      <th>avg_dev_AtomicWeight</th>\n",
       "      <th>...</th>\n",
       "      <th>avg_mx_dists</th>\n",
       "      <th>max_xx_dists</th>\n",
       "      <th>min_xx_dists</th>\n",
       "      <th>avg_xx_dists</th>\n",
       "      <th>v_m</th>\n",
       "      <th>v_x</th>\n",
       "      <th>iv_p1</th>\n",
       "      <th>est_hubbard_u</th>\n",
       "      <th>est_charge_trans</th>\n",
       "      <th>volume_per_site</th>\n",
       "    </tr>\n",
       "  </thead>\n",
       "  <tbody>\n",
       "    <tr>\n",
       "      <th>0</th>\n",
       "      <td>Ba(FeSb3)4</td>\n",
       "      <td>0</td>\n",
       "      <td>../data/Structures/Metals/BaFe4Sb12_CollCode_6...</td>\n",
       "      <td>76</td>\n",
       "      <td>73.470588</td>\n",
       "      <td>16.276817</td>\n",
       "      <td>137.32700</td>\n",
       "      <td>81.482000</td>\n",
       "      <td>107.166294</td>\n",
       "      <td>24.151197</td>\n",
       "      <td>...</td>\n",
       "      <td>2.596481</td>\n",
       "      <td>3.450762</td>\n",
       "      <td>2.871024</td>\n",
       "      <td>3.266718</td>\n",
       "      <td>-23.735803</td>\n",
       "      <td>9.622199</td>\n",
       "      <td>54.91000</td>\n",
       "      <td>21.129322</td>\n",
       "      <td>19.461062</td>\n",
       "      <td>22.917528</td>\n",
       "    </tr>\n",
       "    <tr>\n",
       "      <th>1</th>\n",
       "      <td>Ba(NiP)2</td>\n",
       "      <td>0</td>\n",
       "      <td>../data/Structures/Metals/BaNi2P2_SD_1701656.cif</td>\n",
       "      <td>74</td>\n",
       "      <td>59.400000</td>\n",
       "      <td>20.160000</td>\n",
       "      <td>137.32700</td>\n",
       "      <td>106.353238</td>\n",
       "      <td>63.332265</td>\n",
       "      <td>29.597894</td>\n",
       "      <td>...</td>\n",
       "      <td>2.259574</td>\n",
       "      <td>3.709116</td>\n",
       "      <td>3.554335</td>\n",
       "      <td>3.631725</td>\n",
       "      <td>-22.390084</td>\n",
       "      <td>28.414957</td>\n",
       "      <td>35.18700</td>\n",
       "      <td>11.858755</td>\n",
       "      <td>35.445979</td>\n",
       "      <td>18.414152</td>\n",
       "    </tr>\n",
       "    <tr>\n",
       "      <th>2</th>\n",
       "      <td>Ba(PIr)2</td>\n",
       "      <td>0</td>\n",
       "      <td>../data/Structures/Metals/BaIr2P2_CollCode_957...</td>\n",
       "      <td>74</td>\n",
       "      <td>59.000000</td>\n",
       "      <td>20.000000</td>\n",
       "      <td>192.21700</td>\n",
       "      <td>161.243238</td>\n",
       "      <td>116.741705</td>\n",
       "      <td>68.614354</td>\n",
       "      <td>...</td>\n",
       "      <td>2.355169</td>\n",
       "      <td>3.794974</td>\n",
       "      <td>3.713769</td>\n",
       "      <td>3.754372</td>\n",
       "      <td>-20.210211</td>\n",
       "      <td>27.763527</td>\n",
       "      <td>28.00000</td>\n",
       "      <td>5.839285</td>\n",
       "      <td>34.042180</td>\n",
       "      <td>19.575756</td>\n",
       "    </tr>\n",
       "    <tr>\n",
       "      <th>3</th>\n",
       "      <td>Ba(PRh)2</td>\n",
       "      <td>0</td>\n",
       "      <td>../data/Structures/Metals/BaRh2P2_CollCode_501...</td>\n",
       "      <td>74</td>\n",
       "      <td>58.600000</td>\n",
       "      <td>19.840000</td>\n",
       "      <td>137.32700</td>\n",
       "      <td>106.353238</td>\n",
       "      <td>81.017105</td>\n",
       "      <td>40.034674</td>\n",
       "      <td>...</td>\n",
       "      <td>2.346291</td>\n",
       "      <td>3.776568</td>\n",
       "      <td>3.737587</td>\n",
       "      <td>3.757078</td>\n",
       "      <td>-20.397126</td>\n",
       "      <td>27.833127</td>\n",
       "      <td>31.06000</td>\n",
       "      <td>7.810114</td>\n",
       "      <td>33.195560</td>\n",
       "      <td>19.512571</td>\n",
       "    </tr>\n",
       "    <tr>\n",
       "      <th>4</th>\n",
       "      <td>Ba(Sb3Os)4</td>\n",
       "      <td>0</td>\n",
       "      <td>../data/Structures/Metals/BaOs4Sb12_CollCode_6...</td>\n",
       "      <td>76</td>\n",
       "      <td>73.941176</td>\n",
       "      <td>15.612457</td>\n",
       "      <td>190.23000</td>\n",
       "      <td>68.470000</td>\n",
       "      <td>138.786294</td>\n",
       "      <td>24.208803</td>\n",
       "      <td>...</td>\n",
       "      <td>2.635420</td>\n",
       "      <td>3.502512</td>\n",
       "      <td>2.914080</td>\n",
       "      <td>3.315708</td>\n",
       "      <td>-23.385103</td>\n",
       "      <td>9.480030</td>\n",
       "      <td>41.00000</td>\n",
       "      <td>12.916563</td>\n",
       "      <td>10.425355</td>\n",
       "      <td>23.964132</td>\n",
       "    </tr>\n",
       "    <tr>\n",
       "      <th>...</th>\n",
       "      <td>...</td>\n",
       "      <td>...</td>\n",
       "      <td>...</td>\n",
       "      <td>...</td>\n",
       "      <td>...</td>\n",
       "      <td>...</td>\n",
       "      <td>...</td>\n",
       "      <td>...</td>\n",
       "      <td>...</td>\n",
       "      <td>...</td>\n",
       "      <td>...</td>\n",
       "      <td>...</td>\n",
       "      <td>...</td>\n",
       "      <td>...</td>\n",
       "      <td>...</td>\n",
       "      <td>...</td>\n",
       "      <td>...</td>\n",
       "      <td>...</td>\n",
       "      <td>...</td>\n",
       "      <td>...</td>\n",
       "      <td>...</td>\n",
       "    </tr>\n",
       "    <tr>\n",
       "      <th>338</th>\n",
       "      <td>VO2</td>\n",
       "      <td>2</td>\n",
       "      <td>../data/Structures/MIT_materials/HighT/VO2_HT_...</td>\n",
       "      <td>41</td>\n",
       "      <td>73.333333</td>\n",
       "      <td>18.222222</td>\n",
       "      <td>50.94150</td>\n",
       "      <td>34.942100</td>\n",
       "      <td>27.646767</td>\n",
       "      <td>15.529822</td>\n",
       "      <td>...</td>\n",
       "      <td>1.927294</td>\n",
       "      <td>2.725617</td>\n",
       "      <td>2.575183</td>\n",
       "      <td>2.675472</td>\n",
       "      <td>-45.333235</td>\n",
       "      <td>26.337259</td>\n",
       "      <td>65.28165</td>\n",
       "      <td>14.484546</td>\n",
       "      <td>9.779242</td>\n",
       "      <td>9.863262</td>\n",
       "    </tr>\n",
       "    <tr>\n",
       "      <th>339</th>\n",
       "      <td>YCoO3</td>\n",
       "      <td>2</td>\n",
       "      <td>../data/Structures/MIT_materials/HighT/YCoO3_C...</td>\n",
       "      <td>75</td>\n",
       "      <td>66.200000</td>\n",
       "      <td>24.960000</td>\n",
       "      <td>88.90585</td>\n",
       "      <td>72.906450</td>\n",
       "      <td>39.167449</td>\n",
       "      <td>27.801659</td>\n",
       "      <td>...</td>\n",
       "      <td>1.933264</td>\n",
       "      <td>3.527817</td>\n",
       "      <td>2.699880</td>\n",
       "      <td>2.881036</td>\n",
       "      <td>-37.430821</td>\n",
       "      <td>24.043918</td>\n",
       "      <td>51.27000</td>\n",
       "      <td>13.895560</td>\n",
       "      <td>12.815560</td>\n",
       "      <td>10.252012</td>\n",
       "    </tr>\n",
       "    <tr>\n",
       "      <th>340</th>\n",
       "      <td>YFe4(CuO4)3</td>\n",
       "      <td>2</td>\n",
       "      <td>../data/Structures/MIT_materials/HighT/YCu3Fe4...</td>\n",
       "      <td>75</td>\n",
       "      <td>73.400000</td>\n",
       "      <td>16.320000</td>\n",
       "      <td>88.90585</td>\n",
       "      <td>72.906450</td>\n",
       "      <td>34.745832</td>\n",
       "      <td>22.495719</td>\n",
       "      <td>...</td>\n",
       "      <td>2.356918</td>\n",
       "      <td>2.896772</td>\n",
       "      <td>2.559157</td>\n",
       "      <td>2.745188</td>\n",
       "      <td>-26.680740</td>\n",
       "      <td>24.867599</td>\n",
       "      <td>37.86795</td>\n",
       "      <td>12.807177</td>\n",
       "      <td>16.608178</td>\n",
       "      <td>9.756232</td>\n",
       "    </tr>\n",
       "    <tr>\n",
       "      <th>341</th>\n",
       "      <td>YNiO3</td>\n",
       "      <td>2</td>\n",
       "      <td>../data/Structures/MIT_materials/HighT/YNiO3_6...</td>\n",
       "      <td>75</td>\n",
       "      <td>66.800000</td>\n",
       "      <td>24.240000</td>\n",
       "      <td>88.90585</td>\n",
       "      <td>72.906450</td>\n",
       "      <td>39.119490</td>\n",
       "      <td>27.744108</td>\n",
       "      <td>...</td>\n",
       "      <td>1.963601</td>\n",
       "      <td>3.184308</td>\n",
       "      <td>2.736503</td>\n",
       "      <td>2.827539</td>\n",
       "      <td>-36.802534</td>\n",
       "      <td>23.821848</td>\n",
       "      <td>54.92000</td>\n",
       "      <td>15.898371</td>\n",
       "      <td>10.393278</td>\n",
       "      <td>10.686816</td>\n",
       "    </tr>\n",
       "    <tr>\n",
       "      <th>342</th>\n",
       "      <td>YbFe4(CuO4)3</td>\n",
       "      <td>2</td>\n",
       "      <td>../data/Structures/MIT_materials/HighT/YbCu3Fe...</td>\n",
       "      <td>48</td>\n",
       "      <td>74.750000</td>\n",
       "      <td>14.700000</td>\n",
       "      <td>173.05400</td>\n",
       "      <td>157.054600</td>\n",
       "      <td>38.953240</td>\n",
       "      <td>27.544608</td>\n",
       "      <td>...</td>\n",
       "      <td>2.365615</td>\n",
       "      <td>2.924013</td>\n",
       "      <td>2.552849</td>\n",
       "      <td>2.744642</td>\n",
       "      <td>-33.639068</td>\n",
       "      <td>24.360992</td>\n",
       "      <td>57.38000</td>\n",
       "      <td>16.597335</td>\n",
       "      <td>7.361181</td>\n",
       "      <td>9.750947</td>\n",
       "    </tr>\n",
       "  </tbody>\n",
       "</table>\n",
       "<p>343 rows × 110 columns</p>\n",
       "</div>"
      ],
      "text/plain": [
       "         Compound  Label                                   struct_file_path  \\\n",
       "0      Ba(FeSb3)4      0  ../data/Structures/Metals/BaFe4Sb12_CollCode_6...   \n",
       "1        Ba(NiP)2      0   ../data/Structures/Metals/BaNi2P2_SD_1701656.cif   \n",
       "2        Ba(PIr)2      0  ../data/Structures/Metals/BaIr2P2_CollCode_957...   \n",
       "3        Ba(PRh)2      0  ../data/Structures/Metals/BaRh2P2_CollCode_501...   \n",
       "4      Ba(Sb3Os)4      0  ../data/Structures/Metals/BaOs4Sb12_CollCode_6...   \n",
       "..            ...    ...                                                ...   \n",
       "338           VO2      2  ../data/Structures/MIT_materials/HighT/VO2_HT_...   \n",
       "339         YCoO3      2  ../data/Structures/MIT_materials/HighT/YCoO3_C...   \n",
       "340   YFe4(CuO4)3      2  ../data/Structures/MIT_materials/HighT/YCu3Fe4...   \n",
       "341         YNiO3      2  ../data/Structures/MIT_materials/HighT/YNiO3_6...   \n",
       "342  YbFe4(CuO4)3      2  ../data/Structures/MIT_materials/HighT/YbCu3Fe...   \n",
       "\n",
       "     range_MendeleevNumber  mean_MendeleevNumber  avg_dev_MendeleevNumber  \\\n",
       "0                       76             73.470588                16.276817   \n",
       "1                       74             59.400000                20.160000   \n",
       "2                       74             59.000000                20.000000   \n",
       "3                       74             58.600000                19.840000   \n",
       "4                       76             73.941176                15.612457   \n",
       "..                     ...                   ...                      ...   \n",
       "338                     41             73.333333                18.222222   \n",
       "339                     75             66.200000                24.960000   \n",
       "340                     75             73.400000                16.320000   \n",
       "341                     75             66.800000                24.240000   \n",
       "342                     48             74.750000                14.700000   \n",
       "\n",
       "     maximum_AtomicWeight  range_AtomicWeight  mean_AtomicWeight  \\\n",
       "0               137.32700           81.482000         107.166294   \n",
       "1               137.32700          106.353238          63.332265   \n",
       "2               192.21700          161.243238         116.741705   \n",
       "3               137.32700          106.353238          81.017105   \n",
       "4               190.23000           68.470000         138.786294   \n",
       "..                    ...                 ...                ...   \n",
       "338              50.94150           34.942100          27.646767   \n",
       "339              88.90585           72.906450          39.167449   \n",
       "340              88.90585           72.906450          34.745832   \n",
       "341              88.90585           72.906450          39.119490   \n",
       "342             173.05400          157.054600          38.953240   \n",
       "\n",
       "     avg_dev_AtomicWeight  ...  avg_mx_dists  max_xx_dists  min_xx_dists  \\\n",
       "0               24.151197  ...      2.596481      3.450762      2.871024   \n",
       "1               29.597894  ...      2.259574      3.709116      3.554335   \n",
       "2               68.614354  ...      2.355169      3.794974      3.713769   \n",
       "3               40.034674  ...      2.346291      3.776568      3.737587   \n",
       "4               24.208803  ...      2.635420      3.502512      2.914080   \n",
       "..                    ...  ...           ...           ...           ...   \n",
       "338             15.529822  ...      1.927294      2.725617      2.575183   \n",
       "339             27.801659  ...      1.933264      3.527817      2.699880   \n",
       "340             22.495719  ...      2.356918      2.896772      2.559157   \n",
       "341             27.744108  ...      1.963601      3.184308      2.736503   \n",
       "342             27.544608  ...      2.365615      2.924013      2.552849   \n",
       "\n",
       "     avg_xx_dists        v_m        v_x     iv_p1  est_hubbard_u  \\\n",
       "0        3.266718 -23.735803   9.622199  54.91000      21.129322   \n",
       "1        3.631725 -22.390084  28.414957  35.18700      11.858755   \n",
       "2        3.754372 -20.210211  27.763527  28.00000       5.839285   \n",
       "3        3.757078 -20.397126  27.833127  31.06000       7.810114   \n",
       "4        3.315708 -23.385103   9.480030  41.00000      12.916563   \n",
       "..            ...        ...        ...       ...            ...   \n",
       "338      2.675472 -45.333235  26.337259  65.28165      14.484546   \n",
       "339      2.881036 -37.430821  24.043918  51.27000      13.895560   \n",
       "340      2.745188 -26.680740  24.867599  37.86795      12.807177   \n",
       "341      2.827539 -36.802534  23.821848  54.92000      15.898371   \n",
       "342      2.744642 -33.639068  24.360992  57.38000      16.597335   \n",
       "\n",
       "     est_charge_trans  volume_per_site  \n",
       "0           19.461062        22.917528  \n",
       "1           35.445979        18.414152  \n",
       "2           34.042180        19.575756  \n",
       "3           33.195560        19.512571  \n",
       "4           10.425355        23.964132  \n",
       "..                ...              ...  \n",
       "338          9.779242         9.863262  \n",
       "339         12.815560        10.252012  \n",
       "340         16.608178         9.756232  \n",
       "341         10.393278        10.686816  \n",
       "342          7.361181         9.750947  \n",
       "\n",
       "[343 rows x 110 columns]"
      ]
     },
     "execution_count": 5,
     "metadata": {},
     "output_type": "execute_result"
    }
   ],
   "source": [
    "df = pd.read_excel(PROCESSED_PATH)\n",
    "df"
   ]
  },
  {
   "cell_type": "code",
   "execution_count": 6,
   "metadata": {},
   "outputs": [],
   "source": [
    "selected_features = [\"Compound\", \"Label\", \"struct_file_path\", # these 3 are included for human reference\n",
    "                     \"gii\", \"est_hubbard_u\",  \"est_charge_trans\", \"ewald_energy_per_atom\",\n",
    "                     \"avg_dev_Electronegativity\", \n",
    "                     \"range_MendeleevNumber\", \"avg_dev_CovalentRadius\",\n",
    "                     \"avg_mm_dists\", \"avg_mx_dists\", \"avg_xx_dists\"]\n",
    "df_reduced = df[selected_features]"
   ]
  },
  {
   "cell_type": "markdown",
   "metadata": {},
   "source": [
    "# Split the train test data"
   ]
  },
  {
   "cell_type": "code",
   "execution_count": 7,
   "metadata": {},
   "outputs": [],
   "source": [
    "df_X = df_reduced\n",
    "df_y = df_reduced[[\"Label\"]]"
   ]
  },
  {
   "cell_type": "code",
   "execution_count": 8,
   "metadata": {},
   "outputs": [],
   "source": [
    "splits = [train_test_split(df_X, df_y, test_size=0.1, random_state=split_seed, stratify=df_y) for split_seed in SPLIT_RANDOM_SEEDS]"
   ]
  },
  {
   "cell_type": "markdown",
   "metadata": {},
   "source": [
    "# Set up models and their respective default hyperparameter search grid"
   ]
  },
  {
   "cell_type": "code",
   "execution_count": 9,
   "metadata": {},
   "outputs": [],
   "source": [
    "lst_of_models = [xgb.XGBClassifier#, DummyClassifier, LogisticRegression, \n",
    "                 #DecisionTreeClassifier, RandomForestClassifier, GradientBoostingClassifier\n",
    "                ]\n",
    "\n",
    "lst_of_param_grids = [\n",
    "    #XGBClassifier\n",
    "    None#,\n",
    "#     {#DummyClassifier\n",
    "#         \"strategy\": [\"uniform\"],\n",
    "#         \"random_state\": [TRAIN_RANDOM_SEED]\n",
    "#     },\n",
    "#     {#LogisticRegression with L2 penalty (Ridge classifier)\n",
    "#         \"penalty\": [\"l2\"],\n",
    "#         \"C\": np.logspace(-3, 3, num=7),\n",
    "#         \"class_weight\": [\"balanced\"],\n",
    "#         \"solver\": [\"newton-cg\"],\n",
    "#         \"random_state\": [TRAIN_RANDOM_SEED]\n",
    "#     }\n",
    "#     ,\n",
    "#     {#DecisionTreeClassifier\n",
    "#         \"criterion\": [\"gini\", \"entropy\"],\n",
    "#         \"max_leaf_nodes\": [5, 10, 15],\n",
    "#         \"class_weight\": [\"balanced\"],\n",
    "#         \"random_state\": [TRAIN_RANDOM_SEED]\n",
    "#     },\n",
    "#     {#RandomForestClassifier\n",
    "#         \"n_estimators\": [100, 150, 200],\n",
    "#         \"max_depth\": [2, 3, 4, 5],\n",
    "#         \"criterion\": [\"gini\", \"entropy\"],\n",
    "#         \"max_leaf_nodes\": [5, 10, 15],\n",
    "#         \"class_weight\": [\"balanced\"],\n",
    "#         # max_samples: None means use all samples\n",
    "#         \"max_samples\": [0.5, 0.6, 0.7, 0.8, 0.9, None],\n",
    "#         \"random_state\": [TRAIN_RANDOM_SEED]\n",
    "#     },\n",
    "#     {#GradientBoostingClassifier\n",
    "#         \"n_estimators\": [10, 20, 30, 40, 80, 100, 150, 200],\n",
    "#         \"max_depth\": [2, 3, 4, 5],\n",
    "#         \"learning_rate\": np.logspace(-3, 2, num=6),\n",
    "#         \"subsample\": [0.5, 0.6, 0.7, 0.8, 0.9, 1.0],\n",
    "#         \"random_state\": [TRAIN_RANDOM_SEED]\n",
    "#     }\n",
    "]"
   ]
  },
  {
   "cell_type": "markdown",
   "metadata": {},
   "source": [
    "# Tune the hyperparameters with 5-fold cv\n",
    "\n",
    "The default parameter grid for XGBClassifier() as follows:\n",
    "\n",
    "    n_estimators: [10, 20, 30, 40, 80, 100, 150, 200],\n",
    "    max_depth: [2, 3, 4, 5],\n",
    "    learning_rate: np.logspace(-3, 2, num=6),\n",
    "    subsample: [0.5, 0.6, 0.7, 0.8, 0.9, 1.0],\n",
    "    scale_pos_weight: [np.sum(y_labels == 0) / np.sum(y_labels == 1)],\n",
    "    base_score: [0.3, 0.5, 0.7]\n",
    "    random_state: [seed]\n",
    "    \n",
    "The scoring metric for the gridsearch cv is `f1_weighted`, which you can change by specifying the `scoring_metric_for_tuning` parameter in the **tune_hyperparam()** function. You can also change the number of cv fold by specifying `num_folds` and the default parameter grid by specifying `param_grid`.\n",
    "\n",
    "**Note**: the `scale_pos_weight` parameter is not used when tuning for multiclass classification problems. The class imbalance is instead handled through the `sample_weight` parameter in the [.fit()](https://xgboost.readthedocs.io/en/latest/python/python_api.html#xgboost.XGBRegressor.fit) method of the XGBoost sklearn API."
   ]
  },
  {
   "cell_type": "code",
   "execution_count": 10,
   "metadata": {},
   "outputs": [
    {
     "name": "stdout",
     "output_type": "stream",
     "text": [
      "\n",
      "------------------------------------------------------\n",
      "Train test split seed: \u001b[42m0\u001b[0m\n",
      "\n",
      "------------------------------------------------------\n",
      "Model type: XGBClassifier\n",
      "\n",
      "Tuning for Metal vs. non-Metal binary classifier\n",
      "Fitting 5 folds for each of 3456 candidates, totalling 17280 fits\n"
     ]
    },
    {
     "name": "stderr",
     "output_type": "stream",
     "text": [
      "[Parallel(n_jobs=-1)]: Using backend LokyBackend with 8 concurrent workers.\n",
      "[Parallel(n_jobs=-1)]: Done  34 tasks      | elapsed:    2.0s\n",
      "[Parallel(n_jobs=-1)]: Done 976 tasks      | elapsed:    7.1s\n",
      "[Parallel(n_jobs=-1)]: Done 2976 tasks      | elapsed:   18.6s\n",
      "[Parallel(n_jobs=-1)]: Done 5776 tasks      | elapsed:   28.5s\n",
      "[Parallel(n_jobs=-1)]: Done 9376 tasks      | elapsed:   49.5s\n",
      "[Parallel(n_jobs=-1)]: Done 13776 tasks      | elapsed:  1.2min\n",
      "[Parallel(n_jobs=-1)]: Done 17280 out of 17280 | elapsed:  1.4min finished\n",
      "[Parallel(n_jobs=-1)]: Using backend LokyBackend with 8 concurrent workers.\n"
     ]
    },
    {
     "name": "stdout",
     "output_type": "stream",
     "text": [
      "\n",
      "Tuning for Insulator vs. non-Insulator binary classifier\n",
      "Fitting 5 folds for each of 3456 candidates, totalling 17280 fits\n"
     ]
    },
    {
     "name": "stderr",
     "output_type": "stream",
     "text": [
      "[Parallel(n_jobs=-1)]: Done  56 tasks      | elapsed:    0.4s\n",
      "[Parallel(n_jobs=-1)]: Done 1200 tasks      | elapsed:    7.1s\n",
      "[Parallel(n_jobs=-1)]: Done 3200 tasks      | elapsed:   18.6s\n",
      "[Parallel(n_jobs=-1)]: Done 6000 tasks      | elapsed:   28.9s\n",
      "[Parallel(n_jobs=-1)]: Done 9600 tasks      | elapsed:   49.2s\n",
      "[Parallel(n_jobs=-1)]: Done 14000 tasks      | elapsed:  1.2min\n",
      "[Parallel(n_jobs=-1)]: Done 17280 out of 17280 | elapsed:  1.4min finished\n",
      "[Parallel(n_jobs=-1)]: Using backend LokyBackend with 8 concurrent workers.\n"
     ]
    },
    {
     "name": "stdout",
     "output_type": "stream",
     "text": [
      "\n",
      "Tuning for MIT vs. non-MIT binary classifier\n",
      "Fitting 5 folds for each of 3456 candidates, totalling 17280 fits\n"
     ]
    },
    {
     "name": "stderr",
     "output_type": "stream",
     "text": [
      "[Parallel(n_jobs=-1)]: Done  56 tasks      | elapsed:    0.5s\n",
      "[Parallel(n_jobs=-1)]: Done 568 tasks      | elapsed:    7.1s\n",
      "[Parallel(n_jobs=-1)]: Done 2536 tasks      | elapsed:   22.4s\n",
      "[Parallel(n_jobs=-1)]: Done 5336 tasks      | elapsed:   34.9s\n",
      "[Parallel(n_jobs=-1)]: Done 8936 tasks      | elapsed:   54.8s\n",
      "[Parallel(n_jobs=-1)]: Done 13336 tasks      | elapsed:  1.3min\n",
      "[Parallel(n_jobs=-1)]: Done 17040 tasks      | elapsed:  1.6min\n",
      "[Parallel(n_jobs=-1)]: Done 17280 out of 17280 | elapsed:  1.6min finished\n",
      "[Parallel(n_jobs=-1)]: Using backend LokyBackend with 8 concurrent workers.\n"
     ]
    },
    {
     "name": "stdout",
     "output_type": "stream",
     "text": [
      "\n",
      "Tuning for Multiclass classifier\n",
      "Fitting 5 folds for each of 3456 candidates, totalling 17280 fits\n"
     ]
    },
    {
     "name": "stderr",
     "output_type": "stream",
     "text": [
      "[Parallel(n_jobs=-1)]: Done  56 tasks      | elapsed:    0.4s\n",
      "[Parallel(n_jobs=-1)]: Done 864 tasks      | elapsed:   11.3s\n",
      "[Parallel(n_jobs=-1)]: Done 1448 tasks      | elapsed:   20.8s\n",
      "[Parallel(n_jobs=-1)]: Done 2736 tasks      | elapsed:   40.7s\n",
      "[Parallel(n_jobs=-1)]: Done 5600 tasks      | elapsed:  1.1min\n",
      "[Parallel(n_jobs=-1)]: Done 8000 tasks      | elapsed:  1.6min\n",
      "[Parallel(n_jobs=-1)]: Done 10368 tasks      | elapsed:  2.0min\n",
      "[Parallel(n_jobs=-1)]: Done 13264 tasks      | elapsed:  2.6min\n",
      "[Parallel(n_jobs=-1)]: Done 15960 tasks      | elapsed:  3.1min\n",
      "[Parallel(n_jobs=-1)]: Done 17280 out of 17280 | elapsed:  3.3min finished\n"
     ]
    },
    {
     "name": "stdout",
     "output_type": "stream",
     "text": [
      "\n",
      "------------------------------------------------------\n",
      "Train test split seed: \u001b[42m1\u001b[0m\n",
      "\n",
      "------------------------------------------------------\n",
      "Model type: XGBClassifier\n",
      "\n",
      "Tuning for Metal vs. non-Metal binary classifier\n",
      "Fitting 5 folds for each of 3456 candidates, totalling 17280 fits\n"
     ]
    },
    {
     "name": "stderr",
     "output_type": "stream",
     "text": [
      "[Parallel(n_jobs=-1)]: Using backend LokyBackend with 8 concurrent workers.\n",
      "[Parallel(n_jobs=-1)]: Done  56 tasks      | elapsed:    0.3s\n",
      "[Parallel(n_jobs=-1)]: Done 1488 tasks      | elapsed:    9.7s\n",
      "[Parallel(n_jobs=-1)]: Done 3376 tasks      | elapsed:   23.5s\n",
      "[Parallel(n_jobs=-1)]: Done 6176 tasks      | elapsed:   35.0s\n",
      "[Parallel(n_jobs=-1)]: Done 9776 tasks      | elapsed:   55.6s\n",
      "[Parallel(n_jobs=-1)]: Done 14176 tasks      | elapsed:  1.3min\n",
      "[Parallel(n_jobs=-1)]: Done 17280 out of 17280 | elapsed:  1.5min finished\n",
      "[Parallel(n_jobs=-1)]: Using backend LokyBackend with 8 concurrent workers.\n"
     ]
    },
    {
     "name": "stdout",
     "output_type": "stream",
     "text": [
      "\n",
      "Tuning for Insulator vs. non-Insulator binary classifier\n",
      "Fitting 5 folds for each of 3456 candidates, totalling 17280 fits\n"
     ]
    },
    {
     "name": "stderr",
     "output_type": "stream",
     "text": [
      "[Parallel(n_jobs=-1)]: Done  56 tasks      | elapsed:    0.3s\n",
      "[Parallel(n_jobs=-1)]: Done 1200 tasks      | elapsed:    7.0s\n",
      "[Parallel(n_jobs=-1)]: Done 3200 tasks      | elapsed:   19.3s\n",
      "[Parallel(n_jobs=-1)]: Done 6000 tasks      | elapsed:   31.7s\n",
      "[Parallel(n_jobs=-1)]: Done 9600 tasks      | elapsed:   54.6s\n",
      "[Parallel(n_jobs=-1)]: Done 14000 tasks      | elapsed:  1.3min\n",
      "[Parallel(n_jobs=-1)]: Done 17280 out of 17280 | elapsed:  1.5min finished\n",
      "[Parallel(n_jobs=-1)]: Using backend LokyBackend with 8 concurrent workers.\n"
     ]
    },
    {
     "name": "stdout",
     "output_type": "stream",
     "text": [
      "\n",
      "Tuning for MIT vs. non-MIT binary classifier\n",
      "Fitting 5 folds for each of 3456 candidates, totalling 17280 fits\n"
     ]
    },
    {
     "name": "stderr",
     "output_type": "stream",
     "text": [
      "[Parallel(n_jobs=-1)]: Done  56 tasks      | elapsed:    0.4s\n",
      "[Parallel(n_jobs=-1)]: Done 2160 tasks      | elapsed:   12.6s\n",
      "[Parallel(n_jobs=-1)]: Done 6160 tasks      | elapsed:   30.5s\n",
      "[Parallel(n_jobs=-1)]: Done 9584 tasks      | elapsed:   50.2s\n",
      "[Parallel(n_jobs=-1)]: Done 13184 tasks      | elapsed:  1.1min\n",
      "[Parallel(n_jobs=-1)]: Done 17280 out of 17280 | elapsed:  1.4min finished\n",
      "[Parallel(n_jobs=-1)]: Using backend LokyBackend with 8 concurrent workers.\n"
     ]
    },
    {
     "name": "stdout",
     "output_type": "stream",
     "text": [
      "\n",
      "Tuning for Multiclass classifier\n",
      "Fitting 5 folds for each of 3456 candidates, totalling 17280 fits\n"
     ]
    },
    {
     "name": "stderr",
     "output_type": "stream",
     "text": [
      "[Parallel(n_jobs=-1)]: Done  56 tasks      | elapsed:    0.4s\n",
      "[Parallel(n_jobs=-1)]: Done 920 tasks      | elapsed:   12.1s\n",
      "[Parallel(n_jobs=-1)]: Done 1850 tasks      | elapsed:   25.4s\n",
      "[Parallel(n_jobs=-1)]: Done 2912 tasks      | elapsed:   40.9s\n",
      "[Parallel(n_jobs=-1)]: Done 4712 tasks      | elapsed:   54.9s\n",
      "[Parallel(n_jobs=-1)]: Done 7584 tasks      | elapsed:  1.4min\n",
      "[Parallel(n_jobs=-1)]: Done 10896 tasks      | elapsed:  1.9min\n",
      "[Parallel(n_jobs=-1)]: Done 14360 tasks      | elapsed:  2.7min\n",
      "[Parallel(n_jobs=-1)]: Done 17280 out of 17280 | elapsed:  3.0min finished\n"
     ]
    },
    {
     "name": "stdout",
     "output_type": "stream",
     "text": [
      "\n",
      "------------------------------------------------------\n",
      "Train test split seed: \u001b[42m2\u001b[0m\n",
      "\n",
      "------------------------------------------------------\n",
      "Model type: XGBClassifier\n",
      "\n",
      "Tuning for Metal vs. non-Metal binary classifier\n",
      "Fitting 5 folds for each of 3456 candidates, totalling 17280 fits\n"
     ]
    },
    {
     "name": "stderr",
     "output_type": "stream",
     "text": [
      "[Parallel(n_jobs=-1)]: Using backend LokyBackend with 8 concurrent workers.\n",
      "[Parallel(n_jobs=-1)]: Done  56 tasks      | elapsed:    0.4s\n",
      "[Parallel(n_jobs=-1)]: Done 1200 tasks      | elapsed:    6.7s\n",
      "[Parallel(n_jobs=-1)]: Done 3200 tasks      | elapsed:   18.6s\n",
      "[Parallel(n_jobs=-1)]: Done 6000 tasks      | elapsed:   29.1s\n",
      "[Parallel(n_jobs=-1)]: Done 9600 tasks      | elapsed:   50.4s\n",
      "[Parallel(n_jobs=-1)]: Done 14000 tasks      | elapsed:  1.2min\n",
      "[Parallel(n_jobs=-1)]: Done 17280 out of 17280 | elapsed:  1.4min finished\n",
      "[Parallel(n_jobs=-1)]: Using backend LokyBackend with 8 concurrent workers.\n"
     ]
    },
    {
     "name": "stdout",
     "output_type": "stream",
     "text": [
      "\n",
      "Tuning for Insulator vs. non-Insulator binary classifier\n",
      "Fitting 5 folds for each of 3456 candidates, totalling 17280 fits\n"
     ]
    },
    {
     "name": "stderr",
     "output_type": "stream",
     "text": [
      "[Parallel(n_jobs=-1)]: Done  56 tasks      | elapsed:    0.4s\n",
      "[Parallel(n_jobs=-1)]: Done 2160 tasks      | elapsed:   12.7s\n",
      "[Parallel(n_jobs=-1)]: Done 6160 tasks      | elapsed:   29.8s\n",
      "[Parallel(n_jobs=-1)]: Done 11760 tasks      | elapsed:   56.6s\n",
      "[Parallel(n_jobs=-1)]: Done 17280 out of 17280 | elapsed:  1.4min finished\n",
      "[Parallel(n_jobs=-1)]: Using backend LokyBackend with 8 concurrent workers.\n"
     ]
    },
    {
     "name": "stdout",
     "output_type": "stream",
     "text": [
      "\n",
      "Tuning for MIT vs. non-MIT binary classifier\n",
      "Fitting 5 folds for each of 3456 candidates, totalling 17280 fits\n"
     ]
    },
    {
     "name": "stderr",
     "output_type": "stream",
     "text": [
      "[Parallel(n_jobs=-1)]: Done  56 tasks      | elapsed:    0.4s\n",
      "[Parallel(n_jobs=-1)]: Done 1200 tasks      | elapsed:    7.2s\n",
      "[Parallel(n_jobs=-1)]: Done 3200 tasks      | elapsed:   18.7s\n",
      "[Parallel(n_jobs=-1)]: Done 6000 tasks      | elapsed:   29.6s\n",
      "[Parallel(n_jobs=-1)]: Done 9600 tasks      | elapsed:   49.8s\n",
      "[Parallel(n_jobs=-1)]: Done 14000 tasks      | elapsed:  1.2min\n",
      "[Parallel(n_jobs=-1)]: Done 17280 out of 17280 | elapsed:  1.4min finished\n",
      "[Parallel(n_jobs=-1)]: Using backend LokyBackend with 8 concurrent workers.\n"
     ]
    },
    {
     "name": "stdout",
     "output_type": "stream",
     "text": [
      "\n",
      "Tuning for Multiclass classifier\n",
      "Fitting 5 folds for each of 3456 candidates, totalling 17280 fits\n"
     ]
    },
    {
     "name": "stderr",
     "output_type": "stream",
     "text": [
      "[Parallel(n_jobs=-1)]: Done  56 tasks      | elapsed:    0.4s\n",
      "[Parallel(n_jobs=-1)]: Done 920 tasks      | elapsed:   12.1s\n",
      "[Parallel(n_jobs=-1)]: Done 1906 tasks      | elapsed:   26.8s\n",
      "[Parallel(n_jobs=-1)]: Done 3392 tasks      | elapsed:   44.7s\n",
      "[Parallel(n_jobs=-1)]: Done 6642 tasks      | elapsed:  1.2min\n",
      "[Parallel(n_jobs=-1)]: Done 8666 tasks      | elapsed:  1.7min\n",
      "[Parallel(n_jobs=-1)]: Done 12816 tasks      | elapsed:  2.3min\n",
      "[Parallel(n_jobs=-1)]: Done 17152 tasks      | elapsed:  2.9min\n",
      "[Parallel(n_jobs=-1)]: Done 17280 out of 17280 | elapsed:  3.0min finished\n"
     ]
    },
    {
     "name": "stdout",
     "output_type": "stream",
     "text": [
      "\n",
      "------------------------------------------------------\n",
      "Train test split seed: \u001b[42m3\u001b[0m\n",
      "\n",
      "------------------------------------------------------\n",
      "Model type: XGBClassifier\n",
      "\n",
      "Tuning for Metal vs. non-Metal binary classifier\n",
      "Fitting 5 folds for each of 3456 candidates, totalling 17280 fits\n"
     ]
    },
    {
     "name": "stderr",
     "output_type": "stream",
     "text": [
      "[Parallel(n_jobs=-1)]: Using backend LokyBackend with 8 concurrent workers.\n",
      "[Parallel(n_jobs=-1)]: Done  56 tasks      | elapsed:    0.4s\n",
      "[Parallel(n_jobs=-1)]: Done 2160 tasks      | elapsed:   12.7s\n",
      "[Parallel(n_jobs=-1)]: Done 6160 tasks      | elapsed:   29.5s\n",
      "[Parallel(n_jobs=-1)]: Done 9056 tasks      | elapsed:   47.3s\n",
      "[Parallel(n_jobs=-1)]: Done 12656 tasks      | elapsed:  1.0min\n",
      "[Parallel(n_jobs=-1)]: Done 17056 tasks      | elapsed:  1.4min\n",
      "[Parallel(n_jobs=-1)]: Done 17280 out of 17280 | elapsed:  1.4min finished\n",
      "[Parallel(n_jobs=-1)]: Using backend LokyBackend with 8 concurrent workers.\n"
     ]
    },
    {
     "name": "stdout",
     "output_type": "stream",
     "text": [
      "\n",
      "Tuning for Insulator vs. non-Insulator binary classifier\n",
      "Fitting 5 folds for each of 3456 candidates, totalling 17280 fits\n"
     ]
    },
    {
     "name": "stderr",
     "output_type": "stream",
     "text": [
      "[Parallel(n_jobs=-1)]: Done  56 tasks      | elapsed:    0.4s\n",
      "[Parallel(n_jobs=-1)]: Done 1200 tasks      | elapsed:    6.9s\n",
      "[Parallel(n_jobs=-1)]: Done 3200 tasks      | elapsed:   18.8s\n",
      "[Parallel(n_jobs=-1)]: Done 6000 tasks      | elapsed:   29.6s\n",
      "[Parallel(n_jobs=-1)]: Done 9600 tasks      | elapsed:   50.5s\n",
      "[Parallel(n_jobs=-1)]: Done 14000 tasks      | elapsed:  1.2min\n",
      "[Parallel(n_jobs=-1)]: Done 17280 out of 17280 | elapsed:  1.4min finished\n",
      "[Parallel(n_jobs=-1)]: Using backend LokyBackend with 8 concurrent workers.\n"
     ]
    },
    {
     "name": "stdout",
     "output_type": "stream",
     "text": [
      "\n",
      "Tuning for MIT vs. non-MIT binary classifier\n",
      "Fitting 5 folds for each of 3456 candidates, totalling 17280 fits\n"
     ]
    },
    {
     "name": "stderr",
     "output_type": "stream",
     "text": [
      "[Parallel(n_jobs=-1)]: Done  56 tasks      | elapsed:    0.4s\n",
      "[Parallel(n_jobs=-1)]: Done 2160 tasks      | elapsed:   12.7s\n",
      "[Parallel(n_jobs=-1)]: Done 6160 tasks      | elapsed:   29.1s\n",
      "[Parallel(n_jobs=-1)]: Done 11760 tasks      | elapsed:   55.2s\n",
      "[Parallel(n_jobs=-1)]: Done 17280 out of 17280 | elapsed:  1.4min finished\n",
      "[Parallel(n_jobs=-1)]: Using backend LokyBackend with 8 concurrent workers.\n"
     ]
    },
    {
     "name": "stdout",
     "output_type": "stream",
     "text": [
      "\n",
      "Tuning for Multiclass classifier\n",
      "Fitting 5 folds for each of 3456 candidates, totalling 17280 fits\n"
     ]
    },
    {
     "name": "stderr",
     "output_type": "stream",
     "text": [
      "[Parallel(n_jobs=-1)]: Done  56 tasks      | elapsed:    0.4s\n",
      "[Parallel(n_jobs=-1)]: Done 920 tasks      | elapsed:   12.0s\n",
      "[Parallel(n_jobs=-1)]: Done 1850 tasks      | elapsed:   24.6s\n",
      "[Parallel(n_jobs=-1)]: Done 3000 tasks      | elapsed:   40.4s\n",
      "[Parallel(n_jobs=-1)]: Done 6600 tasks      | elapsed:  1.2min\n",
      "[Parallel(n_jobs=-1)]: Done 7928 tasks      | elapsed:  1.5min\n",
      "[Parallel(n_jobs=-1)]: Done 11912 tasks      | elapsed:  2.1min\n",
      "[Parallel(n_jobs=-1)]: Done 14864 tasks      | elapsed:  2.8min\n",
      "[Parallel(n_jobs=-1)]: Done 17280 out of 17280 | elapsed:  3.0min finished\n"
     ]
    },
    {
     "name": "stdout",
     "output_type": "stream",
     "text": [
      "\n",
      "------------------------------------------------------\n",
      "Train test split seed: \u001b[42m4\u001b[0m\n",
      "\n",
      "------------------------------------------------------\n",
      "Model type: XGBClassifier\n",
      "\n",
      "Tuning for Metal vs. non-Metal binary classifier\n",
      "Fitting 5 folds for each of 3456 candidates, totalling 17280 fits\n"
     ]
    },
    {
     "name": "stderr",
     "output_type": "stream",
     "text": [
      "[Parallel(n_jobs=-1)]: Using backend LokyBackend with 8 concurrent workers.\n",
      "[Parallel(n_jobs=-1)]: Done  56 tasks      | elapsed:    0.4s\n",
      "[Parallel(n_jobs=-1)]: Done 2160 tasks      | elapsed:   12.7s\n",
      "[Parallel(n_jobs=-1)]: Done 6160 tasks      | elapsed:   29.8s\n",
      "[Parallel(n_jobs=-1)]: Done 8928 tasks      | elapsed:   46.1s\n",
      "[Parallel(n_jobs=-1)]: Done 12528 tasks      | elapsed:  1.0min\n",
      "[Parallel(n_jobs=-1)]: Done 16928 tasks      | elapsed:  1.4min\n",
      "[Parallel(n_jobs=-1)]: Done 17280 out of 17280 | elapsed:  1.4min finished\n",
      "[Parallel(n_jobs=-1)]: Using backend LokyBackend with 8 concurrent workers.\n"
     ]
    },
    {
     "name": "stdout",
     "output_type": "stream",
     "text": [
      "\n",
      "Tuning for Insulator vs. non-Insulator binary classifier\n",
      "Fitting 5 folds for each of 3456 candidates, totalling 17280 fits\n"
     ]
    },
    {
     "name": "stderr",
     "output_type": "stream",
     "text": [
      "[Parallel(n_jobs=-1)]: Done  56 tasks      | elapsed:    0.4s\n",
      "[Parallel(n_jobs=-1)]: Done 2160 tasks      | elapsed:   12.8s\n",
      "[Parallel(n_jobs=-1)]: Done 6160 tasks      | elapsed:   29.8s\n",
      "[Parallel(n_jobs=-1)]: Done 11760 tasks      | elapsed:   56.4s\n",
      "[Parallel(n_jobs=-1)]: Done 17280 out of 17280 | elapsed:  1.4min finished\n",
      "[Parallel(n_jobs=-1)]: Using backend LokyBackend with 8 concurrent workers.\n"
     ]
    },
    {
     "name": "stdout",
     "output_type": "stream",
     "text": [
      "\n",
      "Tuning for MIT vs. non-MIT binary classifier\n",
      "Fitting 5 folds for each of 3456 candidates, totalling 17280 fits\n"
     ]
    },
    {
     "name": "stderr",
     "output_type": "stream",
     "text": [
      "[Parallel(n_jobs=-1)]: Done  56 tasks      | elapsed:    0.4s\n",
      "[Parallel(n_jobs=-1)]: Done 1200 tasks      | elapsed:    7.1s\n",
      "[Parallel(n_jobs=-1)]: Done 3200 tasks      | elapsed:   18.5s\n",
      "[Parallel(n_jobs=-1)]: Done 6000 tasks      | elapsed:   28.9s\n",
      "[Parallel(n_jobs=-1)]: Done 9600 tasks      | elapsed:   49.3s\n",
      "[Parallel(n_jobs=-1)]: Done 14000 tasks      | elapsed:  1.2min\n",
      "[Parallel(n_jobs=-1)]: Done 17280 out of 17280 | elapsed:  1.4min finished\n",
      "[Parallel(n_jobs=-1)]: Using backend LokyBackend with 8 concurrent workers.\n"
     ]
    },
    {
     "name": "stdout",
     "output_type": "stream",
     "text": [
      "\n",
      "Tuning for Multiclass classifier\n",
      "Fitting 5 folds for each of 3456 candidates, totalling 17280 fits\n"
     ]
    },
    {
     "name": "stderr",
     "output_type": "stream",
     "text": [
      "[Parallel(n_jobs=-1)]: Done  56 tasks      | elapsed:    0.4s\n",
      "[Parallel(n_jobs=-1)]: Done 920 tasks      | elapsed:   12.0s\n",
      "[Parallel(n_jobs=-1)]: Done 1850 tasks      | elapsed:   25.2s\n",
      "[Parallel(n_jobs=-1)]: Done 2976 tasks      | elapsed:   41.3s\n",
      "[Parallel(n_jobs=-1)]: Done 6544 tasks      | elapsed:  1.2min\n",
      "[Parallel(n_jobs=-1)]: Done 8608 tasks      | elapsed:  1.7min\n",
      "[Parallel(n_jobs=-1)]: Done 12514 tasks      | elapsed:  2.2min\n",
      "[Parallel(n_jobs=-1)]: Done 16312 tasks      | elapsed:  2.9min\n",
      "[Parallel(n_jobs=-1)]: Done 17280 out of 17280 | elapsed:  3.0min finished\n"
     ]
    },
    {
     "name": "stdout",
     "output_type": "stream",
     "text": [
      "\n",
      "------------------------------------------------------\n",
      "Train test split seed: \u001b[42m5\u001b[0m\n",
      "\n",
      "------------------------------------------------------\n",
      "Model type: XGBClassifier\n",
      "\n",
      "Tuning for Metal vs. non-Metal binary classifier\n",
      "Fitting 5 folds for each of 3456 candidates, totalling 17280 fits\n"
     ]
    },
    {
     "name": "stderr",
     "output_type": "stream",
     "text": [
      "[Parallel(n_jobs=-1)]: Using backend LokyBackend with 8 concurrent workers.\n",
      "[Parallel(n_jobs=-1)]: Done  56 tasks      | elapsed:    0.4s\n",
      "[Parallel(n_jobs=-1)]: Done 2160 tasks      | elapsed:   12.6s\n",
      "[Parallel(n_jobs=-1)]: Done 6160 tasks      | elapsed:   29.6s\n",
      "[Parallel(n_jobs=-1)]: Done 11760 tasks      | elapsed:   56.3s\n",
      "[Parallel(n_jobs=-1)]: Done 16016 tasks      | elapsed:  1.4min\n",
      "[Parallel(n_jobs=-1)]: Done 17280 out of 17280 | elapsed:  1.4min finished\n",
      "[Parallel(n_jobs=-1)]: Using backend LokyBackend with 8 concurrent workers.\n"
     ]
    },
    {
     "name": "stdout",
     "output_type": "stream",
     "text": [
      "\n",
      "Tuning for Insulator vs. non-Insulator binary classifier\n",
      "Fitting 5 folds for each of 3456 candidates, totalling 17280 fits\n"
     ]
    },
    {
     "name": "stderr",
     "output_type": "stream",
     "text": [
      "[Parallel(n_jobs=-1)]: Done  56 tasks      | elapsed:    0.4s\n",
      "[Parallel(n_jobs=-1)]: Done 2160 tasks      | elapsed:   12.9s\n",
      "[Parallel(n_jobs=-1)]: Done 6160 tasks      | elapsed:   30.7s\n",
      "[Parallel(n_jobs=-1)]: Done 11760 tasks      | elapsed:   57.3s\n",
      "[Parallel(n_jobs=-1)]: Done 17280 out of 17280 | elapsed:  1.4min finished\n",
      "[Parallel(n_jobs=-1)]: Using backend LokyBackend with 8 concurrent workers.\n"
     ]
    },
    {
     "name": "stdout",
     "output_type": "stream",
     "text": [
      "\n",
      "Tuning for MIT vs. non-MIT binary classifier\n",
      "Fitting 5 folds for each of 3456 candidates, totalling 17280 fits\n"
     ]
    },
    {
     "name": "stderr",
     "output_type": "stream",
     "text": [
      "[Parallel(n_jobs=-1)]: Done  56 tasks      | elapsed:    0.4s\n",
      "[Parallel(n_jobs=-1)]: Done 2160 tasks      | elapsed:   12.6s\n",
      "[Parallel(n_jobs=-1)]: Done 6160 tasks      | elapsed:   29.2s\n",
      "[Parallel(n_jobs=-1)]: Done 8928 tasks      | elapsed:   45.4s\n",
      "[Parallel(n_jobs=-1)]: Done 12528 tasks      | elapsed:  1.0min\n",
      "[Parallel(n_jobs=-1)]: Done 16928 tasks      | elapsed:  1.3min\n",
      "[Parallel(n_jobs=-1)]: Done 17280 out of 17280 | elapsed:  1.4min finished\n",
      "[Parallel(n_jobs=-1)]: Using backend LokyBackend with 8 concurrent workers.\n"
     ]
    },
    {
     "name": "stdout",
     "output_type": "stream",
     "text": [
      "\n",
      "Tuning for Multiclass classifier\n",
      "Fitting 5 folds for each of 3456 candidates, totalling 17280 fits\n"
     ]
    },
    {
     "name": "stderr",
     "output_type": "stream",
     "text": [
      "[Parallel(n_jobs=-1)]: Done  56 tasks      | elapsed:    0.4s\n",
      "[Parallel(n_jobs=-1)]: Done 812 tasks      | elapsed:    9.8s\n",
      "[Parallel(n_jobs=-1)]: Done 1360 tasks      | elapsed:   17.8s\n",
      "[Parallel(n_jobs=-1)]: Done 2760 tasks      | elapsed:   37.6s\n",
      "[Parallel(n_jobs=-1)]: Done 4560 tasks      | elapsed:   53.6s\n",
      "[Parallel(n_jobs=-1)]: Done 7272 tasks      | elapsed:  1.3min\n",
      "[Parallel(n_jobs=-1)]: Done 9872 tasks      | elapsed:  1.8min\n",
      "[Parallel(n_jobs=-1)]: Done 13400 tasks      | elapsed:  2.4min\n",
      "[Parallel(n_jobs=-1)]: Done 17280 out of 17280 | elapsed:  3.0min finished\n"
     ]
    },
    {
     "name": "stdout",
     "output_type": "stream",
     "text": [
      "\n",
      "------------------------------------------------------\n",
      "Train test split seed: \u001b[42m6\u001b[0m\n",
      "\n",
      "------------------------------------------------------\n",
      "Model type: XGBClassifier\n",
      "\n",
      "Tuning for Metal vs. non-Metal binary classifier\n",
      "Fitting 5 folds for each of 3456 candidates, totalling 17280 fits\n"
     ]
    },
    {
     "name": "stderr",
     "output_type": "stream",
     "text": [
      "[Parallel(n_jobs=-1)]: Using backend LokyBackend with 8 concurrent workers.\n",
      "[Parallel(n_jobs=-1)]: Done  56 tasks      | elapsed:    0.4s\n",
      "[Parallel(n_jobs=-1)]: Done 2160 tasks      | elapsed:   12.7s\n",
      "[Parallel(n_jobs=-1)]: Done 6160 tasks      | elapsed:   29.9s\n",
      "[Parallel(n_jobs=-1)]: Done 11760 tasks      | elapsed:   56.6s\n",
      "[Parallel(n_jobs=-1)]: Done 17280 out of 17280 | elapsed:  1.4min finished\n",
      "[Parallel(n_jobs=-1)]: Using backend LokyBackend with 8 concurrent workers.\n"
     ]
    },
    {
     "name": "stdout",
     "output_type": "stream",
     "text": [
      "\n",
      "Tuning for Insulator vs. non-Insulator binary classifier\n",
      "Fitting 5 folds for each of 3456 candidates, totalling 17280 fits\n"
     ]
    },
    {
     "name": "stderr",
     "output_type": "stream",
     "text": [
      "[Parallel(n_jobs=-1)]: Done  56 tasks      | elapsed:    0.4s\n",
      "[Parallel(n_jobs=-1)]: Done 2160 tasks      | elapsed:   12.9s\n",
      "[Parallel(n_jobs=-1)]: Done 6160 tasks      | elapsed:   29.8s\n",
      "[Parallel(n_jobs=-1)]: Done 11760 tasks      | elapsed:   56.5s\n",
      "[Parallel(n_jobs=-1)]: Done 17280 out of 17280 | elapsed:  1.4min finished\n",
      "[Parallel(n_jobs=-1)]: Using backend LokyBackend with 8 concurrent workers.\n"
     ]
    },
    {
     "name": "stdout",
     "output_type": "stream",
     "text": [
      "\n",
      "Tuning for MIT vs. non-MIT binary classifier\n",
      "Fitting 5 folds for each of 3456 candidates, totalling 17280 fits\n"
     ]
    },
    {
     "name": "stderr",
     "output_type": "stream",
     "text": [
      "[Parallel(n_jobs=-1)]: Done  56 tasks      | elapsed:    0.4s\n",
      "[Parallel(n_jobs=-1)]: Done 2160 tasks      | elapsed:   12.7s\n",
      "[Parallel(n_jobs=-1)]: Done 6160 tasks      | elapsed:   29.2s\n",
      "[Parallel(n_jobs=-1)]: Done 11760 tasks      | elapsed:   55.6s\n",
      "[Parallel(n_jobs=-1)]: Done 16064 tasks      | elapsed:  1.3min\n",
      "[Parallel(n_jobs=-1)]: Done 17280 out of 17280 | elapsed:  1.4min finished\n",
      "[Parallel(n_jobs=-1)]: Using backend LokyBackend with 8 concurrent workers.\n"
     ]
    },
    {
     "name": "stdout",
     "output_type": "stream",
     "text": [
      "\n",
      "Tuning for Multiclass classifier\n",
      "Fitting 5 folds for each of 3456 candidates, totalling 17280 fits\n"
     ]
    },
    {
     "name": "stderr",
     "output_type": "stream",
     "text": [
      "[Parallel(n_jobs=-1)]: Done  56 tasks      | elapsed:    0.4s\n",
      "[Parallel(n_jobs=-1)]: Done 920 tasks      | elapsed:   12.2s\n",
      "[Parallel(n_jobs=-1)]: Done 1760 tasks      | elapsed:   24.0s\n",
      "[Parallel(n_jobs=-1)]: Done 3160 tasks      | elapsed:   42.9s\n",
      "[Parallel(n_jobs=-1)]: Done 4968 tasks      | elapsed:   56.1s\n",
      "[Parallel(n_jobs=-1)]: Done 7640 tasks      | elapsed:  1.4min\n",
      "[Parallel(n_jobs=-1)]: Done 10248 tasks      | elapsed:  1.9min\n",
      "[Parallel(n_jobs=-1)]: Done 14072 tasks      | elapsed:  2.6min\n",
      "[Parallel(n_jobs=-1)]: Done 17280 out of 17280 | elapsed:  3.0min finished\n"
     ]
    },
    {
     "name": "stdout",
     "output_type": "stream",
     "text": [
      "\n",
      "------------------------------------------------------\n",
      "Train test split seed: \u001b[42m7\u001b[0m\n",
      "\n",
      "------------------------------------------------------\n",
      "Model type: XGBClassifier\n",
      "\n",
      "Tuning for Metal vs. non-Metal binary classifier\n",
      "Fitting 5 folds for each of 3456 candidates, totalling 17280 fits\n"
     ]
    },
    {
     "name": "stderr",
     "output_type": "stream",
     "text": [
      "[Parallel(n_jobs=-1)]: Using backend LokyBackend with 8 concurrent workers.\n",
      "[Parallel(n_jobs=-1)]: Done  56 tasks      | elapsed:    0.4s\n",
      "[Parallel(n_jobs=-1)]: Done 2160 tasks      | elapsed:   12.8s\n",
      "[Parallel(n_jobs=-1)]: Done 6160 tasks      | elapsed:   30.0s\n",
      "[Parallel(n_jobs=-1)]: Done 11760 tasks      | elapsed:   56.6s\n",
      "[Parallel(n_jobs=-1)]: Done 17280 out of 17280 | elapsed:  1.4min finished\n",
      "[Parallel(n_jobs=-1)]: Using backend LokyBackend with 8 concurrent workers.\n"
     ]
    },
    {
     "name": "stdout",
     "output_type": "stream",
     "text": [
      "\n",
      "Tuning for Insulator vs. non-Insulator binary classifier\n",
      "Fitting 5 folds for each of 3456 candidates, totalling 17280 fits\n"
     ]
    },
    {
     "name": "stderr",
     "output_type": "stream",
     "text": [
      "[Parallel(n_jobs=-1)]: Done  56 tasks      | elapsed:    0.4s\n",
      "[Parallel(n_jobs=-1)]: Done 2160 tasks      | elapsed:   12.7s\n",
      "[Parallel(n_jobs=-1)]: Done 6160 tasks      | elapsed:   30.7s\n",
      "[Parallel(n_jobs=-1)]: Done 8608 tasks      | elapsed:   48.7s\n",
      "[Parallel(n_jobs=-1)]: Done 11536 tasks      | elapsed:  1.0min\n",
      "[Parallel(n_jobs=-1)]: Done 15936 tasks      | elapsed:  1.5min\n",
      "[Parallel(n_jobs=-1)]: Done 17280 out of 17280 | elapsed:  1.5min finished\n",
      "[Parallel(n_jobs=-1)]: Using backend LokyBackend with 8 concurrent workers.\n"
     ]
    },
    {
     "name": "stdout",
     "output_type": "stream",
     "text": [
      "\n",
      "Tuning for MIT vs. non-MIT binary classifier\n",
      "Fitting 5 folds for each of 3456 candidates, totalling 17280 fits\n"
     ]
    },
    {
     "name": "stderr",
     "output_type": "stream",
     "text": [
      "[Parallel(n_jobs=-1)]: Done  56 tasks      | elapsed:    0.4s\n",
      "[Parallel(n_jobs=-1)]: Done 1200 tasks      | elapsed:    7.3s\n",
      "[Parallel(n_jobs=-1)]: Done 3200 tasks      | elapsed:   21.1s\n",
      "[Parallel(n_jobs=-1)]: Done 6000 tasks      | elapsed:   31.9s\n",
      "[Parallel(n_jobs=-1)]: Done 9600 tasks      | elapsed:   55.2s\n",
      "[Parallel(n_jobs=-1)]: Done 14000 tasks      | elapsed:  1.3min\n",
      "[Parallel(n_jobs=-1)]: Done 17280 out of 17280 | elapsed:  1.5min finished\n",
      "[Parallel(n_jobs=-1)]: Using backend LokyBackend with 8 concurrent workers.\n"
     ]
    },
    {
     "name": "stdout",
     "output_type": "stream",
     "text": [
      "\n",
      "Tuning for Multiclass classifier\n",
      "Fitting 5 folds for each of 3456 candidates, totalling 17280 fits\n"
     ]
    },
    {
     "name": "stderr",
     "output_type": "stream",
     "text": [
      "[Parallel(n_jobs=-1)]: Done  56 tasks      | elapsed:    0.4s\n",
      "[Parallel(n_jobs=-1)]: Done 696 tasks      | elapsed:    8.9s\n",
      "[Parallel(n_jobs=-1)]: Done 1448 tasks      | elapsed:   21.2s\n",
      "[Parallel(n_jobs=-1)]: Done 2848 tasks      | elapsed:   45.6s\n",
      "[Parallel(n_jobs=-1)]: Done 3896 tasks      | elapsed:  1.0min\n",
      "[Parallel(n_jobs=-1)]: Done 6096 tasks      | elapsed:  1.3min\n",
      "[Parallel(n_jobs=-1)]: Done 7807 tasks      | elapsed:  1.9min\n",
      "[Parallel(n_jobs=-1)]: Done 9832 tasks      | elapsed:  2.4min\n",
      "[Parallel(n_jobs=-1)]: Done 12698 tasks      | elapsed:  2.9min\n",
      "[Parallel(n_jobs=-1)]: Done 14600 tasks      | elapsed:  3.5min\n",
      "[Parallel(n_jobs=-1)]: Done 17280 out of 17280 | elapsed:  3.9min finished\n"
     ]
    },
    {
     "name": "stdout",
     "output_type": "stream",
     "text": [
      "\n",
      "------------------------------------------------------\n",
      "Train test split seed: \u001b[42m8\u001b[0m\n",
      "\n",
      "------------------------------------------------------\n",
      "Model type: XGBClassifier\n",
      "\n",
      "Tuning for Metal vs. non-Metal binary classifier\n",
      "Fitting 5 folds for each of 3456 candidates, totalling 17280 fits\n"
     ]
    },
    {
     "name": "stderr",
     "output_type": "stream",
     "text": [
      "[Parallel(n_jobs=-1)]: Using backend LokyBackend with 8 concurrent workers.\n",
      "[Parallel(n_jobs=-1)]: Done  56 tasks      | elapsed:    0.4s\n",
      "[Parallel(n_jobs=-1)]: Done 1200 tasks      | elapsed:    7.6s\n",
      "[Parallel(n_jobs=-1)]: Done 3200 tasks      | elapsed:   20.7s\n",
      "[Parallel(n_jobs=-1)]: Done 6000 tasks      | elapsed:   37.9s\n",
      "[Parallel(n_jobs=-1)]: Done 8712 tasks      | elapsed:  1.1min\n",
      "[Parallel(n_jobs=-1)]: Done 12416 tasks      | elapsed:  1.5min\n",
      "[Parallel(n_jobs=-1)]: Done 16896 tasks      | elapsed:  2.1min\n",
      "[Parallel(n_jobs=-1)]: Done 17280 out of 17280 | elapsed:  2.1min finished\n",
      "[Parallel(n_jobs=-1)]: Using backend LokyBackend with 8 concurrent workers.\n"
     ]
    },
    {
     "name": "stdout",
     "output_type": "stream",
     "text": [
      "\n",
      "Tuning for Insulator vs. non-Insulator binary classifier\n",
      "Fitting 5 folds for each of 3456 candidates, totalling 17280 fits\n"
     ]
    },
    {
     "name": "stderr",
     "output_type": "stream",
     "text": [
      "[Parallel(n_jobs=-1)]: Done  56 tasks      | elapsed:    0.6s\n",
      "[Parallel(n_jobs=-1)]: Done 1200 tasks      | elapsed:   11.6s\n",
      "[Parallel(n_jobs=-1)]: Done 3200 tasks      | elapsed:   28.5s\n",
      "[Parallel(n_jobs=-1)]: Done 6000 tasks      | elapsed:   44.6s\n",
      "[Parallel(n_jobs=-1)]: Done 8916 tasks      | elapsed:  1.2min\n",
      "[Parallel(n_jobs=-1)]: Done 12496 tasks      | elapsed:  1.7min\n",
      "[Parallel(n_jobs=-1)]: Done 17242 tasks      | elapsed:  2.4min\n",
      "[Parallel(n_jobs=-1)]: Done 17280 out of 17280 | elapsed:  2.4min finished\n"
     ]
    },
    {
     "name": "stdout",
     "output_type": "stream",
     "text": [
      "\n",
      "Tuning for MIT vs. non-MIT binary classifier\n",
      "Fitting 5 folds for each of 3456 candidates, totalling 17280 fits\n"
     ]
    },
    {
     "name": "stderr",
     "output_type": "stream",
     "text": [
      "[Parallel(n_jobs=-1)]: Using backend LokyBackend with 8 concurrent workers.\n",
      "[Parallel(n_jobs=-1)]: Done  56 tasks      | elapsed:    0.5s\n",
      "[Parallel(n_jobs=-1)]: Done 656 tasks      | elapsed:    6.3s\n",
      "[Parallel(n_jobs=-1)]: Done 1656 tasks      | elapsed:   18.7s\n",
      "[Parallel(n_jobs=-1)]: Done 3056 tasks      | elapsed:   33.1s\n",
      "[Parallel(n_jobs=-1)]: Done 4856 tasks      | elapsed:   45.4s\n",
      "[Parallel(n_jobs=-1)]: Done 7056 tasks      | elapsed:  1.1min\n",
      "[Parallel(n_jobs=-1)]: Done 9656 tasks      | elapsed:  1.5min\n",
      "[Parallel(n_jobs=-1)]: Done 15344 tasks      | elapsed:  2.1min\n",
      "[Parallel(n_jobs=-1)]: Done 17280 out of 17280 | elapsed:  2.3min finished\n",
      "[Parallel(n_jobs=-1)]: Using backend LokyBackend with 8 concurrent workers.\n"
     ]
    },
    {
     "name": "stdout",
     "output_type": "stream",
     "text": [
      "\n",
      "Tuning for Multiclass classifier\n",
      "Fitting 5 folds for each of 3456 candidates, totalling 17280 fits\n"
     ]
    },
    {
     "name": "stderr",
     "output_type": "stream",
     "text": [
      "[Parallel(n_jobs=-1)]: Done  56 tasks      | elapsed:    0.4s\n",
      "[Parallel(n_jobs=-1)]: Done 696 tasks      | elapsed:   10.2s\n",
      "[Parallel(n_jobs=-1)]: Done 1496 tasks      | elapsed:   22.4s\n",
      "[Parallel(n_jobs=-1)]: Done 2208 tasks      | elapsed:   37.0s\n",
      "[Parallel(n_jobs=-1)]: Done 3520 tasks      | elapsed:   59.2s\n",
      "[Parallel(n_jobs=-1)]: Done 5720 tasks      | elapsed:  1.3min\n",
      "[Parallel(n_jobs=-1)]: Done 8320 tasks      | elapsed:  1.9min\n",
      "[Parallel(n_jobs=-1)]: Done 11320 tasks      | elapsed:  2.3min\n",
      "[Parallel(n_jobs=-1)]: Done 13828 tasks      | elapsed:  3.0min\n",
      "[Parallel(n_jobs=-1)]: Done 16720 tasks      | elapsed:  3.6min\n",
      "[Parallel(n_jobs=-1)]: Done 17265 out of 17280 | elapsed:  3.6min remaining:    0.2s\n",
      "[Parallel(n_jobs=-1)]: Done 17280 out of 17280 | elapsed:  3.6min finished\n"
     ]
    },
    {
     "name": "stdout",
     "output_type": "stream",
     "text": [
      "\n",
      "------------------------------------------------------\n",
      "Train test split seed: \u001b[42m9\u001b[0m\n",
      "\n",
      "------------------------------------------------------\n",
      "Model type: XGBClassifier\n",
      "\n",
      "Tuning for Metal vs. non-Metal binary classifier\n",
      "Fitting 5 folds for each of 3456 candidates, totalling 17280 fits\n"
     ]
    },
    {
     "name": "stderr",
     "output_type": "stream",
     "text": [
      "[Parallel(n_jobs=-1)]: Using backend LokyBackend with 8 concurrent workers.\n",
      "[Parallel(n_jobs=-1)]: Done  56 tasks      | elapsed:    0.6s\n",
      "[Parallel(n_jobs=-1)]: Done 1200 tasks      | elapsed:    9.5s\n",
      "[Parallel(n_jobs=-1)]: Done 2368 tasks      | elapsed:   21.7s\n",
      "[Parallel(n_jobs=-1)]: Done 5168 tasks      | elapsed:   39.5s\n",
      "[Parallel(n_jobs=-1)]: Done 8768 tasks      | elapsed:  1.1min\n",
      "[Parallel(n_jobs=-1)]: Done 13168 tasks      | elapsed:  1.6min\n",
      "[Parallel(n_jobs=-1)]: Done 17280 out of 17280 | elapsed:  2.0min finished\n",
      "[Parallel(n_jobs=-1)]: Using backend LokyBackend with 8 concurrent workers.\n"
     ]
    },
    {
     "name": "stdout",
     "output_type": "stream",
     "text": [
      "\n",
      "Tuning for Insulator vs. non-Insulator binary classifier\n",
      "Fitting 5 folds for each of 3456 candidates, totalling 17280 fits\n"
     ]
    },
    {
     "name": "stderr",
     "output_type": "stream",
     "text": [
      "[Parallel(n_jobs=-1)]: Done  56 tasks      | elapsed:    0.5s\n",
      "[Parallel(n_jobs=-1)]: Done 1200 tasks      | elapsed:    9.8s\n",
      "[Parallel(n_jobs=-1)]: Done 3200 tasks      | elapsed:   25.3s\n",
      "[Parallel(n_jobs=-1)]: Done 6000 tasks      | elapsed:   40.9s\n",
      "[Parallel(n_jobs=-1)]: Done 9600 tasks      | elapsed:  1.2min\n",
      "[Parallel(n_jobs=-1)]: Done 14000 tasks      | elapsed:  1.6min\n",
      "[Parallel(n_jobs=-1)]: Done 17280 out of 17280 | elapsed:  1.8min finished\n",
      "[Parallel(n_jobs=-1)]: Using backend LokyBackend with 8 concurrent workers.\n"
     ]
    },
    {
     "name": "stdout",
     "output_type": "stream",
     "text": [
      "\n",
      "Tuning for MIT vs. non-MIT binary classifier\n",
      "Fitting 5 folds for each of 3456 candidates, totalling 17280 fits\n"
     ]
    },
    {
     "name": "stderr",
     "output_type": "stream",
     "text": [
      "[Parallel(n_jobs=-1)]: Done  56 tasks      | elapsed:    0.4s\n",
      "[Parallel(n_jobs=-1)]: Done 1200 tasks      | elapsed:    7.3s\n",
      "[Parallel(n_jobs=-1)]: Done 3200 tasks      | elapsed:   18.7s\n",
      "[Parallel(n_jobs=-1)]: Done 6000 tasks      | elapsed:   29.3s\n",
      "[Parallel(n_jobs=-1)]: Done 9600 tasks      | elapsed:   50.8s\n",
      "[Parallel(n_jobs=-1)]: Done 14000 tasks      | elapsed:  1.2min\n",
      "[Parallel(n_jobs=-1)]: Done 17280 out of 17280 | elapsed:  1.4min finished\n",
      "[Parallel(n_jobs=-1)]: Using backend LokyBackend with 8 concurrent workers.\n"
     ]
    },
    {
     "name": "stdout",
     "output_type": "stream",
     "text": [
      "\n",
      "Tuning for Multiclass classifier\n",
      "Fitting 5 folds for each of 3456 candidates, totalling 17280 fits\n"
     ]
    },
    {
     "name": "stderr",
     "output_type": "stream",
     "text": [
      "[Parallel(n_jobs=-1)]: Done  56 tasks      | elapsed:    0.4s\n",
      "[Parallel(n_jobs=-1)]: Done 920 tasks      | elapsed:   12.3s\n",
      "[Parallel(n_jobs=-1)]: Done 1850 tasks      | elapsed:   25.4s\n",
      "[Parallel(n_jobs=-1)]: Done 3000 tasks      | elapsed:   41.6s\n",
      "[Parallel(n_jobs=-1)]: Done 6467 tasks      | elapsed:  1.2min\n",
      "[Parallel(n_jobs=-1)]: Done 8528 tasks      | elapsed:  1.7min\n",
      "[Parallel(n_jobs=-1)]: Done 12224 tasks      | elapsed:  2.2min\n",
      "[Parallel(n_jobs=-1)]: Done 14424 tasks      | elapsed:  2.8min\n",
      "[Parallel(n_jobs=-1)]: Done 17280 out of 17280 | elapsed:  3.1min finished\n"
     ]
    }
   ],
   "source": [
    "best_params = OrderedDict()\n",
    "for i, eval_seed in enumerate(EVAL_RANDOM_SEEDS):\n",
    "    best_params[str(eval_seed)] = OrderedDict()\n",
    "    df_train = splits[i][0]\n",
    "    print(\"\\n------------------------------------------------------\\nTrain test split seed: \\033[42m{}\\033[0m\".format(eval_seed))\n",
    "    for model, params in zip(lst_of_models, lst_of_param_grids):\n",
    "        model_type = model.__name__\n",
    "        print(\"\\n------------------------------------------------------\\nModel type: {}\".format(model_type))\n",
    "        best_params[str(eval_seed)][model_type] = {choice: tune_hyperparam(df_train, choice, TRAIN_RANDOM_SEED, model=model, param_grid=params) \n",
    "                                                   for choice in [\"Metal\", \"Insulator\", \"MIT\", \"Multiclass\"]}\n",
    "        # pause the execution for 1 second to ensure proper printout format\n",
    "        time.sleep(1)"
   ]
  },
  {
   "cell_type": "code",
   "execution_count": 11,
   "metadata": {},
   "outputs": [
    {
     "name": "stdout",
     "output_type": "stream",
     "text": [
      "OrderedDict([('0',\n",
      "              OrderedDict([('XGBClassifier',\n",
      "                            {'Insulator': {'base_score': 0.3,\n",
      "                                           'learning_rate': 0.1,\n",
      "                                           'max_depth': 5,\n",
      "                                           'n_estimators': 20,\n",
      "                                           'random_state': 31415926,\n",
      "                                           'scale_pos_weight': 0.9130434782608695,\n",
      "                                           'subsample': 0.8},\n",
      "                             'MIT': {'base_score': 0.3,\n",
      "                                     'learning_rate': 0.1,\n",
      "                                     'max_depth': 3,\n",
      "                                     'n_estimators': 20,\n",
      "                                     'random_state': 31415926,\n",
      "                                     'scale_pos_weight': 4.049180327868853,\n",
      "                                     'subsample': 0.5},\n",
      "                             'Metal': {'base_score': 0.7,\n",
      "                                       'learning_rate': 0.1,\n",
      "                                       'max_depth': 5,\n",
      "                                       'n_estimators': 40,\n",
      "                                       'random_state': 31415926,\n",
      "                                       'scale_pos_weight': 2.5813953488372094,\n",
      "                                       'subsample': 1.0},\n",
      "                             'Multiclass': {'base_score': 0.3,\n",
      "                                            'learning_rate': 0.01,\n",
      "                                            'max_depth': 5,\n",
      "                                            'n_estimators': 20,\n",
      "                                            'random_state': 31415926,\n",
      "                                            'subsample': 0.5}})])),\n",
      "             ('1',\n",
      "              OrderedDict([('XGBClassifier',\n",
      "                            {'Insulator': {'base_score': 0.3,\n",
      "                                           'learning_rate': 0.1,\n",
      "                                           'max_depth': 5,\n",
      "                                           'n_estimators': 30,\n",
      "                                           'random_state': 31415926,\n",
      "                                           'scale_pos_weight': 0.9130434782608695,\n",
      "                                           'subsample': 0.6},\n",
      "                             'MIT': {'base_score': 0.3,\n",
      "                                     'learning_rate': 0.01,\n",
      "                                     'max_depth': 5,\n",
      "                                     'n_estimators': 80,\n",
      "                                     'random_state': 31415926,\n",
      "                                     'scale_pos_weight': 4.049180327868853,\n",
      "                                     'subsample': 0.6},\n",
      "                             'Metal': {'base_score': 0.7,\n",
      "                                       'learning_rate': 0.1,\n",
      "                                       'max_depth': 5,\n",
      "                                       'n_estimators': 150,\n",
      "                                       'random_state': 31415926,\n",
      "                                       'scale_pos_weight': 2.5813953488372094,\n",
      "                                       'subsample': 0.7},\n",
      "                             'Multiclass': {'base_score': 0.3,\n",
      "                                            'learning_rate': 0.01,\n",
      "                                            'max_depth': 5,\n",
      "                                            'n_estimators': 80,\n",
      "                                            'random_state': 31415926,\n",
      "                                            'subsample': 1.0}})])),\n",
      "             ('2',\n",
      "              OrderedDict([('XGBClassifier',\n",
      "                            {'Insulator': {'base_score': 0.5,\n",
      "                                           'learning_rate': 0.1,\n",
      "                                           'max_depth': 2,\n",
      "                                           'n_estimators': 40,\n",
      "                                           'random_state': 31415926,\n",
      "                                           'scale_pos_weight': 0.9130434782608695,\n",
      "                                           'subsample': 0.5},\n",
      "                             'MIT': {'base_score': 0.3,\n",
      "                                     'learning_rate': 0.1,\n",
      "                                     'max_depth': 5,\n",
      "                                     'n_estimators': 10,\n",
      "                                     'random_state': 31415926,\n",
      "                                     'scale_pos_weight': 4.049180327868853,\n",
      "                                     'subsample': 0.9},\n",
      "                             'Metal': {'base_score': 0.3,\n",
      "                                       'learning_rate': 0.1,\n",
      "                                       'max_depth': 2,\n",
      "                                       'n_estimators': 40,\n",
      "                                       'random_state': 31415926,\n",
      "                                       'scale_pos_weight': 2.5813953488372094,\n",
      "                                       'subsample': 1.0},\n",
      "                             'Multiclass': {'base_score': 0.3,\n",
      "                                            'learning_rate': 0.1,\n",
      "                                            'max_depth': 5,\n",
      "                                            'n_estimators': 10,\n",
      "                                            'random_state': 31415926,\n",
      "                                            'subsample': 0.5}})])),\n",
      "             ('3',\n",
      "              OrderedDict([('XGBClassifier',\n",
      "                            {'Insulator': {'base_score': 0.7,\n",
      "                                           'learning_rate': 0.1,\n",
      "                                           'max_depth': 3,\n",
      "                                           'n_estimators': 80,\n",
      "                                           'random_state': 31415926,\n",
      "                                           'scale_pos_weight': 0.9130434782608695,\n",
      "                                           'subsample': 0.5},\n",
      "                             'MIT': {'base_score': 0.3,\n",
      "                                     'learning_rate': 0.01,\n",
      "                                     'max_depth': 5,\n",
      "                                     'n_estimators': 150,\n",
      "                                     'random_state': 31415926,\n",
      "                                     'scale_pos_weight': 4.049180327868853,\n",
      "                                     'subsample': 0.5},\n",
      "                             'Metal': {'base_score': 0.3,\n",
      "                                       'learning_rate': 0.01,\n",
      "                                       'max_depth': 4,\n",
      "                                       'n_estimators': 200,\n",
      "                                       'random_state': 31415926,\n",
      "                                       'scale_pos_weight': 2.5813953488372094,\n",
      "                                       'subsample': 1.0},\n",
      "                             'Multiclass': {'base_score': 0.3,\n",
      "                                            'learning_rate': 0.1,\n",
      "                                            'max_depth': 2,\n",
      "                                            'n_estimators': 80,\n",
      "                                            'random_state': 31415926,\n",
      "                                            'subsample': 0.7}})])),\n",
      "             ('4',\n",
      "              OrderedDict([('XGBClassifier',\n",
      "                            {'Insulator': {'base_score': 0.5,\n",
      "                                           'learning_rate': 0.1,\n",
      "                                           'max_depth': 5,\n",
      "                                           'n_estimators': 20,\n",
      "                                           'random_state': 31415926,\n",
      "                                           'scale_pos_weight': 0.9130434782608695,\n",
      "                                           'subsample': 1.0},\n",
      "                             'MIT': {'base_score': 0.3,\n",
      "                                     'learning_rate': 0.01,\n",
      "                                     'max_depth': 5,\n",
      "                                     'n_estimators': 100,\n",
      "                                     'random_state': 31415926,\n",
      "                                     'scale_pos_weight': 4.049180327868853,\n",
      "                                     'subsample': 0.5},\n",
      "                             'Metal': {'base_score': 0.5,\n",
      "                                       'learning_rate': 0.1,\n",
      "                                       'max_depth': 3,\n",
      "                                       'n_estimators': 20,\n",
      "                                       'random_state': 31415926,\n",
      "                                       'scale_pos_weight': 2.5813953488372094,\n",
      "                                       'subsample': 0.7},\n",
      "                             'Multiclass': {'base_score': 0.3,\n",
      "                                            'learning_rate': 0.1,\n",
      "                                            'max_depth': 5,\n",
      "                                            'n_estimators': 30,\n",
      "                                            'random_state': 31415926,\n",
      "                                            'subsample': 0.5}})])),\n",
      "             ('5',\n",
      "              OrderedDict([('XGBClassifier',\n",
      "                            {'Insulator': {'base_score': 0.3,\n",
      "                                           'learning_rate': 1.0,\n",
      "                                           'max_depth': 4,\n",
      "                                           'n_estimators': 80,\n",
      "                                           'random_state': 31415926,\n",
      "                                           'scale_pos_weight': 0.9130434782608695,\n",
      "                                           'subsample': 0.9},\n",
      "                             'MIT': {'base_score': 0.7,\n",
      "                                     'learning_rate': 1.0,\n",
      "                                     'max_depth': 4,\n",
      "                                     'n_estimators': 30,\n",
      "                                     'random_state': 31415926,\n",
      "                                     'scale_pos_weight': 4.049180327868853,\n",
      "                                     'subsample': 0.7},\n",
      "                             'Metal': {'base_score': 0.7,\n",
      "                                       'learning_rate': 0.1,\n",
      "                                       'max_depth': 2,\n",
      "                                       'n_estimators': 20,\n",
      "                                       'random_state': 31415926,\n",
      "                                       'scale_pos_weight': 2.5813953488372094,\n",
      "                                       'subsample': 0.9},\n",
      "                             'Multiclass': {'base_score': 0.3,\n",
      "                                            'learning_rate': 1.0,\n",
      "                                            'max_depth': 4,\n",
      "                                            'n_estimators': 40,\n",
      "                                            'random_state': 31415926,\n",
      "                                            'subsample': 0.9}})])),\n",
      "             ('6',\n",
      "              OrderedDict([('XGBClassifier',\n",
      "                            {'Insulator': {'base_score': 0.3,\n",
      "                                           'learning_rate': 1.0,\n",
      "                                           'max_depth': 5,\n",
      "                                           'n_estimators': 200,\n",
      "                                           'random_state': 31415926,\n",
      "                                           'scale_pos_weight': 0.9130434782608695,\n",
      "                                           'subsample': 0.6},\n",
      "                             'MIT': {'base_score': 0.5,\n",
      "                                     'learning_rate': 0.1,\n",
      "                                     'max_depth': 4,\n",
      "                                     'n_estimators': 80,\n",
      "                                     'random_state': 31415926,\n",
      "                                     'scale_pos_weight': 4.049180327868853,\n",
      "                                     'subsample': 0.5},\n",
      "                             'Metal': {'base_score': 0.5,\n",
      "                                       'learning_rate': 0.01,\n",
      "                                       'max_depth': 4,\n",
      "                                       'n_estimators': 40,\n",
      "                                       'random_state': 31415926,\n",
      "                                       'scale_pos_weight': 2.5813953488372094,\n",
      "                                       'subsample': 0.7},\n",
      "                             'Multiclass': {'base_score': 0.3,\n",
      "                                            'learning_rate': 0.01,\n",
      "                                            'max_depth': 5,\n",
      "                                            'n_estimators': 40,\n",
      "                                            'random_state': 31415926,\n",
      "                                            'subsample': 0.5}})])),\n",
      "             ('7',\n",
      "              OrderedDict([('XGBClassifier',\n",
      "                            {'Insulator': {'base_score': 0.3,\n",
      "                                           'learning_rate': 0.1,\n",
      "                                           'max_depth': 5,\n",
      "                                           'n_estimators': 100,\n",
      "                                           'random_state': 31415926,\n",
      "                                           'scale_pos_weight': 0.9130434782608695,\n",
      "                                           'subsample': 0.5},\n",
      "                             'MIT': {'base_score': 0.5,\n",
      "                                     'learning_rate': 0.1,\n",
      "                                     'max_depth': 3,\n",
      "                                     'n_estimators': 150,\n",
      "                                     'random_state': 31415926,\n",
      "                                     'scale_pos_weight': 4.049180327868853,\n",
      "                                     'subsample': 1.0},\n",
      "                             'Metal': {'base_score': 0.5,\n",
      "                                       'learning_rate': 0.01,\n",
      "                                       'max_depth': 5,\n",
      "                                       'n_estimators': 30,\n",
      "                                       'random_state': 31415926,\n",
      "                                       'scale_pos_weight': 2.5813953488372094,\n",
      "                                       'subsample': 0.5},\n",
      "                             'Multiclass': {'base_score': 0.3,\n",
      "                                            'learning_rate': 1.0,\n",
      "                                            'max_depth': 4,\n",
      "                                            'n_estimators': 200,\n",
      "                                            'random_state': 31415926,\n",
      "                                            'subsample': 0.5}})])),\n",
      "             ('8',\n",
      "              OrderedDict([('XGBClassifier',\n",
      "                            {'Insulator': {'base_score': 0.7,\n",
      "                                           'learning_rate': 0.1,\n",
      "                                           'max_depth': 4,\n",
      "                                           'n_estimators': 20,\n",
      "                                           'random_state': 31415926,\n",
      "                                           'scale_pos_weight': 0.9130434782608695,\n",
      "                                           'subsample': 1.0},\n",
      "                             'MIT': {'base_score': 0.7,\n",
      "                                     'learning_rate': 1.0,\n",
      "                                     'max_depth': 2,\n",
      "                                     'n_estimators': 200,\n",
      "                                     'random_state': 31415926,\n",
      "                                     'scale_pos_weight': 4.049180327868853,\n",
      "                                     'subsample': 0.5},\n",
      "                             'Metal': {'base_score': 0.3,\n",
      "                                       'learning_rate': 1.0,\n",
      "                                       'max_depth': 2,\n",
      "                                       'n_estimators': 20,\n",
      "                                       'random_state': 31415926,\n",
      "                                       'scale_pos_weight': 2.5813953488372094,\n",
      "                                       'subsample': 0.9},\n",
      "                             'Multiclass': {'base_score': 0.3,\n",
      "                                            'learning_rate': 0.1,\n",
      "                                            'max_depth': 2,\n",
      "                                            'n_estimators': 80,\n",
      "                                            'random_state': 31415926,\n",
      "                                            'subsample': 1.0}})])),\n",
      "             ('9',\n",
      "              OrderedDict([('XGBClassifier',\n",
      "                            {'Insulator': {'base_score': 0.3,\n",
      "                                           'learning_rate': 0.1,\n",
      "                                           'max_depth': 5,\n",
      "                                           'n_estimators': 30,\n",
      "                                           'random_state': 31415926,\n",
      "                                           'scale_pos_weight': 0.9130434782608695,\n",
      "                                           'subsample': 0.9},\n",
      "                             'MIT': {'base_score': 0.3,\n",
      "                                     'learning_rate': 1.0,\n",
      "                                     'max_depth': 2,\n",
      "                                     'n_estimators': 100,\n",
      "                                     'random_state': 31415926,\n",
      "                                     'scale_pos_weight': 4.049180327868853,\n",
      "                                     'subsample': 0.9},\n",
      "                             'Metal': {'base_score': 0.3,\n",
      "                                       'learning_rate': 0.1,\n",
      "                                       'max_depth': 3,\n",
      "                                       'n_estimators': 20,\n",
      "                                       'random_state': 31415926,\n",
      "                                       'scale_pos_weight': 2.5813953488372094,\n",
      "                                       'subsample': 0.8},\n",
      "                             'Multiclass': {'base_score': 0.3,\n",
      "                                            'learning_rate': 0.1,\n",
      "                                            'max_depth': 2,\n",
      "                                            'n_estimators': 150,\n",
      "                                            'random_state': 31415926,\n",
      "                                            'subsample': 1.0}})]))])\n"
     ]
    }
   ],
   "source": [
    "pprint.pprint(best_params)"
   ]
  },
  {
   "cell_type": "markdown",
   "metadata": {},
   "source": [
    "# Evaluate the tuned model with the test set"
   ]
  },
  {
   "cell_type": "code",
   "execution_count": 15,
   "metadata": {},
   "outputs": [
    {
     "name": "stdout",
     "output_type": "stream",
     "text": [
      "\n",
      "----------------------------------------------------------------------\n",
      "Model type: XGBClassifier\n",
      "Evaluating the Metal vs. non-Metal binary classifier on train test splits with the following seeds\n",
      "[0 1 2 3 4 5 6 7 8 9]\n",
      "Median precision_score_weighted: 0.90 w/ IQR: 0.06\n",
      "Median recall_score_weighted: 0.90 w/ IQR: 0.06\n",
      "Median roc_auc_score_weighted: 0.84 w/ IQR: 0.08\n",
      "Median f1_score_weighted: 0.90 w/ IQR: 0.06\n",
      "\n",
      "----------------------------------------------------------------------\n",
      "Model type: XGBClassifier\n",
      "Evaluating the Insulator vs. non-Insulator binary classifier on train test splits with the following seeds\n",
      "[0 1 2 3 4 5 6 7 8 9]\n",
      "Median precision_score_weighted: 0.83 w/ IQR: 0.07\n",
      "Median recall_score_weighted: 0.81 w/ IQR: 0.06\n",
      "Median roc_auc_score_weighted: 0.82 w/ IQR: 0.06\n",
      "Median f1_score_weighted: 0.81 w/ IQR: 0.06\n",
      "\n",
      "----------------------------------------------------------------------\n",
      "Model type: XGBClassifier\n",
      "Evaluating the MIT vs. non-MIT binary classifier on train test splits with the following seeds\n",
      "[0 1 2 3 4 5 6 7 8 9]\n",
      "Median precision_score_weighted: 0.91 w/ IQR: 0.08\n",
      "Median recall_score_weighted: 0.90 w/ IQR: 0.07\n",
      "Median roc_auc_score_weighted: 0.83 w/ IQR: 0.14\n",
      "Median f1_score_weighted: 0.90 w/ IQR: 0.08\n"
     ]
    }
   ],
   "source": [
    "metrics_dicts = []\n",
    "metric_funcs = [precision_score, recall_score, roc_auc_score, f1_score]\n",
    "average_method = \"weighted\"\n",
    "# iterate through all the model types\n",
    "for model in lst_of_models:\n",
    "    # get the model type name\n",
    "    model_name = model.__name__\n",
    "    # iterate through the classification tasks\n",
    "    for choice in [\"Metal\", \"Insulator\", \"MIT\"]:\n",
    "        results = OrderedDict()\n",
    "        # initialize a dictionary to store the metric results\n",
    "        for metric_name in [func.__name__ for func in metric_funcs]:\n",
    "            results[metric_name] = []\n",
    "        # iterate through all the train test split seeds\n",
    "        for i, split_seed in enumerate(SPLIT_RANDOM_SEEDS):\n",
    "            # get the tuned hyperparameters for a given combo of split seed, model name, and classification tasks \n",
    "            best_params_split_seed = best_params[str(split_seed)][model_name][choice]\n",
    "            # initialize the model with tuned hyperparameters\n",
    "            eval_model = model(**best_params_split_seed)\n",
    "            # get the train test splits\n",
    "            df_eval_train = splits[i][0]\n",
    "            df_eval_test = splits[i][1]\n",
    "            # process the data into the proper input format\n",
    "            X_train, y_train = load_data(df_eval_train, choice)\n",
    "            X_test, y_test = load_data(df_eval_test, choice)\n",
    "            # fit the model on the training data set\n",
    "            eval_model.fit(X_train, y_train)\n",
    "            # predict the labels for the test set\n",
    "            y_pred = eval_model.predict(X_test)\n",
    "            # iterate through the metrics\n",
    "            for metric_func in metric_funcs:\n",
    "                # get the metric value\n",
    "                if choice == \"Multiclass\" and metric_func.__name__ == \"roc_auc_score\":\n",
    "                    ohot = LabelBinarizer()\n",
    "                    ytest = ohot.fit_transform(y_test)\n",
    "                    ypred = ohot.fit_transform(y_pred)\n",
    "                    metric_value = metric_func(ytest, ypred, average=average_method, multi_class=\"ovr\")\n",
    "                else:\n",
    "                    metric_value = metric_func(y_test, y_pred, average=average_method)\n",
    "                # add the metric value to the list\n",
    "                results[metric_func.__name__].append(metric_value)\n",
    "        print(\"\\n----------------------------------------------------------------------\")\n",
    "        print(\"Model type: %s\" % model_name)\n",
    "        if choice == \"Multiclass\":\n",
    "            print(\"Evaluating the Multiclass classifier on train test splits with the following seeds\\n%s\" % SPLIT_RANDOM_SEEDS)\n",
    "        else:\n",
    "            print(\"Evaluating the %s vs. non-%s binary classifier on train test splits with the following seeds\\n%s\" % (choice, choice, SPLIT_RANDOM_SEEDS))\n",
    "        for key, metric_values in results.items():\n",
    "            print(\"Median %s: %.2f w/ IQR: %.2f\" % (key+\"_\"+average_method, np.median(metric_values), iqr(metric_values)))\n",
    "            metrics_dict = {\"model_type\": model_name, \"feature_set\": \"holdout_test\", \"positive_class\": choice, \n",
    "                            \"metric_name\": key+\"_\"+average_method, \"metric_value\": np.median(metric_values), \"raw_metric\": metric_values}\n",
    "            metrics_dicts.append(metrics_dict)"
   ]
  },
  {
   "cell_type": "code",
   "execution_count": 19,
   "metadata": {},
   "outputs": [
    {
     "data": {
      "text/html": [
       "<div>\n",
       "<style scoped>\n",
       "    .dataframe tbody tr th:only-of-type {\n",
       "        vertical-align: middle;\n",
       "    }\n",
       "\n",
       "    .dataframe tbody tr th {\n",
       "        vertical-align: top;\n",
       "    }\n",
       "\n",
       "    .dataframe thead th {\n",
       "        text-align: right;\n",
       "    }\n",
       "</style>\n",
       "<table border=\"1\" class=\"dataframe\">\n",
       "  <thead>\n",
       "    <tr style=\"text-align: right;\">\n",
       "      <th></th>\n",
       "      <th>model_type</th>\n",
       "      <th>feature_set</th>\n",
       "      <th>positive_class</th>\n",
       "      <th>metric_name</th>\n",
       "      <th>metric_value</th>\n",
       "      <th>raw_metric</th>\n",
       "    </tr>\n",
       "  </thead>\n",
       "  <tbody>\n",
       "    <tr>\n",
       "      <th>0</th>\n",
       "      <td>XGBClassifier</td>\n",
       "      <td>holdout_test</td>\n",
       "      <td>Metal</td>\n",
       "      <td>precision_score_weighted</td>\n",
       "      <td>0.899115</td>\n",
       "      <td>[0.9182900432900433, 0.7908163265306122, 0.884...</td>\n",
       "    </tr>\n",
       "    <tr>\n",
       "      <th>1</th>\n",
       "      <td>XGBClassifier</td>\n",
       "      <td>holdout_test</td>\n",
       "      <td>Metal</td>\n",
       "      <td>recall_score_weighted</td>\n",
       "      <td>0.900000</td>\n",
       "      <td>[0.9142857142857143, 0.8, 0.8857142857142857, ...</td>\n",
       "    </tr>\n",
       "    <tr>\n",
       "      <th>2</th>\n",
       "      <td>XGBClassifier</td>\n",
       "      <td>holdout_test</td>\n",
       "      <td>Metal</td>\n",
       "      <td>roc_auc_score_weighted</td>\n",
       "      <td>0.845000</td>\n",
       "      <td>[0.91, 0.7100000000000001, 0.83, 0.81, 0.9, 0....</td>\n",
       "    </tr>\n",
       "    <tr>\n",
       "      <th>3</th>\n",
       "      <td>XGBClassifier</td>\n",
       "      <td>holdout_test</td>\n",
       "      <td>Metal</td>\n",
       "      <td>f1_score_weighted</td>\n",
       "      <td>0.895356</td>\n",
       "      <td>[0.9154518950437319, 0.788013318534961, 0.8815...</td>\n",
       "    </tr>\n",
       "    <tr>\n",
       "      <th>4</th>\n",
       "      <td>XGBClassifier</td>\n",
       "      <td>holdout_test</td>\n",
       "      <td>Insulator</td>\n",
       "      <td>precision_score_weighted</td>\n",
       "      <td>0.833123</td>\n",
       "      <td>[0.8732919254658386, 0.8013071895424837, 0.858...</td>\n",
       "    </tr>\n",
       "    <tr>\n",
       "      <th>5</th>\n",
       "      <td>XGBClassifier</td>\n",
       "      <td>holdout_test</td>\n",
       "      <td>Insulator</td>\n",
       "      <td>recall_score_weighted</td>\n",
       "      <td>0.814286</td>\n",
       "      <td>[0.8285714285714286, 0.8, 0.8571428571428571, ...</td>\n",
       "    </tr>\n",
       "    <tr>\n",
       "      <th>6</th>\n",
       "      <td>XGBClassifier</td>\n",
       "      <td>holdout_test</td>\n",
       "      <td>Insulator</td>\n",
       "      <td>roc_auc_score_weighted</td>\n",
       "      <td>0.816993</td>\n",
       "      <td>[0.8333333333333333, 0.8006535947712418, 0.857...</td>\n",
       "    </tr>\n",
       "    <tr>\n",
       "      <th>7</th>\n",
       "      <td>XGBClassifier</td>\n",
       "      <td>holdout_test</td>\n",
       "      <td>Insulator</td>\n",
       "      <td>f1_score_weighted</td>\n",
       "      <td>0.812143</td>\n",
       "      <td>[0.8242857142857143, 0.8, 0.8571428571428571, ...</td>\n",
       "    </tr>\n",
       "    <tr>\n",
       "      <th>8</th>\n",
       "      <td>XGBClassifier</td>\n",
       "      <td>holdout_test</td>\n",
       "      <td>MIT</td>\n",
       "      <td>precision_score_weighted</td>\n",
       "      <td>0.907029</td>\n",
       "      <td>[0.8857142857142857, 0.9225806451612902, 0.942...</td>\n",
       "    </tr>\n",
       "    <tr>\n",
       "      <th>9</th>\n",
       "      <td>XGBClassifier</td>\n",
       "      <td>holdout_test</td>\n",
       "      <td>MIT</td>\n",
       "      <td>recall_score_weighted</td>\n",
       "      <td>0.900000</td>\n",
       "      <td>[0.8857142857142857, 0.9142857142857143, 0.942...</td>\n",
       "    </tr>\n",
       "    <tr>\n",
       "      <th>10</th>\n",
       "      <td>XGBClassifier</td>\n",
       "      <td>holdout_test</td>\n",
       "      <td>MIT</td>\n",
       "      <td>roc_auc_score_weighted</td>\n",
       "      <td>0.830357</td>\n",
       "      <td>[0.8214285714285715, 0.7857142857142857, 0.910...</td>\n",
       "    </tr>\n",
       "    <tr>\n",
       "      <th>11</th>\n",
       "      <td>XGBClassifier</td>\n",
       "      <td>holdout_test</td>\n",
       "      <td>MIT</td>\n",
       "      <td>f1_score_weighted</td>\n",
       "      <td>0.897759</td>\n",
       "      <td>[0.8857142857142857, 0.9047765793528504, 0.942...</td>\n",
       "    </tr>\n",
       "  </tbody>\n",
       "</table>\n",
       "</div>"
      ],
      "text/plain": [
       "       model_type   feature_set positive_class               metric_name  \\\n",
       "0   XGBClassifier  holdout_test          Metal  precision_score_weighted   \n",
       "1   XGBClassifier  holdout_test          Metal     recall_score_weighted   \n",
       "2   XGBClassifier  holdout_test          Metal    roc_auc_score_weighted   \n",
       "3   XGBClassifier  holdout_test          Metal         f1_score_weighted   \n",
       "4   XGBClassifier  holdout_test      Insulator  precision_score_weighted   \n",
       "5   XGBClassifier  holdout_test      Insulator     recall_score_weighted   \n",
       "6   XGBClassifier  holdout_test      Insulator    roc_auc_score_weighted   \n",
       "7   XGBClassifier  holdout_test      Insulator         f1_score_weighted   \n",
       "8   XGBClassifier  holdout_test            MIT  precision_score_weighted   \n",
       "9   XGBClassifier  holdout_test            MIT     recall_score_weighted   \n",
       "10  XGBClassifier  holdout_test            MIT    roc_auc_score_weighted   \n",
       "11  XGBClassifier  holdout_test            MIT         f1_score_weighted   \n",
       "\n",
       "    metric_value                                         raw_metric  \n",
       "0       0.899115  [0.9182900432900433, 0.7908163265306122, 0.884...  \n",
       "1       0.900000  [0.9142857142857143, 0.8, 0.8857142857142857, ...  \n",
       "2       0.845000  [0.91, 0.7100000000000001, 0.83, 0.81, 0.9, 0....  \n",
       "3       0.895356  [0.9154518950437319, 0.788013318534961, 0.8815...  \n",
       "4       0.833123  [0.8732919254658386, 0.8013071895424837, 0.858...  \n",
       "5       0.814286  [0.8285714285714286, 0.8, 0.8571428571428571, ...  \n",
       "6       0.816993  [0.8333333333333333, 0.8006535947712418, 0.857...  \n",
       "7       0.812143  [0.8242857142857143, 0.8, 0.8571428571428571, ...  \n",
       "8       0.907029  [0.8857142857142857, 0.9225806451612902, 0.942...  \n",
       "9       0.900000  [0.8857142857142857, 0.9142857142857143, 0.942...  \n",
       "10      0.830357  [0.8214285714285715, 0.7857142857142857, 0.910...  \n",
       "11      0.897759  [0.8857142857142857, 0.9047765793528504, 0.942...  "
      ]
     },
     "execution_count": 19,
     "metadata": {},
     "output_type": "execute_result"
    }
   ],
   "source": [
    "holdout_test_metrics = pd.DataFrame.from_records(metrics_dicts)\n",
    "holdout_test_metrics"
   ]
  },
  {
   "cell_type": "code",
   "execution_count": 20,
   "metadata": {},
   "outputs": [],
   "source": [
    "holdout_test_metrics = holdout_test_metrics.replace({\"metric_name\": {\"precision_score_weighted\": \"precision_weighted\",\n",
    "                                                                     \"recall_score_weighted\": \"recall_weighted\",\n",
    "                                                                     \"roc_auc_score_weighted\": \"roc_auc\",\n",
    "                                                                     \"f1_score_weighted\": \"f1_weighted\"}})"
   ]
  },
  {
   "cell_type": "code",
   "execution_count": 21,
   "metadata": {},
   "outputs": [],
   "source": [
    "holdout_test_metrics.to_excel(\"../data/processed/train_test_split_model_metrics.xlsx\", index=False)"
   ]
  }
 ],
 "metadata": {
  "kernelspec": {
   "display_name": "PyCharm (mit_model_code)",
   "language": "python",
   "name": "pycharm-43a0cb91"
  },
  "language_info": {
   "codemirror_mode": {
    "name": "ipython",
    "version": 3
   },
   "file_extension": ".py",
   "mimetype": "text/x-python",
   "name": "python",
   "nbconvert_exporter": "python",
   "pygments_lexer": "ipython3",
   "version": "3.7.4"
  }
 },
 "nbformat": 4,
 "nbformat_minor": 4
}
